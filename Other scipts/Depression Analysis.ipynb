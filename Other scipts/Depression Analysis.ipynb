{
 "cells": [
  {
   "cell_type": "code",
   "execution_count": 1,
   "id": "5f2c9de0",
   "metadata": {},
   "outputs": [],
   "source": [
    "import torch\n",
    "import numpy as np\n",
    "import matplotlib.pyplot as plt"
   ]
  },
  {
   "cell_type": "markdown",
   "id": "cd1db8a6",
   "metadata": {},
   "source": [
    "# Gender Analysis\n",
    "\n",
    "Gender 0 for female & Gender 1 for male"
   ]
  },
  {
   "cell_type": "code",
   "execution_count": 22,
   "id": "0522ee86",
   "metadata": {},
   "outputs": [],
   "source": [
    "batch = torch.load('temp/batch_0.pt')"
   ]
  },
  {
   "cell_type": "code",
   "execution_count": 23,
   "id": "2fad65db",
   "metadata": {
    "scrolled": true
   },
   "outputs": [
    {
     "data": {
      "text/plain": [
       "{'ID': tensor([467, 359, 421, 453, 349, 361, 384, 410, 442, 411, 337, 470, 332, 481,\n",
       "         308, 384, 373, 311, 301, 410, 438, 359, 332, 314, 408, 431, 384, 323,\n",
       "         359, 332, 314, 378, 332, 349, 337, 442, 405, 435, 311, 311, 334, 311,\n",
       "         481, 384, 466, 332, 405, 359, 314, 442, 306, 308, 314, 309, 481, 308,\n",
       "         435, 334, 349, 435, 435, 481, 337, 435, 311, 410, 359, 337, 359, 410,\n",
       "         314, 481, 405, 387, 308, 462, 365, 337, 332, 435, 442, 337, 354, 442,\n",
       "         332, 424, 411, 311, 306, 308, 387, 431, 384, 308, 300, 332, 384, 442,\n",
       "         405, 469]),\n",
       " 'gender_gt': tensor([1., 1., 0., 1., 1., 1., 1., 0., 1., 0., 0., 0., 0., 1., 0., 1., 1., 0.,\n",
       "         1., 0., 0., 1., 0., 0., 0., 0., 1., 0., 1., 0., 0., 0., 0., 1., 0., 1.,\n",
       "         0., 0., 0., 0., 1., 0., 1., 1., 0., 0., 0., 1., 0., 1., 0., 0., 0., 1.,\n",
       "         1., 0., 0., 1., 1., 0., 0., 1., 0., 0., 0., 0., 1., 0., 1., 0., 0., 1.,\n",
       "         0., 1., 0., 0., 1., 0., 0., 0., 1., 0., 1., 1., 0., 0., 0., 0., 0., 0.,\n",
       "         1., 0., 1., 0., 1., 0., 1., 1., 0., 0.]),\n",
       " 'phq_binary_gt': tensor([0., 1., 1., 1., 0., 0., 1., 1., 0., 0., 1., 0., 1., 0., 1., 1., 0., 1.,\n",
       "         0., 1., 0., 1., 1., 0., 0., 0., 1., 0., 1., 1., 0., 0., 1., 0., 1., 0.,\n",
       "         1., 0., 1., 1., 0., 1., 0., 1., 0., 1., 1., 1., 0., 0., 0., 1., 0., 1.,\n",
       "         0., 1., 0., 0., 0., 0., 0., 0., 1., 0., 1., 1., 1., 1., 1., 1., 0., 0.,\n",
       "         1., 0., 1., 0., 1., 1., 1., 0., 0., 1., 1., 0., 1., 0., 0., 1., 0., 1.,\n",
       "         0., 0., 1., 1., 0., 1., 1., 0., 1., 0.]),\n",
       " 'phq_score_gt': tensor([ 0., 13., 10., 17.,  5.,  0., 15., 12.,  6.,  0., 10.,  3., 18.,  7.,\n",
       "         22., 15.,  9., 21.,  3., 12.,  2., 13., 18.,  1.,  0.,  2., 15.,  1.,\n",
       "         13., 18.,  1.,  1., 18.,  5., 10.,  6., 17.,  8., 21., 21.,  5., 21.,\n",
       "          7., 15.,  9., 18., 17., 13.,  1.,  6.,  0., 22.,  1., 15.,  7., 22.,\n",
       "          8.,  5.,  5.,  8.,  8.,  7., 10.,  8., 21., 12., 13., 10., 13., 12.,\n",
       "          1.,  7., 17.,  2., 22.,  9., 12., 10., 18.,  8.,  6., 10., 18.,  6.,\n",
       "         18.,  3.,  0., 21.,  0., 22.,  2.,  2., 15., 22.,  2., 18., 15.,  6.,\n",
       "         17.,  3.]),\n",
       " 'audio': tensor([[[ 1.4458,  1.4820,  1.4771,  ...,  1.3859,  1.6281,  1.6592],\n",
       "          [ 1.9379,  1.9283,  1.9048,  ...,  1.5011,  1.3737,  1.4452],\n",
       "          [ 1.6430,  1.6404,  1.6281,  ...,  1.4403,  1.4588,  1.3163],\n",
       "          ...,\n",
       "          [-1.6856, -1.6856, -1.6856,  ..., -1.4801, -1.4733, -1.6856],\n",
       "          [-1.6856, -1.6856, -1.6856,  ..., -1.6856, -1.6856, -1.6856],\n",
       "          [-1.6856, -1.6856, -1.6856,  ..., -1.6856, -1.6856, -1.6856]],\n",
       " \n",
       "         [[ 1.3676,  1.7022,  1.7270,  ...,  0.0000,  0.0000,  0.0000],\n",
       "          [ 1.4874,  1.2845,  1.3146,  ...,  0.0000,  0.0000,  0.0000],\n",
       "          [ 1.6291,  0.8534,  1.5255,  ...,  0.0000,  0.0000,  0.0000],\n",
       "          ...,\n",
       "          [-1.2003, -0.8824, -1.1702,  ...,  0.0000,  0.0000,  0.0000],\n",
       "          [-1.2003, -1.1546, -1.2003,  ...,  0.0000,  0.0000,  0.0000],\n",
       "          [-1.2003, -1.2003, -1.2003,  ...,  0.0000,  0.0000,  0.0000]],\n",
       " \n",
       "         [[ 1.5869,  1.4792,  1.6561,  ...,  1.2767,  1.2547,  1.1178],\n",
       "          [ 1.2130,  0.9186,  0.0935,  ...,  0.0333,  0.1925,  0.1235],\n",
       "          [ 0.5531,  0.3912, -0.2982,  ...,  0.0395, -0.1798, -0.1725],\n",
       "          ...,\n",
       "          [-0.9709, -1.1340, -1.2717,  ..., -1.1323, -1.2603, -1.0809],\n",
       "          [-1.0824, -1.2717, -1.2717,  ..., -1.2717, -1.2717, -1.2717],\n",
       "          [-1.2717, -1.2717, -1.2717,  ..., -1.2717, -1.2717, -1.2717]],\n",
       " \n",
       "         ...,\n",
       " \n",
       "         [[ 0.2149,  0.2561,  0.1820,  ...,  1.1128,  0.8444,  1.1497],\n",
       "          [ 0.0231,  0.0131, -0.1742,  ...,  1.4161,  1.6296,  1.2593],\n",
       "          [-0.2985, -0.1867, -0.0936,  ...,  2.4782,  2.3190,  1.6388],\n",
       "          ...,\n",
       "          [-1.6206, -1.6206, -1.6206,  ..., -0.7292, -0.0209, -0.0170],\n",
       "          [-1.6206, -1.6206, -1.6206,  ..., -1.0056, -0.2317, -0.1924],\n",
       "          [-1.6206, -1.6206, -1.6206,  ..., -1.2089, -0.4695, -0.3924]],\n",
       " \n",
       "         [[ 0.8978,  0.7322,  0.5899,  ...,  0.5434,  0.5113,  0.7141],\n",
       "          [ 0.1635, -0.1009,  0.2550,  ...,  0.3213,  0.2186,  1.0993],\n",
       "          [ 0.1303, -0.1339,  0.2299,  ...,  0.6725,  0.9561,  1.2648],\n",
       "          ...,\n",
       "          [-1.3099, -1.3099, -1.3099,  ..., -1.1669, -1.0885, -1.0853],\n",
       "          [-1.3099, -1.3099, -1.3099,  ..., -1.3099, -1.3099, -1.3099],\n",
       "          [-1.3099, -1.1206, -1.1515,  ..., -1.3099, -1.3099, -1.3099]],\n",
       " \n",
       "         [[ 1.6996,  1.4599,  0.8639,  ...,  0.7444,  0.6360,  0.9078],\n",
       "          [ 0.2980,  0.0866, -0.0490,  ...,  0.2623,  0.2059,  0.4665],\n",
       "          [ 0.4133,  0.1202, -0.1473,  ...,  0.9363,  0.9102,  0.8241],\n",
       "          ...,\n",
       "          [-1.3213, -1.3213, -1.3213,  ..., -1.3213, -1.3213, -1.3213],\n",
       "          [-1.3213, -1.3213, -1.3213,  ..., -1.3213, -1.3213, -1.3213],\n",
       "          [-1.3213, -1.3213, -1.3213,  ..., -1.3213, -1.3213, -1.3213]]])}"
      ]
     },
     "execution_count": 23,
     "metadata": {},
     "output_type": "execute_result"
    }
   ],
   "source": [
    "batch"
   ]
  },
  {
   "cell_type": "code",
   "execution_count": 24,
   "id": "0a3f9834",
   "metadata": {},
   "outputs": [],
   "source": [
    "# get each gender indices, numpy.ndarray\n",
    "female_idx = np.where(batch['gender_gt']==0)[0]\n",
    "male_idx = np.where(batch['gender_gt']==1)[0]"
   ]
  },
  {
   "cell_type": "code",
   "execution_count": 27,
   "id": "24e9c76b",
   "metadata": {},
   "outputs": [],
   "source": [
    "# get each gender GT\n",
    "female_phq_binary_gt = batch['phq_binary_gt'][female_idx]\n",
    "male_phq_binary_gt = batch['phq_binary_gt'][male_idx]"
   ]
  },
  {
   "cell_type": "code",
   "execution_count": 30,
   "id": "e6e58756",
   "metadata": {},
   "outputs": [
    {
     "data": {
      "text/plain": [
       "tensor([1., 1., 0., 1., 0., 1., 1., 1., 1., 0., 1., 0., 0., 0., 0., 1., 0., 0.,\n",
       "        1., 1., 1., 0., 1., 1., 1., 0., 1., 1., 0., 0., 1., 0., 1., 0., 0., 0.,\n",
       "        1., 0., 1., 1., 1., 1., 0., 1., 1., 0., 1., 1., 0., 1., 1., 0., 0., 1.,\n",
       "        0., 1., 0., 1., 1., 1., 0.])"
      ]
     },
     "execution_count": 30,
     "metadata": {},
     "output_type": "execute_result"
    }
   ],
   "source": [
    "female_phq_binary_gt"
   ]
  },
  {
   "cell_type": "code",
   "execution_count": 33,
   "id": "283b8b59",
   "metadata": {},
   "outputs": [
    {
     "data": {
      "text/plain": [
       "(61, 35, 26)"
      ]
     },
     "execution_count": 33,
     "metadata": {},
     "output_type": "execute_result"
    }
   ],
   "source": [
    "num_female_total = len(female_phq_binary_gt)\n",
    "num_female_depressed = len(np.where(female_phq_binary_gt==1)[0])\n",
    "num_female_notdepressed = len(np.where(female_phq_binary_gt==0)[0])\n",
    "\n",
    "num_female_total, num_female_depressed, num_female_notdepressed"
   ]
  },
  {
   "cell_type": "code",
   "execution_count": null,
   "id": "7b4a059e",
   "metadata": {},
   "outputs": [],
   "source": [
    "msg = ('  - Correlation:\\n'\n",
    "                   '      Spearman correlation: {0:8.6f}\\n').format(rho)\n",
    "log_and_print(base_logger, msg)"
   ]
  },
  {
   "cell_type": "code",
   "execution_count": 28,
   "id": "4ca24308",
   "metadata": {},
   "outputs": [
    {
     "data": {
      "text/plain": [
       "tensor([1., 1., 0., 1., 0., 1., 1., 1., 1., 0., 1., 0., 0., 0., 0., 1., 0., 0.,\n",
       "        1., 1., 1., 0., 1., 1., 1., 0., 1., 1., 0., 0., 1., 0., 1., 0., 0., 0.,\n",
       "        1., 0., 1., 1., 1., 1., 0., 1., 1., 0., 1., 1., 0., 1., 1., 0., 0., 1.,\n",
       "        0., 1., 0., 1., 1., 1., 0.])"
      ]
     },
     "execution_count": 28,
     "metadata": {},
     "output_type": "execute_result"
    }
   ],
   "source": [
    "female_phq_binary_gt"
   ]
  },
  {
   "cell_type": "code",
   "execution_count": 29,
   "id": "4619454d",
   "metadata": {},
   "outputs": [
    {
     "data": {
      "text/plain": [
       "tensor([0., 1., 1., 0., 0., 1., 0., 0., 1., 0., 0., 1., 1., 1., 0., 0., 0., 0.,\n",
       "        1., 1., 0., 1., 0., 0., 0., 0., 1., 1., 0., 0., 1., 0., 1., 0., 0., 1.,\n",
       "        0., 1., 0.])"
      ]
     },
     "execution_count": 29,
     "metadata": {},
     "output_type": "execute_result"
    }
   ],
   "source": [
    "male_phq_binary_gt"
   ]
  },
  {
   "cell_type": "code",
   "execution_count": null,
   "id": "8a302a4a",
   "metadata": {},
   "outputs": [],
   "source": [
    "columns = ['Participent ID', 'Binary GT', 'Final binary prediction', 'num_clips'] + ['clip_{:02}'.format(i+1) for i in range(20)]"
   ]
  },
  {
   "cell_type": "code",
   "execution_count": 38,
   "id": "bc1c862a",
   "metadata": {},
   "outputs": [],
   "source": [
    "id_clips_pred = np.zeros(10)\n",
    "id_clips_pred[:] = None \n",
    "id_clips_pred[:5] = [1, 0, 1, 1, 0]"
   ]
  },
  {
   "cell_type": "code",
   "execution_count": 41,
   "id": "6defa332",
   "metadata": {},
   "outputs": [
    {
     "data": {
      "text/plain": [
       "3.0"
      ]
     },
     "execution_count": 41,
     "metadata": {},
     "output_type": "execute_result"
    }
   ],
   "source": [
    "id_clips_pred[:5].sum()"
   ]
  },
  {
   "cell_type": "code",
   "execution_count": 42,
   "id": "80297032",
   "metadata": {},
   "outputs": [
    {
     "data": {
      "text/plain": [
       "5"
      ]
     },
     "execution_count": 42,
     "metadata": {},
     "output_type": "execute_result"
    }
   ],
   "source": [
    "int(5.5)"
   ]
  },
  {
   "cell_type": "code",
   "execution_count": null,
   "id": "95607750",
   "metadata": {},
   "outputs": [],
   "source": []
  },
  {
   "cell_type": "code",
   "execution_count": null,
   "id": "531aaede",
   "metadata": {},
   "outputs": [],
   "source": []
  },
  {
   "cell_type": "code",
   "execution_count": null,
   "id": "094766d5",
   "metadata": {},
   "outputs": [],
   "source": []
  },
  {
   "cell_type": "code",
   "execution_count": null,
   "id": "0aa7cded",
   "metadata": {},
   "outputs": [],
   "source": []
  },
  {
   "cell_type": "code",
   "execution_count": null,
   "id": "6b517bdb",
   "metadata": {},
   "outputs": [],
   "source": []
  }
 ],
 "metadata": {
  "kernelspec": {
   "display_name": "Python 3 (ipykernel)",
   "language": "python",
   "name": "python3"
  },
  "language_info": {
   "codemirror_mode": {
    "name": "ipython",
    "version": 3
   },
   "file_extension": ".py",
   "mimetype": "text/x-python",
   "name": "python",
   "nbconvert_exporter": "python",
   "pygments_lexer": "ipython3",
   "version": "3.8.3"
  }
 },
 "nbformat": 4,
 "nbformat_minor": 5
}
