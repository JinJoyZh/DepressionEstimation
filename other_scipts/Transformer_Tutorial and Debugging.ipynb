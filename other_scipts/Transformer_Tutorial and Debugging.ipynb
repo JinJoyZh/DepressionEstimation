{
 "cells": [
  {
   "cell_type": "markdown",
   "id": "ae8d87ca",
   "metadata": {},
   "source": [
    "# Start"
   ]
  },
  {
   "cell_type": "code",
   "execution_count": 2,
   "id": "ccc25c2e",
   "metadata": {},
   "outputs": [],
   "source": [
    "import math\n",
    "from typing import Tuple\n",
    "\n",
    "import torch\n",
    "from torch import nn, Tensor\n",
    "import torch.nn.functional as F\n",
    "from torch.nn import TransformerEncoder, TransformerEncoderLayer\n",
    "from torch.utils.data import dataset\n",
    "\n",
    "class TransformerModel(nn.Module):\n",
    "\n",
    "    def __init__(self, ntoken: int, d_model: int, nhead: int, d_hid: int,\n",
    "                 nlayers: int, dropout: float = 0.5):\n",
    "        super().__init__()\n",
    "        self.model_type = 'Transformer'\n",
    "        self.d_model = d_model\n",
    "        \n",
    "        self.encoder = nn.Embedding(ntoken, d_model)\n",
    "        self.pos_encoder = PositionalEncoding(d_model, dropout)\n",
    "        encoder_layers = TransformerEncoderLayer(d_model, nhead, d_hid, dropout)\n",
    "        self.transformer_encoder = TransformerEncoder(encoder_layers, nlayers)\n",
    "        self.decoder = nn.Linear(d_model, ntoken)\n",
    "\n",
    "        self.init_weights()\n",
    "\n",
    "    def init_weights(self) -> None:\n",
    "        initrange = 0.1\n",
    "        self.encoder.weight.data.uniform_(-initrange, initrange)\n",
    "        self.decoder.bias.data.zero_()\n",
    "        self.decoder.weight.data.uniform_(-initrange, initrange)\n",
    "\n",
    "    def forward(self, src: Tensor, src_mask: Tensor) -> Tensor:\n",
    "        \"\"\"\n",
    "        Args:\n",
    "            src: Tensor, shape [seq_len, batch_size]\n",
    "            src_mask: Tensor, shape [seq_len, seq_len]\n",
    "\n",
    "        Returns:\n",
    "            output Tensor of shape [seq_len, batch_size, ntoken]\n",
    "        \"\"\"\n",
    "        src = self.encoder(src) * math.sqrt(self.d_model)\n",
    "        src = self.pos_encoder(src)\n",
    "        output = self.transformer_encoder(src, src_mask)\n",
    "        output = self.decoder(output)\n",
    "        return output\n",
    "\n",
    "\n",
    "def generate_square_subsequent_mask(sz: int) -> Tensor:\n",
    "    \"\"\"Generates an upper-triangular matrix of -inf, with zeros on diag.\"\"\"\n",
    "    return torch.triu(torch.ones(sz, sz) * float('-inf'), diagonal=1)"
   ]
  },
  {
   "cell_type": "code",
   "execution_count": 3,
   "id": "bd36d9a3",
   "metadata": {},
   "outputs": [],
   "source": [
    "class PositionalEncoding(nn.Module):\n",
    "\n",
    "    def __init__(self, d_model: int, dropout: float = 0.1, max_len: int = 5000):\n",
    "        super().__init__()\n",
    "        self.dropout = nn.Dropout(p=dropout)\n",
    "\n",
    "        position = torch.arange(max_len).unsqueeze(1)\n",
    "        div_term = torch.exp(torch.arange(0, d_model, 2) * (-math.log(10000.0) / d_model))\n",
    "        pe = torch.zeros(max_len, 1, d_model)\n",
    "        pe[:, 0, 0::2] = torch.sin(position * div_term)\n",
    "        pe[:, 0, 1::2] = torch.cos(position * div_term)\n",
    "        self.register_buffer('pe', pe)\n",
    "\n",
    "    def forward(self, x: Tensor) -> Tensor:\n",
    "        \"\"\"\n",
    "        Args:\n",
    "            x: Tensor, shape [seq_len, batch_size, embedding_dim]\n",
    "        \"\"\"\n",
    "        x = x + self.pe[:x.size(0)]\n",
    "        return self.dropout(x)"
   ]
  },
  {
   "cell_type": "code",
   "execution_count": 4,
   "id": "238276ce",
   "metadata": {},
   "outputs": [],
   "source": [
    "from torchtext.datasets import WikiText2\n",
    "from torchtext.data.utils import get_tokenizer\n",
    "from torchtext.vocab import build_vocab_from_iterator\n",
    "\n",
    "train_iter = WikiText2(split='train')\n",
    "tokenizer = get_tokenizer('basic_english')\n",
    "vocab = build_vocab_from_iterator(map(tokenizer, train_iter), specials=['<unk>'])\n",
    "vocab.set_default_index(vocab['<unk>'])\n",
    "\n",
    "def data_process(raw_text_iter: dataset.IterableDataset) -> Tensor:\n",
    "    \"\"\"Converts raw text into a flat Tensor.\"\"\"\n",
    "    data = [torch.tensor(vocab(tokenizer(item)), dtype=torch.long) for item in raw_text_iter]\n",
    "    return torch.cat(tuple(filter(lambda t: t.numel() > 0, data)))\n",
    "\n",
    "# train_iter was \"consumed\" by the process of building the vocab,\n",
    "# so we have to create it again\n",
    "train_iter, val_iter, test_iter = WikiText2()\n",
    "train_data = data_process(train_iter)\n",
    "val_data = data_process(val_iter)\n",
    "test_data = data_process(test_iter)\n",
    "\n",
    "device = torch.device('cuda' if torch.cuda.is_available() else 'cpu')\n",
    "\n",
    "def batchify(data: Tensor, bsz: int) -> Tensor:\n",
    "    \"\"\"Divides the data into bsz separate sequences, removing extra elements\n",
    "    that wouldn't cleanly fit.\n",
    "\n",
    "    Args:\n",
    "        data: Tensor, shape [N]\n",
    "        bsz: int, batch size\n",
    "\n",
    "    Returns:\n",
    "        Tensor of shape [N // bsz, bsz]\n",
    "    \"\"\"\n",
    "    seq_len = data.size(0) // bsz\n",
    "    data = data[:seq_len * bsz]\n",
    "    data = data.view(bsz, seq_len).t().contiguous()\n",
    "    return data.to(device)\n",
    "\n",
    "batch_size = 20\n",
    "eval_batch_size = 10\n",
    "train_data = batchify(train_data, batch_size)  # shape [seq_len, batch_size]\n",
    "val_data = batchify(val_data, eval_batch_size)\n",
    "test_data = batchify(test_data, eval_batch_size)"
   ]
  },
  {
   "cell_type": "code",
   "execution_count": 12,
   "id": "3589575a",
   "metadata": {},
   "outputs": [
    {
     "name": "stdout",
     "output_type": "stream",
     "text": [
      "torch.Size([102499, 20])\n"
     ]
    },
    {
     "data": {
      "text/plain": [
       "tensor([[    9,    59,   564,   223,   443, 13627,     2,   539,  2872,  2464,\n",
       "             0,   313,  4513,     1,     5,    47,    66, 11652,  2435,     1],\n",
       "        [ 3849,    12,   300,  6302,  3989,  1930, 10559,   451,     4,     7,\n",
       "             2,  1511, 10115,   942,  2439,   572,     1,    47,    30,  1990],\n",
       "        [ 3869,   315,    19,    29,   939,     2,    10,  2139,  4916, 16615,\n",
       "           235,     3,    13,     7,    24,    17, 13737,    97,  7720,     4],\n",
       "        [  881,    67,   807,  5402,     6,    38, 28188,    25,     2,    77,\n",
       "             7,  2394,    17,   516,    14, 16403,  3714,  4618,    12,  1108],\n",
       "        [    9,   196,  6041,   190,   218, 11776,    17,     1,  1200,     2,\n",
       "             0,    10,   591,    40,  6004,     2,    50,     3,  3131,  3781]],\n",
       "       device='cuda:0')"
      ]
     },
     "execution_count": 12,
     "metadata": {},
     "output_type": "execute_result"
    }
   ],
   "source": [
    "print(train_data.shape)\n",
    "train_data[:5]"
   ]
  },
  {
   "cell_type": "code",
   "execution_count": 13,
   "id": "509a2391",
   "metadata": {},
   "outputs": [
    {
     "name": "stdout",
     "output_type": "stream",
     "text": [
      "torch.Size([21441, 10])\n"
     ]
    },
    {
     "data": {
      "text/plain": [
       "tensor([[    9,     7,  1934,   340,     3,     1,   148,  2154,   349,    32],\n",
       "        [ 9606,     1, 18113,     7,     9,   133,     7,   126,    51,  3490],\n",
       "        [25610,   110,   256,  7570,  1004,  3660,   845,    20,     8,    56],\n",
       "        [    9,   186,    11,     1,     6,    16,     1,  2877,   654,  1748],\n",
       "        [ 9606,  3049,    15,   146,  1289,     2,    67,   339,     4,     3]],\n",
       "       device='cuda:0')"
      ]
     },
     "execution_count": 13,
     "metadata": {},
     "output_type": "execute_result"
    }
   ],
   "source": [
    "print(val_data.shape)\n",
    "val_data[:5]"
   ]
  },
  {
   "cell_type": "code",
   "execution_count": 5,
   "id": "b3119550",
   "metadata": {},
   "outputs": [],
   "source": [
    "bptt = 35\n",
    "def get_batch(source: Tensor, i: int) -> Tuple[Tensor, Tensor]:\n",
    "    \"\"\"\n",
    "    Args:\n",
    "        source: Tensor, shape [full_seq_len, batch_size]\n",
    "        i: int\n",
    "\n",
    "    Returns:\n",
    "        tuple (data, target), where data has shape [seq_len, batch_size] and\n",
    "        target has shape [seq_len * batch_size]\n",
    "    \"\"\"\n",
    "    seq_len = min(bptt, len(source) - 1 - i)\n",
    "    data = source[i:i+seq_len]\n",
    "    target = source[i+1:i+1+seq_len].reshape(-1)\n",
    "    return data, target"
   ]
  },
  {
   "cell_type": "code",
   "execution_count": 6,
   "id": "61b6e09a",
   "metadata": {},
   "outputs": [],
   "source": [
    "ntokens = len(vocab)  # size of vocabulary\n",
    "emsize = 200  # embedding dimension\n",
    "d_hid = 200  # dimension of the feedforward network model in nn.TransformerEncoder\n",
    "nlayers = 2  # number of nn.TransformerEncoderLayer in nn.TransformerEncoder\n",
    "nhead = 2  # number of heads in nn.MultiheadAttention\n",
    "dropout = 0.2  # dropout probability\n",
    "model = TransformerModel(ntokens, emsize, nhead, d_hid, nlayers, dropout).to(device)"
   ]
  },
  {
   "cell_type": "code",
   "execution_count": 14,
   "id": "b30bf01c",
   "metadata": {},
   "outputs": [
    {
     "data": {
      "text/plain": [
       "28782"
      ]
     },
     "execution_count": 14,
     "metadata": {},
     "output_type": "execute_result"
    }
   ],
   "source": [
    "ntokens"
   ]
  },
  {
   "cell_type": "code",
   "execution_count": 18,
   "id": "4463008f",
   "metadata": {},
   "outputs": [
    {
     "name": "stdout",
     "output_type": "stream",
     "text": [
      "torch.Size([35, 20])\n"
     ]
    },
    {
     "data": {
      "text/plain": [
       "torch.Size([35, 20, 200])"
      ]
     },
     "execution_count": 18,
     "metadata": {},
     "output_type": "execute_result"
    }
   ],
   "source": [
    "print(train_data[:35].shape)\n",
    "model.encoder(train_data[:35]).shape"
   ]
  },
  {
   "cell_type": "code",
   "execution_count": 27,
   "id": "8ff587a6",
   "metadata": {},
   "outputs": [
    {
     "data": {
      "text/plain": [
       "torch.Size([35, 1, 200])"
      ]
     },
     "execution_count": 27,
     "metadata": {},
     "output_type": "execute_result"
    }
   ],
   "source": [
    "model.pos_encoder.pe[:35].shape"
   ]
  },
  {
   "cell_type": "code",
   "execution_count": 24,
   "id": "4a7d88ff",
   "metadata": {},
   "outputs": [
    {
     "data": {
      "text/plain": [
       "tensor([[[-0.7289,  1.8346,  0.4786,  ...,  1.4639, -1.4171,  0.0813],\n",
       "         [-0.8794, -0.1175,  1.4903,  ...,  0.2706, -0.8367, -0.3261],\n",
       "         [ 0.0000,  0.9132,  0.4607,  ...,  0.3973,  0.4494,  1.7791],\n",
       "         ...,\n",
       "         [ 0.0650,  0.0000,  1.1919,  ...,  0.0000, -1.4340,  0.3072],\n",
       "         [-1.2031, -0.4692,  1.4120,  ...,  0.4051, -1.3769,  2.4646],\n",
       "         [ 0.8749,  0.7204,  1.2893,  ...,  0.0000,  0.0000,  0.0000]],\n",
       "\n",
       "        [[ 2.4131,  0.0000,  0.0000,  ...,  2.6297, -1.5589,  0.2041],\n",
       "         [ 0.0000,  0.0508,  0.7145,  ...,  1.1957, -1.7035, -0.1074],\n",
       "         [ 1.2993,  0.1980,  0.0000,  ...,  0.2091,  0.0000,  0.0000],\n",
       "         ...,\n",
       "         [ 1.7394,  0.0000,  1.2292,  ...,  1.1448, -0.1162,  0.0000],\n",
       "         [ 1.8246,  0.0000,  2.4204,  ...,  0.1613,  0.7780,  0.0000],\n",
       "         [ 1.5124,  1.2966,  1.1471,  ...,  1.2086, -1.3884,  1.3919]],\n",
       "\n",
       "        [[ 0.0000, -0.9334, -0.5322,  ...,  1.8138,  0.5712,  0.0000],\n",
       "         [ 2.5898, -0.0424,  0.5627,  ...,  1.1992,  0.9277,  0.0000],\n",
       "         [ 1.9656, -0.1543,  1.4358,  ...,  0.2802,  0.0000,  0.9570],\n",
       "         ...,\n",
       "         [ 2.1778,  0.6477,  1.2961,  ...,  0.4442,  0.0000,  2.8495],\n",
       "         [ 1.8233, -0.1554,  2.9118,  ...,  0.4246,  0.5021,  1.3145],\n",
       "         [ 2.2666, -1.0581,  2.0663,  ...,  0.1993,  0.6628,  0.0000]],\n",
       "\n",
       "        ...,\n",
       "\n",
       "        [[-0.2079,  2.0725, -0.4389,  ...,  1.5431,  1.1459,  0.2755],\n",
       "         [ 2.4425, -0.4250, -2.5398,  ...,  2.4315,  0.0000, -0.2978],\n",
       "         [ 1.4621,  0.0000,  0.4451,  ...,  0.0000,  0.7823, -0.3076],\n",
       "         ...,\n",
       "         [-0.1724,  2.1998, -0.3730,  ...,  0.9142,  0.0000,  0.5808],\n",
       "         [ 0.0000,  2.4885, -1.9447,  ...,  1.4384,  0.6524,  1.0064],\n",
       "         [ 0.1966,  2.8073, -1.7594,  ...,  0.8975,  1.6663,  0.2457]],\n",
       "\n",
       "        [[ 0.0000,  0.0000, -1.9833,  ...,  0.8975,  1.6664,  0.2456],\n",
       "         [-0.1763, -0.5641, -2.7059,  ...,  0.0000, -0.1183,  0.0000],\n",
       "         [-0.5061,  0.4093, -0.5635,  ...,  0.0000,  0.0000,  0.0000],\n",
       "         ...,\n",
       "         [-0.3417, -1.3163, -0.4161,  ...,  2.1521,  0.1516,  0.0000],\n",
       "         [ 0.8673,  1.1291,  0.2793,  ...,  0.0000,  0.9100,  0.0780],\n",
       "         [-0.2599,  0.0000, -1.2446,  ...,  2.2006, -1.3681,  1.4147]],\n",
       "\n",
       "        [[ 1.6606, -0.6153,  0.0000,  ...,  2.0488, -0.7098,  0.0000],\n",
       "         [ 1.7914, -1.5987,  0.3607,  ...,  0.1993,  0.6671,  0.1464],\n",
       "         [ 1.7914, -1.5987,  0.3607,  ...,  0.1993,  0.6671,  0.0000],\n",
       "         ...,\n",
       "         [ 1.4170, -0.0680, -1.6790,  ...,  0.0000,  1.3734,  0.4552],\n",
       "         [ 1.7275, -1.9899, -0.2644,  ...,  1.7199,  1.0215,  1.4182],\n",
       "         [ 0.2647, -2.4729, -1.7444,  ...,  2.0820, -0.7058,  0.0000]]],\n",
       "       device='cuda:0', grad_fn=<FusedDropoutBackward0>)"
      ]
     },
     "execution_count": 24,
     "metadata": {},
     "output_type": "execute_result"
    }
   ],
   "source": [
    "model.pos_encoder(model.encoder(train_data[:35]) * math.sqrt(model.d_model))"
   ]
  },
  {
   "cell_type": "code",
   "execution_count": 7,
   "id": "c57242b4",
   "metadata": {},
   "outputs": [],
   "source": [
    "import copy\n",
    "import time\n",
    "\n",
    "criterion = nn.CrossEntropyLoss()\n",
    "lr = 5.0  # learning rate\n",
    "optimizer = torch.optim.SGD(model.parameters(), lr=lr)\n",
    "scheduler = torch.optim.lr_scheduler.StepLR(optimizer, 1.0, gamma=0.95)\n",
    "\n",
    "def train(model: nn.Module) -> None:\n",
    "    model.train()  # turn on train mode\n",
    "    total_loss = 0.\n",
    "    log_interval = 200\n",
    "    start_time = time.time()\n",
    "    src_mask = generate_square_subsequent_mask(bptt).to(device)\n",
    "\n",
    "    num_batches = len(train_data) // bptt\n",
    "    for batch, i in enumerate(range(0, train_data.size(0) - 1, bptt)):\n",
    "        data, targets = get_batch(train_data, i)\n",
    "        batch_size = data.size(0)\n",
    "        if batch_size != bptt:  # only on last batch\n",
    "            src_mask = src_mask[:batch_size, :batch_size]\n",
    "        output = model(data, src_mask)\n",
    "        loss = criterion(output.view(-1, ntokens), targets)\n",
    "\n",
    "        optimizer.zero_grad()\n",
    "        loss.backward()\n",
    "        torch.nn.utils.clip_grad_norm_(model.parameters(), 0.5)\n",
    "        optimizer.step()\n",
    "\n",
    "        total_loss += loss.item()\n",
    "        if batch % log_interval == 0 and batch > 0:\n",
    "            lr = scheduler.get_last_lr()[0]\n",
    "            ms_per_batch = (time.time() - start_time) * 1000 / log_interval\n",
    "            cur_loss = total_loss / log_interval\n",
    "            ppl = math.exp(cur_loss)\n",
    "            print(f'| epoch {epoch:3d} | {batch:5d}/{num_batches:5d} batches | '\n",
    "                  f'lr {lr:02.2f} | ms/batch {ms_per_batch:5.2f} | '\n",
    "                  f'loss {cur_loss:5.2f} | ppl {ppl:8.2f}')\n",
    "            total_loss = 0\n",
    "            start_time = time.time()\n",
    "\n",
    "def evaluate(model: nn.Module, eval_data: Tensor) -> float:\n",
    "    model.eval()  # turn on evaluation mode\n",
    "    total_loss = 0.\n",
    "    src_mask = generate_square_subsequent_mask(bptt).to(device)\n",
    "    with torch.no_grad():\n",
    "        for i in range(0, eval_data.size(0) - 1, bptt):\n",
    "            data, targets = get_batch(eval_data, i)\n",
    "            batch_size = data.size(0)\n",
    "            if batch_size != bptt:\n",
    "                src_mask = src_mask[:batch_size, :batch_size]\n",
    "            output = model(data, src_mask)\n",
    "            output_flat = output.view(-1, ntokens)\n",
    "            total_loss += batch_size * criterion(output_flat, targets).item()\n",
    "    return total_loss / (len(eval_data) - 1)"
   ]
  },
  {
   "cell_type": "code",
   "execution_count": null,
   "id": "a2f8e4da",
   "metadata": {},
   "outputs": [],
   "source": [
    "best_val_loss = float('inf')\n",
    "epochs = 3\n",
    "best_model = None\n",
    "\n",
    "for epoch in range(1, epochs + 1):\n",
    "    epoch_start_time = time.time()\n",
    "    train(model)\n",
    "    val_loss = evaluate(model, val_data)\n",
    "    val_ppl = math.exp(val_loss)\n",
    "    elapsed = time.time() - epoch_start_time\n",
    "    print('-' * 89)\n",
    "    print(f'| end of epoch {epoch:3d} | time: {elapsed:5.2f}s | '\n",
    "          f'valid loss {val_loss:5.2f} | valid ppl {val_ppl:8.2f}')\n",
    "    print('-' * 89)\n",
    "\n",
    "    if val_loss < best_val_loss:\n",
    "        best_val_loss = val_loss\n",
    "        best_model = copy.deepcopy(model)\n",
    "\n",
    "    scheduler.step()"
   ]
  },
  {
   "cell_type": "code",
   "execution_count": null,
   "id": "5b130947",
   "metadata": {},
   "outputs": [],
   "source": [
    "test_loss = evaluate(best_model, test_data)\n",
    "test_ppl = math.exp(test_loss)\n",
    "print('=' * 89)\n",
    "print(f'| End of training | test loss {test_loss:5.2f} | '\n",
    "      f'test ppl {test_ppl:8.2f}')\n",
    "print('=' * 89)"
   ]
  },
  {
   "cell_type": "code",
   "execution_count": null,
   "id": "8e2adc5f",
   "metadata": {},
   "outputs": [],
   "source": []
  },
  {
   "cell_type": "code",
   "execution_count": null,
   "id": "d91e1404",
   "metadata": {},
   "outputs": [],
   "source": []
  },
  {
   "cell_type": "code",
   "execution_count": null,
   "id": "429919e8",
   "metadata": {},
   "outputs": [],
   "source": []
  },
  {
   "cell_type": "code",
   "execution_count": null,
   "id": "64fdfb46",
   "metadata": {},
   "outputs": [],
   "source": []
  },
  {
   "cell_type": "code",
   "execution_count": null,
   "id": "c5b32fd0",
   "metadata": {},
   "outputs": [],
   "source": []
  },
  {
   "cell_type": "code",
   "execution_count": null,
   "id": "1fe6a3c1",
   "metadata": {},
   "outputs": [],
   "source": []
  },
  {
   "cell_type": "code",
   "execution_count": 1,
   "id": "04febf88",
   "metadata": {},
   "outputs": [],
   "source": [
    "import math\n",
    "from typing import Tuple\n",
    "\n",
    "import torch\n",
    "from torch import nn, Tensor\n",
    "import torch.nn.functional as F\n",
    "from torch.nn import TransformerEncoder, TransformerEncoderLayer\n",
    "from torch.utils.data import dataset\n",
    "\n",
    "class TransformerModel(nn.Module):\n",
    "\n",
    "    def __init__(self, ntoken: int, d_model: int, nhead: int, d_hid: int,\n",
    "                 nlayers: int, dropout: float = 0.5):\n",
    "        super().__init__()\n",
    "        self.model_type = 'Transformer'\n",
    "        self.pos_encoder = PositionalEncoding(d_model, dropout)\n",
    "        encoder_layers = TransformerEncoderLayer(d_model, nhead, d_hid, dropout)\n",
    "        self.transformer_encoder = TransformerEncoder(encoder_layers, nlayers)\n",
    "        self.encoder = nn.Embedding(ntoken, d_model)\n",
    "        self.d_model = d_model\n",
    "        self.decoder = nn.Linear(d_model, ntoken)\n",
    "\n",
    "        self.init_weights()\n",
    "\n",
    "    def init_weights(self) -> None:\n",
    "        initrange = 0.1\n",
    "        self.encoder.weight.data.uniform_(-initrange, initrange)\n",
    "        self.decoder.bias.data.zero_()\n",
    "        self.decoder.weight.data.uniform_(-initrange, initrange)\n",
    "\n",
    "    def forward(self, src: Tensor, src_mask: Tensor) -> Tensor:\n",
    "        \"\"\"\n",
    "        Args:\n",
    "            src: Tensor, shape [seq_len, batch_size]\n",
    "            src_mask: Tensor, shape [seq_len, seq_len]\n",
    "\n",
    "        Returns:\n",
    "            output Tensor of shape [seq_len, batch_size, ntoken]\n",
    "        \"\"\"\n",
    "#         em_src = self.encoder(src) * math.sqrt(self.d_model)\n",
    "        pos_src = self.pos_encoder(src * math.sqrt(self.d_model))\n",
    "        output_trans = self.transformer_encoder(pos_src, src_mask)\n",
    "        output_final = self.decoder(output_trans)\n",
    "        return pos_src, output_trans, output_final\n",
    "\n",
    "\n",
    "def generate_square_subsequent_mask(sz: int) -> Tensor:\n",
    "    \"\"\"Generates an upper-triangular matrix of -inf, with zeros on diag.\"\"\"\n",
    "    return torch.triu(torch.ones(sz, sz) * float('-inf'), diagonal=1)"
   ]
  },
  {
   "cell_type": "code",
   "execution_count": 41,
   "id": "ae97558f",
   "metadata": {},
   "outputs": [],
   "source": [
    "class PositionalEncoding(nn.Module):\n",
    "\n",
    "    def __init__(self, d_model: int, dropout: float = 0.1, max_len: int = 5000):\n",
    "        super().__init__()\n",
    "        self.dropout = nn.Dropout(p=dropout)\n",
    "\n",
    "        position = torch.arange(max_len).unsqueeze(1)\n",
    "        div_term = torch.exp(torch.arange(0, d_model, 2) * (-math.log(10000.0) / d_model))\n",
    "        pe = torch.zeros(max_len, 1, d_model)\n",
    "        pe[:, 0, 0::2] = torch.sin(position * div_term)\n",
    "        pe[:, 0, 1::2] = torch.cos(position * div_term)\n",
    "        self.register_buffer('pe', pe)\n",
    "\n",
    "    def forward(self, x: Tensor) -> Tensor:\n",
    "        \"\"\"\n",
    "        Args:\n",
    "            x: Tensor, shape [seq_len, batch_size, embedding_dim]\n",
    "        \"\"\"\n",
    "        x = x + self.pe[:x.size(0)]\n",
    "        return self.dropout(x)"
   ]
  },
  {
   "cell_type": "code",
   "execution_count": 42,
   "id": "62795b60",
   "metadata": {},
   "outputs": [],
   "source": [
    "from torchtext.datasets import WikiText2\n",
    "from torchtext.data.utils import get_tokenizer\n",
    "from torchtext.vocab import build_vocab_from_iterator\n",
    "\n",
    "train_iter = WikiText2(split='train')\n",
    "tokenizer = get_tokenizer('basic_english')\n",
    "vocab = build_vocab_from_iterator(map(tokenizer, train_iter), specials=['<unk>'])\n",
    "vocab.set_default_index(vocab['<unk>'])\n",
    "\n",
    "def data_process(raw_text_iter: dataset.IterableDataset) -> Tensor:\n",
    "    \"\"\"Converts raw text into a flat Tensor.\"\"\"\n",
    "    data = [torch.tensor(vocab(tokenizer(item)), dtype=torch.long) for item in raw_text_iter]\n",
    "    return torch.cat(tuple(filter(lambda t: t.numel() > 0, data)))\n",
    "\n",
    "# train_iter was \"consumed\" by the process of building the vocab,\n",
    "# so we have to create it again\n",
    "train_iter, val_iter, test_iter = WikiText2()\n",
    "train_data = data_process(train_iter)\n",
    "val_data = data_process(val_iter)\n",
    "test_data = data_process(test_iter)\n",
    "\n",
    "device = torch.device('cuda' if torch.cuda.is_available() else 'cpu')"
   ]
  },
  {
   "cell_type": "code",
   "execution_count": 43,
   "id": "e82eea09",
   "metadata": {},
   "outputs": [
    {
     "data": {
      "text/plain": [
       "(torch.Size([2049990]), 'torch.LongTensor')"
      ]
     },
     "execution_count": 43,
     "metadata": {},
     "output_type": "execute_result"
    }
   ],
   "source": [
    "train_data.shape, train_data.type()"
   ]
  },
  {
   "cell_type": "code",
   "execution_count": 44,
   "id": "7f1626fb",
   "metadata": {},
   "outputs": [],
   "source": [
    "def batchify(data: Tensor, bsz: int) -> Tensor:\n",
    "    \"\"\"Divides the data into bsz separate sequences, removing extra elements\n",
    "    that wouldn't cleanly fit.\n",
    "\n",
    "    Args:\n",
    "        data: Tensor, shape [N]\n",
    "        bsz: int, batch size\n",
    "\n",
    "    Returns:\n",
    "        Tensor of shape [N // bsz, bsz]\n",
    "    \"\"\"\n",
    "    seq_len = data.size(0) // bsz\n",
    "    data = data[:seq_len * bsz]\n",
    "    data = data.view(bsz, seq_len).t().contiguous()\n",
    "    return data.to(device)\n",
    "\n",
    "batch_size = 20\n",
    "eval_batch_size = 10\n",
    "train_data = batchify(train_data, batch_size)  # shape [seq_len, batch_size]\n",
    "val_data = batchify(val_data, eval_batch_size)\n",
    "test_data = batchify(test_data, eval_batch_size)"
   ]
  },
  {
   "cell_type": "code",
   "execution_count": 45,
   "id": "1df04bba",
   "metadata": {},
   "outputs": [
    {
     "data": {
      "text/plain": [
       "torch.Size([102499, 20])"
      ]
     },
     "execution_count": 45,
     "metadata": {},
     "output_type": "execute_result"
    }
   ],
   "source": [
    "train_data.size()"
   ]
  },
  {
   "cell_type": "code",
   "execution_count": 46,
   "id": "f375b699",
   "metadata": {},
   "outputs": [],
   "source": [
    "bptt = 35\n",
    "def get_batch(source: Tensor, i: int) -> Tuple[Tensor, Tensor]:\n",
    "    \"\"\"\n",
    "    Args:\n",
    "        source: Tensor, shape [full_seq_len, batch_size]\n",
    "        i: int\n",
    "\n",
    "    Returns:\n",
    "        tuple (data, target), where data has shape [seq_len, batch_size] and\n",
    "        target has shape [seq_len * batch_size]\n",
    "    \"\"\"\n",
    "    seq_len = min(bptt, len(source) - 1 - i)\n",
    "    data = source[i:i+seq_len]\n",
    "    target = source[i+1:i+1+seq_len].reshape(-1)\n",
    "    return data, target"
   ]
  },
  {
   "cell_type": "code",
   "execution_count": 58,
   "id": "4103e312",
   "metadata": {},
   "outputs": [],
   "source": [
    "ntokens = 1024  # size of vocabulary\n",
    "d_model = 768  # embedding dimension\n",
    "nhead = 2  # number of heads in nn.MultiheadAttention\n",
    "d_hid = 768  # dimension of the feedforward network model in nn.TransformerEncoder\n",
    "nlayers = 2  # number of nn.TransformerEncoderLayer in nn.TransformerEncoder\n",
    "dropout = 0.2  # dropout probability\n",
    "model = TransformerModel(ntokens, d_model, nhead, d_hid, nlayers, dropout).to(device)"
   ]
  },
  {
   "cell_type": "code",
   "execution_count": 9,
   "id": "b2744930",
   "metadata": {},
   "outputs": [],
   "source": [
    "# for batch, i in enumerate(range(0, train_data.size(0) - 1, bptt)):\n",
    "#     data, targets = get_batch(train_data, i)\n",
    "#     print(data.size())\n",
    "#     print(targets.size())\n",
    "#     batch_size = data.size(0)"
   ]
  },
  {
   "cell_type": "code",
   "execution_count": 10,
   "id": "746f0aed",
   "metadata": {},
   "outputs": [
    {
     "data": {
      "text/plain": [
       "2928"
      ]
     },
     "execution_count": 10,
     "metadata": {},
     "output_type": "execute_result"
    }
   ],
   "source": [
    "num_batches = len(train_data) // bptt\n",
    "num_batches"
   ]
  },
  {
   "cell_type": "code",
   "execution_count": 11,
   "id": "f07b86cf",
   "metadata": {
    "scrolled": false
   },
   "outputs": [],
   "source": [
    "# train_data[:35].shape"
   ]
  },
  {
   "cell_type": "code",
   "execution_count": null,
   "id": "ad80ba9b",
   "metadata": {},
   "outputs": [],
   "source": [
    "# transformed_dataset[0]['sentence_embeddings'][:40].type(torch.FloatTensor).to(device)"
   ]
  },
  {
   "cell_type": "code",
   "execution_count": 13,
   "id": "c067e74f",
   "metadata": {},
   "outputs": [],
   "source": [
    "# src_mask = generate_square_subsequent_mask(35).to(device)\n",
    "# model.train()\n",
    "# em_src, pos_src, output = model(train_data[:35], None)  # transformed_dataset[0]['sentence_embeddings'][:35].to(device)"
   ]
  },
  {
   "cell_type": "code",
   "execution_count": 15,
   "id": "dc648e2f",
   "metadata": {
    "scrolled": false
   },
   "outputs": [
    {
     "data": {
      "text/plain": [
       "tensor([[    9,    59,   564,   223,   443, 13627,     2,   539,  2872,  2464,\n",
       "             0,   313,  4513,     1,     5,    47,    66, 11652,  2435,     1],\n",
       "        [ 3849,    12,   300,  6302,  3989,  1930, 10559,   451,     4,     7,\n",
       "             2,  1511, 10115,   942,  2439,   572,     1,    47,    30,  1990],\n",
       "        [ 3869,   315,    19,    29,   939,     2,    10,  2139,  4916, 16615,\n",
       "           235,     3,    13,     7,    24,    17, 13737,    97,  7720,     4],\n",
       "        [  881,    67,   807,  5402,     6,    38, 28188,    25,     2,    77,\n",
       "             7,  2394,    17,   516,    14, 16403,  3714,  4618,    12,  1108],\n",
       "        [    9,   196,  6041,   190,   218, 11776,    17,     1,  1200,     2,\n",
       "             0,    10,   591,    40,  6004,     2,    50,     3,  3131,  3781],\n",
       "        [20000,    21,  6406,    14,     3,    10,     8,   114,    24,  2294,\n",
       "          1684,  7156,  1681,   191,   928,  5879,    51,     9,  1147,     5],\n",
       "        [   83,     8,     2,  1019,  1817,    39,   971,  2581,     1, 12522,\n",
       "             2,    19,     7,    26,     2,     5,  1104,     9,  2995,   986],\n",
       "        [ 3849,   236,    52,  5067,    50,     3,   818,   131,  1314,    13,\n",
       "            10,  5136,   481,     1,    53,  9503,     7,  9584, 10187,    18],\n",
       "        [   88,   152,  3054,    29,   214,   130,     2,     5,  8211,     8,\n",
       "           121,    11,     3,   345,    10,     3,     0,     9,     2,    27],\n",
       "        [    0,  1526,   265,   591,     8,  4111,  1656,   841,  7129,     0,\n",
       "           123,    15,   104,     3, 19129,    69,    27,     9,   772,  4637],\n",
       "        [ 3869,    19,     1,    13,   620,    11,    80,     8,     6,     0,\n",
       "            14,   589,     2,    18,    73,  1012,   138,  1687,    19, 25204],\n",
       "        [   21, 17322,  4347,     1,   299,    15,     4,   227,  1787,    13,\n",
       "             8,     2,    14,     1, 12294,  2706,     3,    50, 14545,     2],\n",
       "        [  780, 10360,     4,   519,     6,   600,     1,     0,     7,    32,\n",
       "           508,     5,     1,    68,     7,   483,     6,     8,    26,     5],\n",
       "        [28780,    20,   695,    47,     1,   254, 13912,   470,     1,  1450,\n",
       "             5,   842,   659,  1664,     1,   209,     1,   965,   160,   279],\n",
       "        [    2,     3,     5,   306,  1247,     1,    16,    18, 12103,    10,\n",
       "            44,    77,     4,   619,   247,   569,   142,     4,   273,   112],\n",
       "        [ 6182,    16,  1226,   330,   166,  2450,    28,  1549,  4659,   661,\n",
       "            17,    79,     1,     6,    11,     3,     2,   204,   177,     0],\n",
       "        [    3,    85, 14195,     3,     4,    53,    31, 18490,     3,     2,\n",
       "            43,    10,   702,     1,    15,    25,  2361,    22,     3,     1],\n",
       "        [ 3849,     2,     6,  5695,     1,   296,  1781,     5,   813,     5,\n",
       "          7089,    83,  2871,   237,  6437,    26,   537,     3,  1190,  2286],\n",
       "        [    4,   665,  8138,    13,   291,  6723,    18,     0,     1,  6959,\n",
       "         22540,  1366,     2,   552,  2641,   561,  2649,    22,   145,     4],\n",
       "        [    1,    10,     3,     1,   152,    94,     1, 22618,   476,    46,\n",
       "            56,    17,  2135,    13,  3779,     1,  4990,  1593,   447,    35],\n",
       "        [ 5023,     1,  1850,   291,  1146,     3,   479,     0,   198,   137,\n",
       "             1,    77,    31,     8,    14,  7611,    21,  2869,  3294,  3979],\n",
       "        [   88,    68,     4,  8102,   233,   569,   231,     8,     4,    16,\n",
       "             0,     7,   793,  1809,    24,     2, 14594,     0,    23,     5],\n",
       "        [   20,  1646,     1,     7,    21,    90,     3,     0,     1,    28,\n",
       "          2092,    11,    16,    12,    62,  9503, 15971,  1750,    16,  6907],\n",
       "        [    2,   285,    54,   215,     5,     1,  2854,     5,   208,   147,\n",
       "             3, 15262,    28,   677,   347,  2515,    20,    14,    64,  6450],\n",
       "        [ 1837,     7,  1846,   109,   152,  1143,   118, 19726,     2,  1206,\n",
       "          6401,     6,    10,  8365,    58,     1,     5,  1715,  1014,     4],\n",
       "        [ 1018,   231,    10,    22,     1,     4,    10, 22549,    18,    13,\n",
       "            12,    11,  8125,   370,   409,  1405,   741,    25,     8,   494],\n",
       "        [    7,     6,  2959,     3,  2064, 11776,  1162,     3,  1245,   958,\n",
       "             0,  1547,    19,   622,    25,   440, 19354,     1,   875,   935],\n",
       "        [   14,    59,     6,    22,   131,     5,     7,     1, 10944,     3,\n",
       "           536,    17,    27,     2,  4604,    10,    21,  3481,  1057,     3],\n",
       "        [ 3849,  4309,   960,    88,  9695,  4772,  3501,  1982,     2,   174,\n",
       "           679,    27,   920,  5317,    46,  7665,   170,  4206,    81,     6],\n",
       "        [ 3869,   193,     2,   164,     2,     2,    74,   726,    23,  8525,\n",
       "          3007,   277,    11,   635,   545,    36, 10472,     3,  3521,  3470],\n",
       "        [  881,     2,    79,     3,    50,   104,   174,    23,  4916,   806,\n",
       "            14,    11,    15,     1,     3,  1722,    20,    18,  3160, 16017],\n",
       "        [  629,  1042,    10,     6,    51,     2,    37,  1622,  7129,     6,\n",
       "         27178, 22979, 19202,  4966,  5157,  4048,   138,    35,   147,  1377],\n",
       "        [  976,     6,    30,     1,     1, 11776,   190,    19,     0,     1,\n",
       "             2,    11,     5,     7,    10,    10, 13217,   965,    49,     2],\n",
       "        [    2,  4465, 10537,     0,  1693,    11,     5,     1,     1,   142,\n",
       "             8,     3,  2080,   640,    41,     7,     6,  1687,   136,    57],\n",
       "        [   23,     4,     4,     0,     4,    15,   520,   730,   208,  9518,\n",
       "           223,  3506,    29,    40,     4,  5686,    30,  6579,    24,    64]],\n",
       "       device='cuda:0')"
      ]
     },
     "execution_count": 15,
     "metadata": {},
     "output_type": "execute_result"
    }
   ],
   "source": [
    "train_data[:35]"
   ]
  },
  {
   "cell_type": "markdown",
   "id": "bdcd4329",
   "metadata": {},
   "source": [
    "## Debug Positional Encoding with my dataset"
   ]
  },
  {
   "cell_type": "code",
   "execution_count": null,
   "id": "61a6f011",
   "metadata": {},
   "outputs": [],
   "source": [
    "class PositionalEncoding(nn.Module):\n",
    "\n",
    "    def __init__(self, d_model: int, dropout: float = 0.1, max_len: int = 5000):\n",
    "        super().__init__()\n",
    "        self.dropout = nn.Dropout(p=dropout)\n",
    "\n",
    "        position = torch.arange(max_len).unsqueeze(1)\n",
    "        div_term = torch.exp(torch.arange(0, d_model, 2) * (-math.log(10000.0) / d_model))\n",
    "        pe = torch.zeros(max_len, 1, d_model)\n",
    "        pe[:, 0, 0::2] = torch.sin(position * div_term)\n",
    "        pe[:, 0, 1::2] = torch.cos(position * div_term)\n",
    "        self.register_buffer('pe', pe)\n",
    "\n",
    "    def forward(self, x: Tensor) -> Tensor:\n",
    "        \"\"\"\n",
    "        Args:\n",
    "            x: Tensor, shape [seq_len, batch_size, embedding_dim]\n",
    "        \"\"\"\n",
    "        x = x + self.pe[:x.size(0)]\n",
    "        return self.dropout(x)"
   ]
  },
  {
   "cell_type": "code",
   "execution_count": 88,
   "id": "573cd00b",
   "metadata": {},
   "outputs": [],
   "source": [
    "position = torch.arange(5000).unsqueeze(1)\n",
    "div_term = torch.exp(torch.arange(0, 768, 2) * (-math.log(10000.0) / 768))\n",
    "pe = torch.zeros(5000, 1, 768)\n",
    "pe[:, 0, 0::2] = torch.sin(position * div_term)\n",
    "pe[:, 0, 1::2] = torch.cos(position * div_term)"
   ]
  },
  {
   "cell_type": "code",
   "execution_count": 92,
   "id": "935b1f8b",
   "metadata": {},
   "outputs": [
    {
     "data": {
      "text/plain": [
       "torch.Size([1, 1, 768])"
      ]
     },
     "execution_count": 92,
     "metadata": {},
     "output_type": "execute_result"
    }
   ],
   "source": [
    "pe[:1].shape"
   ]
  },
  {
   "cell_type": "markdown",
   "id": "275e9a6c",
   "metadata": {},
   "source": [
    "#### remember to convert the type to FloatTensor => .type(torch.FloatTensor)"
   ]
  },
  {
   "cell_type": "code",
   "execution_count": 28,
   "id": "85129a30",
   "metadata": {},
   "outputs": [
    {
     "data": {
      "text/plain": [
       "tensor([[-0.0131,  0.0572, -0.0360,  ..., -0.0415, -0.0471,  0.0127],\n",
       "        [-0.0290,  0.0563, -0.0076,  ..., -0.0085, -0.0270, -0.0027],\n",
       "        [ 0.0337, -0.0226, -0.0394,  ...,  0.0040, -0.0337, -0.0060],\n",
       "        ...,\n",
       "        [-0.0279,  0.0281,  0.0023,  ..., -0.0149,  0.0905, -0.0053],\n",
       "        [-0.0013,  0.0304, -0.0268,  ..., -0.0260,  0.0886, -0.0083],\n",
       "        [ 0.0515, -0.0140, -0.0373,  ...,  0.0157,  0.0309,  0.0181]])"
      ]
     },
     "execution_count": 28,
     "metadata": {},
     "output_type": "execute_result"
    }
   ],
   "source": [
    "transformed_dataset[0]['sentence_embeddings'].type(torch.FloatTensor)[:50]"
   ]
  },
  {
   "cell_type": "code",
   "execution_count": 69,
   "id": "c27ecf56",
   "metadata": {},
   "outputs": [
    {
     "data": {
      "text/plain": [
       "torch.Size([50, 1, 768])"
      ]
     },
     "execution_count": 69,
     "metadata": {},
     "output_type": "execute_result"
    }
   ],
   "source": [
    "pe[:50].shape"
   ]
  },
  {
   "cell_type": "code",
   "execution_count": 29,
   "id": "377903ac",
   "metadata": {},
   "outputs": [
    {
     "data": {
      "text/plain": [
       "torch.Size([50, 50, 768])"
      ]
     },
     "execution_count": 29,
     "metadata": {},
     "output_type": "execute_result"
    }
   ],
   "source": [
    "(transformed_dataset[0]['sentence_embeddings'].type(torch.FloatTensor)[:1] + pe[:1]).shape"
   ]
  },
  {
   "cell_type": "markdown",
   "id": "3846dec2",
   "metadata": {},
   "source": [
    "### Debug: give the dataset to model "
   ]
  },
  {
   "cell_type": "code",
   "execution_count": 59,
   "id": "9aaa72c7",
   "metadata": {},
   "outputs": [],
   "source": [
    "src_mask = generate_square_subsequent_mask(50).to(device)\n",
    "model.train()\n",
    "pos_src, output_trans, output_final = model(transformed_dataset[0]['sentence_embeddings'].type(torch.FloatTensor)[:50].to(device),\n",
    "                                            src_mask)"
   ]
  },
  {
   "cell_type": "code",
   "execution_count": 49,
   "id": "fc897bb5",
   "metadata": {},
   "outputs": [
    {
     "data": {
      "text/plain": [
       "torch.Size([50, 50])"
      ]
     },
     "execution_count": 49,
     "metadata": {},
     "output_type": "execute_result"
    }
   ],
   "source": [
    "src_mask.size()"
   ]
  },
  {
   "cell_type": "code",
   "execution_count": 60,
   "id": "a110be5a",
   "metadata": {},
   "outputs": [
    {
     "name": "stdout",
     "output_type": "stream",
     "text": [
      "torch.Size([50, 50, 768])\n"
     ]
    }
   ],
   "source": [
    "print(pos_src.size())\n",
    "# pos_src"
   ]
  },
  {
   "cell_type": "code",
   "execution_count": 61,
   "id": "4b49b485",
   "metadata": {},
   "outputs": [
    {
     "name": "stdout",
     "output_type": "stream",
     "text": [
      "torch.Size([50, 50, 768])\n"
     ]
    }
   ],
   "source": [
    "print(output_trans.size())"
   ]
  },
  {
   "cell_type": "code",
   "execution_count": 62,
   "id": "4a8cc1d5",
   "metadata": {},
   "outputs": [
    {
     "data": {
      "text/plain": [
       "torch.Size([50, 50, 1024])"
      ]
     },
     "execution_count": 62,
     "metadata": {},
     "output_type": "execute_result"
    }
   ],
   "source": [
    "output_final.shape"
   ]
  },
  {
   "cell_type": "code",
   "execution_count": 40,
   "id": "87ae68e1",
   "metadata": {
    "scrolled": true
   },
   "outputs": [
    {
     "data": {
      "text/plain": [
       "torch.Size([2560000])"
      ]
     },
     "execution_count": 40,
     "metadata": {},
     "output_type": "execute_result"
    }
   ],
   "source": [
    "output.view(-1).shape"
   ]
  },
  {
   "cell_type": "code",
   "execution_count": null,
   "id": "3bd12e93",
   "metadata": {},
   "outputs": [],
   "source": []
  },
  {
   "cell_type": "markdown",
   "id": "b62dc123",
   "metadata": {},
   "source": [
    "# Train and Evaluate"
   ]
  },
  {
   "cell_type": "code",
   "execution_count": null,
   "id": "ba8ede54",
   "metadata": {},
   "outputs": [],
   "source": [
    "import copy\n",
    "import time\n",
    "\n",
    "criterion = nn.CrossEntropyLoss()\n",
    "lr = 5.0  # learning rate\n",
    "optimizer = torch.optim.SGD(model.parameters(), lr=lr)\n",
    "scheduler = torch.optim.lr_scheduler.StepLR(optimizer, 1.0, gamma=0.95)\n",
    "\n",
    "def train(model: nn.Module) -> None:\n",
    "    model.train()  # turn on train mode\n",
    "    total_loss = 0.\n",
    "    log_interval = 200\n",
    "    start_time = time.time()\n",
    "    src_mask = generate_square_subsequent_mask(bptt).to(device)\n",
    "\n",
    "    num_batches = len(train_data) // bptt\n",
    "    for batch, i in enumerate(range(0, train_data.size(0) - 1, bptt)):\n",
    "        data, targets = get_batch(train_data, i)\n",
    "        batch_size = data.size(0)\n",
    "        if batch_size != bptt:  # only on last batch\n",
    "            src_mask = src_mask[:batch_size, :batch_size]\n",
    "        output = model(data, src_mask)\n",
    "        loss = criterion(output.view(-1, ntokens), targets)\n",
    "\n",
    "        optimizer.zero_grad()\n",
    "        loss.backward()\n",
    "        torch.nn.utils.clip_grad_norm_(model.parameters(), 0.5)\n",
    "        optimizer.step()\n",
    "\n",
    "        total_loss += loss.item()\n",
    "        if batch % log_interval == 0 and batch > 0:\n",
    "            lr = scheduler.get_last_lr()[0]\n",
    "            ms_per_batch = (time.time() - start_time) * 1000 / log_interval\n",
    "            cur_loss = total_loss / log_interval\n",
    "            ppl = math.exp(cur_loss)\n",
    "            print(f'| epoch {epoch:3d} | {batch:5d}/{num_batches:5d} batches | '\n",
    "                  f'lr {lr:02.2f} | ms/batch {ms_per_batch:5.2f} | '\n",
    "                  f'loss {cur_loss:5.2f} | ppl {ppl:8.2f}')\n",
    "            total_loss = 0\n",
    "            start_time = time.time()\n",
    "\n",
    "def evaluate(model: nn.Module, eval_data: Tensor) -> float:\n",
    "    model.eval()  # turn on evaluation mode\n",
    "    total_loss = 0.\n",
    "    src_mask = generate_square_subsequent_mask(bptt).to(device)\n",
    "    with torch.no_grad():\n",
    "        for i in range(0, eval_data.size(0) - 1, bptt):\n",
    "            data, targets = get_batch(eval_data, i)\n",
    "            batch_size = data.size(0)\n",
    "            if batch_size != bptt:\n",
    "                src_mask = src_mask[:batch_size, :batch_size]\n",
    "            output = model(data, src_mask)\n",
    "            output_flat = output.view(-1, ntokens)\n",
    "            total_loss += batch_size * criterion(output_flat, targets).item()\n",
    "    return total_loss / (len(eval_data) - 1)"
   ]
  },
  {
   "cell_type": "code",
   "execution_count": null,
   "id": "ad0d89f4",
   "metadata": {},
   "outputs": [],
   "source": [
    "best_val_loss = float('inf')\n",
    "epochs = 3\n",
    "best_model = None\n",
    "\n",
    "for epoch in range(1, epochs + 1):\n",
    "    epoch_start_time = time.time()\n",
    "    train(model)\n",
    "    val_loss = evaluate(model, val_data)\n",
    "    val_ppl = math.exp(val_loss)\n",
    "    elapsed = time.time() - epoch_start_time\n",
    "    print('-' * 89)\n",
    "    print(f'| end of epoch {epoch:3d} | time: {elapsed:5.2f}s | '\n",
    "          f'valid loss {val_loss:5.2f} | valid ppl {val_ppl:8.2f}')\n",
    "    print('-' * 89)\n",
    "\n",
    "    if val_loss < best_val_loss:\n",
    "        best_val_loss = val_loss\n",
    "        best_model = copy.deepcopy(model)\n",
    "\n",
    "    scheduler.step()"
   ]
  },
  {
   "cell_type": "code",
   "execution_count": null,
   "id": "adabee03",
   "metadata": {},
   "outputs": [],
   "source": [
    "test_loss = evaluate(best_model, test_data)\n",
    "test_ppl = math.exp(test_loss)\n",
    "print('=' * 89)\n",
    "print(f'| End of training | test loss {test_loss:5.2f} | '\n",
    "      f'test ppl {test_ppl:8.2f}')\n",
    "print('=' * 89)\n"
   ]
  },
  {
   "cell_type": "code",
   "execution_count": null,
   "id": "ea87f1a7",
   "metadata": {},
   "outputs": [],
   "source": []
  },
  {
   "cell_type": "markdown",
   "id": "2a400a8f",
   "metadata": {},
   "source": [
    "# Get the my dataset"
   ]
  },
  {
   "cell_type": "code",
   "execution_count": 1,
   "id": "d7a984e2",
   "metadata": {},
   "outputs": [],
   "source": [
    "import os\n",
    "import numpy as np\n",
    "import pandas as pd\n",
    "from skimage import transform\n",
    "from sentence_transformers import SentenceTransformer\n",
    "\n",
    "import torch\n",
    "from torch.utils.data import Dataset"
   ]
  },
  {
   "cell_type": "code",
   "execution_count": 99,
   "id": "2faba6a8",
   "metadata": {},
   "outputs": [],
   "source": [
    "def minmax_scaler(data):\n",
    "    '''recale the data, which is a 2D matrix, to 0-1'''\n",
    "    return (data - data.min(axis=1)[:, np.newaxis]) / (data.max(axis=1) - data.min(axis=1))[:, np.newaxis]\n",
    "\n",
    "\n",
    "class DepressionDataset(Dataset):\n",
    "    '''create a training, develop, or test dataset\n",
    "       and load the participant features if it's called\n",
    "    '''\n",
    "\n",
    "    def __init__(self,\n",
    "                 root_dir,\n",
    "                 mode,\n",
    "                 transform=None):\n",
    "        super(DepressionDataset, self).__init__()\n",
    "\n",
    "        # only train, develop, test dataset allow\n",
    "        assert mode in [\"train\", \"validation\", \"test\"], \\\n",
    "            \"Argument --mode could only be ['train', 'validation', 'test']\"\n",
    "\n",
    "        self.mode = mode\n",
    "        self.root_dir = root_dir\n",
    "        self.transform = transform\n",
    "        self.train_data_path = os.path.join(self.root_dir, 'train_split_Depression_AVEC2017.csv')\n",
    "        self.valid_data_path = os.path.join(self.root_dir, 'dev_split_Depression_AVEC2017.csv')\n",
    "        self.test_data_path = os.path.join(self.root_dir, 'full_test_split.csv')\n",
    "        # load sent2vec model for converting text file to 2D array\n",
    "        self.sent2vec = SentenceTransformer('all-mpnet-base-v2')  # output dimension 768\n",
    "\n",
    "        # load training data # 107 sessions\n",
    "        if self.mode == \"train\":\n",
    "            # pre-checking and cleaning the data\n",
    "            self.data_df = self.pre_check(pd.read_csv(self.train_data_path))\n",
    "            # store ground truth\n",
    "            ####################################################################################################\n",
    "            # self.patientIDs = self.data_df['Participant_ID'].to_numpy()\n",
    "            self.patientIDs = np.array([303, 321, 362, 363, 426])  # for debugging on my laptop\n",
    "            ####################################################################################################\n",
    "            self.phq_binay_gt = self.data_df['PHQ8_Binary'].to_numpy()\n",
    "            self.phq_score_gt = self.data_df['PHQ8_Score'].to_numpy()\n",
    "            self.gender_gt = self.data_df['Gender'].to_numpy()\n",
    "            self.phq_subscores_gt = self.data_df.iloc[:, 4:].to_numpy()\n",
    "\n",
    "        # load development data # 35 sessions\n",
    "        if self.mode == \"validation\":\n",
    "            # pre-checking and cleaning the data\n",
    "            self.data_df = self.pre_check(pd.read_csv(self.valid_data_path))\n",
    "            # store ground truth\n",
    "            self.patientIDs = self.data_df['Participant_ID'].to_numpy()\n",
    "            self.phq_binay_gt = self.data_df['PHQ8_Binary'].to_numpy()\n",
    "            self.phq_score_gt = self.data_df['PHQ8_Score'].to_numpy()\n",
    "            self.gender_gt = self.data_df['Gender'].to_numpy()\n",
    "            self.phq_subscores_gt = self.data_df.iloc[:, 4:].to_numpy()\n",
    "\n",
    "        # load test data # 47 sessions\n",
    "        if self.mode == \"test\":\n",
    "            # pre-checking and cleaning the data\n",
    "            self.data_df = self.pre_check(pd.read_csv(self.test_data_path))\n",
    "            # store ground truth\n",
    "            self.patientIDs = self.data_df['Participant_ID'].to_numpy()\n",
    "            self.phq_binay_gt = self.data_df['PHQ_Binary'].to_numpy()\n",
    "            self.phq_score_gt = self.data_df['PHQ_Score'].to_numpy()\n",
    "            self.gender_gt = self.data_df['Gender'].to_numpy()\n",
    "            self.phq_subscores_gt = None\n",
    "\n",
    "    def pre_check(self, data):\n",
    "        '''\n",
    "        Basic cleaning process to make sure no missing value\n",
    "        and that the sum of each PHQ subscore equals to PHQ score\n",
    "        Argument:\n",
    "            data: numpy array\n",
    "        Return:\n",
    "            data: numpy array with type \"int\"\n",
    "        '''\n",
    "        # make sure no NaN, Inf, -Inf\n",
    "        if data.isin([np.nan, np.inf, -np.inf]).any(1).sum():\n",
    "            print('Replacing NaN, Inf, or -Inf ...')\n",
    "            data = data.replace([np.inf, -np.inf, np.nan], 0)  # .astype('int')\n",
    "        else:\n",
    "            data = data  # .astype('int')\n",
    "\n",
    "        # compare the sum of each PHQ subscore to PHQ score\n",
    "        unequal = data.iloc[:, 4:].sum(axis=1) != data.iloc[:, 2]\n",
    "        if unequal.any() and self.mode != 'test':\n",
    "            lines = np.where(unequal)\n",
    "            raise ValueError((\"The sum of each PHQ subscore at line {} \"\n",
    "                              \"is unequal to the PHQ score\").format(lines[0]))\n",
    "\n",
    "        return data\n",
    "\n",
    "    def __len__(self):\n",
    "        return len(self.patientIDs)\n",
    "\n",
    "    def __iter__(self):\n",
    "        return iter(self.patientIDs)\n",
    "\n",
    "    def __getitem__(self, idx):\n",
    "        '''\n",
    "        Essentional function for creating dataset in PyTorch, which will automatically be\n",
    "        called in Dataloader and load all the extracted features of the patient in the Batch\n",
    "        based on the index of self.patientIDs\n",
    "        Argument:\n",
    "            idx: int, index of the patient ID in self.patientIDs\n",
    "        Return:\n",
    "            session: dict, contains all the extracted features and ground truth of a patient/session\n",
    "        '''\n",
    "        if torch.is_tensor(idx):\n",
    "            idx = idx.tolist()\n",
    "\n",
    "        # get the patient session path\n",
    "        session_num = self.patientIDs[idx]\n",
    "        session_path = os.path.join(self.root_dir, '{}_P'.format(session_num))\n",
    "\n",
    "        # TODO: if other feature is needed, add more in the following part...\n",
    "\n",
    "        # get text path\n",
    "        text_path = os.path.join(session_path, '{}_TRANSCRIPT.csv'.format(session_num))\n",
    "\n",
    "        # text feature\n",
    "        self.text_feature = self.load_sent2vec(text_path, speaker='Participant')\n",
    "        sentence_embedding = self.text_feature['sentence_embeddings']\n",
    "\n",
    "        # summary\n",
    "        session = {'patientID': session_num,\n",
    "                   'session_path': session_path,\n",
    "                   'sentence_embeddings': sentence_embedding,\n",
    "                   'phq_score_gt': self.phq_score_gt[idx],\n",
    "                   'phq_binay_gt': self.phq_binay_gt[idx],\n",
    "                   'phq_subscores_gt': self.phq_subscores_gt[idx],\n",
    "                   'gender_gt': self.gender_gt[idx]}\n",
    "\n",
    "        if self.transform:\n",
    "            session = self.transform(session)\n",
    "\n",
    "        return session\n",
    "\n",
    "    def load_sent2vec(self, text_path, speaker='Participant'):\n",
    "        '''\n",
    "        load the text file and use sent2vec model from SentenceTransformer\n",
    "        for sentence embeddings, which generates 2D array\n",
    "        Arguments:\n",
    "            text_path: string, absolute path to transcipt file\n",
    "            speaker: certain string, which transcript of the speaker to load\n",
    "        Return:\n",
    "            text_feature: dict, contain converted embedding vectors, sentences, etc.\n",
    "        '''\n",
    "\n",
    "        # only 'Ellie', 'Participant', 'both' are allow\n",
    "        assert speaker in ['Ellie', 'Participant', 'both'], \\\n",
    "            \"Argument --speaker could only be ['Ellie', 'Participant', 'both']\"\n",
    "\n",
    "        text_file = pd.read_csv(text_path)\n",
    "        # tokenize the text file, filter out all \\t space and unnecessary columns such as time, participent\n",
    "        tokenized_words = self.tokenize_corpus(text_file.values.tolist()[i][0] for i in range(text_file.shape[0]))\n",
    "\n",
    "        sentences = []\n",
    "        sentences_idx = []\n",
    "\n",
    "        if speaker == 'Ellie':\n",
    "            for idx, sentence in enumerate(tokenized_words):\n",
    "                if sentence[2] == 'Ellie':\n",
    "                    sentences.append(sentence[3:])\n",
    "                    sentences_idx.append(idx)\n",
    "        elif speaker == 'Participant':\n",
    "            for idx, sentence in enumerate(tokenized_words):\n",
    "                if sentence[2] == 'Participant':\n",
    "                    sentences.append(sentence[3:])\n",
    "                    sentences_idx.append(idx)\n",
    "\n",
    "        else:  # speaker == 'both'\n",
    "            sentences = [tokenized_words[i][3:] for i in range(len(tokenized_words))]\n",
    "            sentences_idx = list(range(len(tokenized_words)))\n",
    "\n",
    "        # recombine 2D list of words into 1D list of sentence\n",
    "        final_sentences = [\" \".join(sentences[i]).lower() for i in range(len(sentences))]\n",
    "        # convert sentence to vector with SentenceTransformer pretrained model\n",
    "        sentence_embeddings = self.sent2vec.encode(final_sentences)\n",
    "        h, w = sentence_embeddings.shape  # num_sentences x 768\n",
    "        sentence_embeddings = minmax_scaler(sentence_embeddings).reshape(h, int(w/3), 3)  # num_sentences x 256 x 3\n",
    "        # summary\n",
    "        text_feature = {'speaker': speaker,\n",
    "                        'sentence_embeddings': sentence_embeddings,\n",
    "                        'sentences': final_sentences,\n",
    "                        'indices': sentences_idx}\n",
    "\n",
    "        return text_feature\n",
    "\n",
    "    def tokenize_corpus(self, corpus):\n",
    "        '''tokenzie a given list of string into list of words\n",
    "        Argument:\n",
    "            corpus: 1D list of string, each element is a sting of sentence\n",
    "        Return:\n",
    "            tokens: 2D list of string, each raw is a list of words splitted from sentence\n",
    "        '''\n",
    "        tokens = [x.split() for x in corpus]\n",
    "        return tokens\n",
    "\n",
    "\n",
    "class Padding(object):\n",
    "    ''' pad zero to each feature matrix so that they all have the same size '''\n",
    "\n",
    "    def __init__(self, text_output_size=(386, 768)):\n",
    "        super(Padding, self).__init__()\n",
    "        '''\n",
    "        Each output size could be 'int' or 'tuple'. \n",
    "        Integer would be the number of desired rows\n",
    "        and Tuple would be the desired 2D array size.\n",
    "\n",
    "        Here is recommended to keep the number of columns \n",
    "        as they are and only set the number of rows with int\n",
    "\n",
    "        To find the maximum length of rows, please use the \n",
    "        'find_max_length' function in utils to search through. \n",
    "\n",
    "        The value 386 are the maximum length in our case.\n",
    "        '''\n",
    "        assert isinstance(text_output_size, (int, tuple))\n",
    "        self.text_output_size = text_output_size\n",
    "\n",
    "    def __call__(self, session):\n",
    "        sentence_embeddings = session['sentence_embeddings']\n",
    "\n",
    "        # text padding\n",
    "        if isinstance(self.text_output_size, int):\n",
    "            shape = sentence_embeddings.shape\n",
    "            assert self.text_output_size >= shape[0], \\\n",
    "                \"audio output size should be bigger than {}\".format(shape[0])\n",
    "            padded_text = np.zeros((self.text_output_size, shape[1]))\n",
    "            padded_text[:shape[0], :shape[1]] = sentence_embeddings\n",
    "        else:\n",
    "            shape = sentence_embeddings.shape\n",
    "            assert self.text_output_size[0] >= shape[0] and self.text_output_size[1] >= shape[1], \\\n",
    "                \"text output size should be bigger than {}\".format(shape)\n",
    "            padded_text = np.zeros(self.text_output_size)\n",
    "            padded_text[:shape[0], :shape[1]] = sentence_embeddings\n",
    "\n",
    "        # summary\n",
    "        padded_session = {'patientID': session['patientID'],\n",
    "                          'session_path': session['session_path'],\n",
    "                          'sentence_embeddings': padded_text,\n",
    "                          'phq_score_gt': session['phq_score_gt'],\n",
    "                          'phq_binay_gt': session['phq_binay_gt'],\n",
    "                          'phq_subscores_gt': session['phq_subscores_gt'],\n",
    "                          'gender_gt': session['gender_gt']}\n",
    "\n",
    "        return padded_session\n",
    "\n",
    "\n",
    "class Rescale(object):\n",
    "    \"\"\"Rescale the image in a sample to a given size.\n",
    "    Arguments:\n",
    "        output_size:(tuple or int),  Desired output size. If tuple, output is\n",
    "            matched to output_size. If int, smaller of image edges is matched\n",
    "            to output_size keeping aspect ratio the same.\n",
    "    \"\"\"\n",
    "\n",
    "    def __init__(self, output_size=(256, 256)):\n",
    "        assert isinstance(output_size, (int, tuple))\n",
    "        self.output_size = output_size\n",
    "\n",
    "    def __call__(self, session):\n",
    "        sentence_embeddings = session['sentence_embeddings']\n",
    "\n",
    "        h, w = sentence_embeddings.shape[:2]\n",
    "\n",
    "        if isinstance(self.output_size, int):\n",
    "            if h > w:\n",
    "                new_h, new_w = self.output_size * h / w, self.output_size\n",
    "            else:\n",
    "                new_h, new_w = self.output_size, self.output_size * w / h\n",
    "        else:\n",
    "            new_h, new_w = self.output_size\n",
    "\n",
    "        new_h, new_w = int(new_h), int(new_w)\n",
    "\n",
    "        rescaled_sentence_embeddings = transform.resize(sentence_embeddings, (new_h, new_w))\n",
    "\n",
    "        # summary\n",
    "        rescaled_session = {'patientID': session['patientID'],\n",
    "                            'session_path': session['session_path'],\n",
    "                            'sentence_embeddings': rescaled_sentence_embeddings,\n",
    "                            'phq_score_gt': session['phq_score_gt'],\n",
    "                            'phq_binay_gt': session['phq_binay_gt'],\n",
    "                            'phq_subscores_gt': session['phq_subscores_gt'],\n",
    "                            'gender_gt': session['gender_gt']}\n",
    "\n",
    "        return rescaled_session\n",
    "\n",
    "\n",
    "class RandomCrop(object):\n",
    "    \"\"\"Crop randomly the image in a sample.\n",
    "    Arguments:\n",
    "        output_size:(tuple or int), Desired output size. If int, square crop\n",
    "            is made.\n",
    "    \"\"\"\n",
    "\n",
    "    def __init__(self, output_size=(224, 224)):\n",
    "        assert isinstance(output_size, (int, tuple))\n",
    "\n",
    "        if isinstance(output_size, int):\n",
    "            self.output_size = (output_size, output_size)\n",
    "        else:\n",
    "            assert len(output_size) == 2\n",
    "            self.output_size = output_size\n",
    "\n",
    "    def __call__(self, session):\n",
    "        sentence_embeddings = session['sentence_embeddings']\n",
    "\n",
    "        h, w = sentence_embeddings.shape[:2]\n",
    "        new_h, new_w = self.output_size\n",
    "\n",
    "        top = np.random.randint(0, h - new_h)\n",
    "        left = np.random.randint(0, w - new_w)\n",
    "\n",
    "        cropped_sentence_embeddings = sentence_embeddings[top:top + new_h, left:left + new_w]\n",
    "\n",
    "        # summary\n",
    "        cropped_session = {'patientID': session['patientID'],\n",
    "                           'session_path': session['session_path'],\n",
    "                           'sentence_embeddings': cropped_sentence_embeddings,\n",
    "                           'phq_score_gt': session['phq_score_gt'],\n",
    "                           'phq_binay_gt': session['phq_binay_gt'],\n",
    "                           'phq_subscores_gt': session['phq_subscores_gt'],\n",
    "                           'gender_gt': session['gender_gt']}\n",
    "\n",
    "        return cropped_session\n",
    "\n",
    "\n",
    "class ToTensor(object):\n",
    "    \"\"\"Convert ndarrays in sample to Tensors or np.int to torch.tensor.\"\"\"\n",
    "\n",
    "    def __call__(self, session):\n",
    "        converted_session = {'patientID': session['patientID'],\n",
    "                             'session_path': session['session_path'],\n",
    "                             'sentence_embeddings': torch.from_numpy(session['sentence_embeddings']).type(\n",
    "                                 torch.FloatTensor),\n",
    "                             'phq_score_gt': torch.tensor(session['phq_score_gt']).type(torch.FloatTensor),\n",
    "                             'phq_binay_gt': torch.tensor(session['phq_binay_gt']).type(torch.FloatTensor),\n",
    "                             'phq_subscores_gt': torch.from_numpy(session['phq_subscores_gt']).type(torch.FloatTensor),\n",
    "                             'gender_gt': torch.tensor(session['gender_gt']).type(torch.FloatTensor)}\n",
    "\n",
    "        return converted_session\n"
   ]
  },
  {
   "cell_type": "markdown",
   "id": "3d2b3c8d",
   "metadata": {},
   "source": [
    "# Get DataLoader and see how it is loaded"
   ]
  },
  {
   "cell_type": "code",
   "execution_count": 100,
   "id": "2e949bf1",
   "metadata": {
    "scrolled": false
   },
   "outputs": [
    {
     "name": "stdout",
     "output_type": "stream",
     "text": [
      "Batch number:  0 , sentence embeddings:  torch.Size([2, 224, 224, 3])\n",
      "{'patientID': tensor([303, 321], dtype=torch.int32), 'session_path': ['C:\\\\Users\\\\denni\\\\Documents\\\\KIT Studium\\\\Bachelorarbeit\\\\DAIC-WOZ Dataset\\\\303_P', 'C:\\\\Users\\\\denni\\\\Documents\\\\KIT Studium\\\\Bachelorarbeit\\\\DAIC-WOZ Dataset\\\\321_P'], 'sentence_embeddings': tensor([[[[0.4850, 0.6227, 0.5460],\n",
      "          [0.5285, 0.7611, 0.5326],\n",
      "          [0.5800, 0.5206, 0.4511],\n",
      "          ...,\n",
      "          [0.5150, 0.5077, 0.5798],\n",
      "          [0.5653, 0.4846, 0.2573],\n",
      "          [0.4302, 0.3795, 0.4945]],\n",
      "\n",
      "         [[0.5560, 0.5559, 0.4355],\n",
      "          [0.5785, 0.8480, 0.4720],\n",
      "          [0.4077, 0.5092, 0.5353],\n",
      "          ...,\n",
      "          [0.5497, 0.4464, 0.5438],\n",
      "          [0.5685, 0.5042, 0.2923],\n",
      "          [0.4463, 0.4576, 0.4820]],\n",
      "\n",
      "         [[0.5627, 0.5251, 0.3599],\n",
      "          [0.5938, 0.8525, 0.4618],\n",
      "          [0.3178, 0.5030, 0.5507],\n",
      "          ...,\n",
      "          [0.5550, 0.4326, 0.5113],\n",
      "          [0.5889, 0.4786, 0.3421],\n",
      "          [0.4357, 0.4690, 0.4952]],\n",
      "\n",
      "         ...,\n",
      "\n",
      "         [[0.5488, 0.5399, 0.6687],\n",
      "          [0.3910, 0.7258, 0.5506],\n",
      "          [0.4868, 0.3767, 0.6512],\n",
      "          ...,\n",
      "          [0.4865, 0.6790, 0.3951],\n",
      "          [0.6899, 0.4620, 0.1763],\n",
      "          [0.6550, 0.5973, 0.4999]],\n",
      "\n",
      "         [[0.5464, 0.5491, 0.6992],\n",
      "          [0.5418, 0.5069, 0.5998],\n",
      "          [0.5668, 0.3431, 0.6731],\n",
      "          ...,\n",
      "          [0.3800, 0.6654, 0.3079],\n",
      "          [0.6422, 0.4082, 0.4452],\n",
      "          [0.4172, 0.5069, 0.5240]],\n",
      "\n",
      "         [[0.5546, 0.5486, 0.7143],\n",
      "          [0.6459, 0.3335, 0.6434],\n",
      "          [0.6513, 0.2993, 0.6679],\n",
      "          ...,\n",
      "          [0.2949, 0.6456, 0.2438],\n",
      "          [0.6172, 0.3572, 0.6704],\n",
      "          [0.2211, 0.4207, 0.5210]]],\n",
      "\n",
      "\n",
      "        [[[0.6297, 0.6422, 0.3249],\n",
      "          [0.2910, 0.6760, 0.1288],\n",
      "          [0.5572, 0.6115, 0.7074],\n",
      "          ...,\n",
      "          [0.5089, 0.6365, 0.5439],\n",
      "          [0.4882, 0.3958, 0.5687],\n",
      "          [0.6130, 0.6975, 0.4168]],\n",
      "\n",
      "         [[0.6839, 0.6526, 0.2861],\n",
      "          [0.3975, 0.6732, 0.2904],\n",
      "          [0.4388, 0.5949, 0.5833],\n",
      "          ...,\n",
      "          [0.4789, 0.5390, 0.5305],\n",
      "          [0.5362, 0.3601, 0.5204],\n",
      "          [0.5951, 0.6511, 0.4805]],\n",
      "\n",
      "         [[0.7410, 0.6510, 0.2604],\n",
      "          [0.5369, 0.6611, 0.5245],\n",
      "          [0.2851, 0.5977, 0.4297],\n",
      "          ...,\n",
      "          [0.4613, 0.4130, 0.5093],\n",
      "          [0.6013, 0.3329, 0.4617],\n",
      "          [0.5829, 0.5741, 0.5573]],\n",
      "\n",
      "         ...,\n",
      "\n",
      "         [[0.5726, 0.7254, 0.5152],\n",
      "          [0.7732, 0.6653, 0.7026],\n",
      "          [0.3175, 0.6406, 0.4517],\n",
      "          ...,\n",
      "          [0.5047, 0.5954, 0.5629],\n",
      "          [0.3845, 0.5115, 0.2033],\n",
      "          [0.4483, 0.5174, 0.5103]],\n",
      "\n",
      "         [[0.6512, 0.6727, 0.6583],\n",
      "          [0.4447, 0.6472, 0.7484],\n",
      "          [0.5061, 0.6425, 0.4972],\n",
      "          ...,\n",
      "          [0.6700, 0.6985, 0.5106],\n",
      "          [0.5271, 0.6410, 0.3648],\n",
      "          [0.4779, 0.4690, 0.4559]],\n",
      "\n",
      "         [[0.6627, 0.5863, 0.6774],\n",
      "          [0.2789, 0.6357, 0.7751],\n",
      "          [0.6485, 0.6396, 0.5332],\n",
      "          ...,\n",
      "          [0.7575, 0.7541, 0.4817],\n",
      "          [0.5927, 0.7139, 0.5001],\n",
      "          [0.4984, 0.4219, 0.4080]]]]), 'phq_score_gt': tensor([0., 6.]), 'phq_binay_gt': tensor([0., 0.]), 'phq_subscores_gt': tensor([[0., 0., 0., 0., 0., 0., 0., 0.],\n",
      "        [0., 1., 1., 2., 2., 0., 0., 0.]]), 'gender_gt': tensor([0., 0.])}\n",
      "=================================\n",
      "Batch number:  1 , sentence embeddings:  torch.Size([2, 224, 224, 3])\n",
      "{'patientID': tensor([362, 363], dtype=torch.int32), 'session_path': ['C:\\\\Users\\\\denni\\\\Documents\\\\KIT Studium\\\\Bachelorarbeit\\\\DAIC-WOZ Dataset\\\\362_P', 'C:\\\\Users\\\\denni\\\\Documents\\\\KIT Studium\\\\Bachelorarbeit\\\\DAIC-WOZ Dataset\\\\363_P'], 'sentence_embeddings': tensor([[[[0.4273, 0.7463, 0.4486],\n",
      "          [0.5049, 0.7975, 0.2258],\n",
      "          [0.6005, 0.4482, 0.4896],\n",
      "          ...,\n",
      "          [0.5225, 0.4218, 0.6281],\n",
      "          [0.4072, 0.6169, 0.7022],\n",
      "          [0.5344, 0.2880, 0.6784]],\n",
      "\n",
      "         [[0.3900, 0.6980, 0.5040],\n",
      "          [0.4841, 0.7682, 0.2837],\n",
      "          [0.5224, 0.5117, 0.4402],\n",
      "          ...,\n",
      "          [0.5080, 0.4347, 0.5094],\n",
      "          [0.4376, 0.5301, 0.6981],\n",
      "          [0.5437, 0.4039, 0.6263]],\n",
      "\n",
      "         [[0.3528, 0.6497, 0.5593],\n",
      "          [0.4632, 0.7388, 0.3415],\n",
      "          [0.4443, 0.5753, 0.3907],\n",
      "          ...,\n",
      "          [0.4935, 0.4475, 0.3908],\n",
      "          [0.4681, 0.4434, 0.6940],\n",
      "          [0.5529, 0.5197, 0.5742]],\n",
      "\n",
      "         ...,\n",
      "\n",
      "         [[0.5823, 0.6152, 0.5378],\n",
      "          [0.6179, 0.5817, 0.8135],\n",
      "          [0.5994, 0.6887, 0.4955],\n",
      "          ...,\n",
      "          [0.3863, 0.5470, 0.6384],\n",
      "          [0.5345, 0.6268, 0.5937],\n",
      "          [0.6361, 0.6027, 0.6286]],\n",
      "\n",
      "         [[0.6089, 0.5711, 0.5668],\n",
      "          [0.5256, 0.5637, 0.7998],\n",
      "          [0.6767, 0.6441, 0.5341],\n",
      "          ...,\n",
      "          [0.3974, 0.5812, 0.7177],\n",
      "          [0.4617, 0.6263, 0.5856],\n",
      "          [0.6166, 0.6490, 0.7045]],\n",
      "\n",
      "         [[0.6224, 0.5310, 0.5911],\n",
      "          [0.4441, 0.5429, 0.7951],\n",
      "          [0.7423, 0.6032, 0.5638],\n",
      "          ...,\n",
      "          [0.4071, 0.6062, 0.7750],\n",
      "          [0.3892, 0.6255, 0.5728],\n",
      "          [0.5962, 0.6848, 0.7605]]],\n",
      "\n",
      "\n",
      "        [[[0.5893, 0.4918, 0.6059],\n",
      "          [0.7496, 0.6451, 0.4707],\n",
      "          [0.6488, 0.4515, 0.5104],\n",
      "          ...,\n",
      "          [0.5735, 0.6722, 0.6032],\n",
      "          [0.4563, 0.3975, 0.6439],\n",
      "          [0.5463, 0.7287, 0.5267]],\n",
      "\n",
      "         [[0.5136, 0.3339, 0.5695],\n",
      "          [0.5746, 0.6558, 0.4659],\n",
      "          [0.5820, 0.4939, 0.4325],\n",
      "          ...,\n",
      "          [0.5548, 0.6012, 0.5087],\n",
      "          [0.6072, 0.3994, 0.5769],\n",
      "          [0.5197, 0.6288, 0.6290]],\n",
      "\n",
      "         [[0.4304, 0.1880, 0.5145],\n",
      "          [0.4273, 0.6143, 0.4601],\n",
      "          [0.4367, 0.5408, 0.3042],\n",
      "          ...,\n",
      "          [0.5243, 0.5167, 0.3971],\n",
      "          [0.7729, 0.3864, 0.4818],\n",
      "          [0.4929, 0.5354, 0.7024]],\n",
      "\n",
      "         ...,\n",
      "\n",
      "         [[0.5109, 0.4325, 0.5117],\n",
      "          [0.3354, 0.4401, 0.5926],\n",
      "          [0.7163, 0.3485, 0.5879],\n",
      "          ...,\n",
      "          [0.4788, 0.4783, 0.6396],\n",
      "          [0.9166, 0.5607, 0.5353],\n",
      "          [0.5641, 0.6782, 0.3795]],\n",
      "\n",
      "         [[0.4624, 0.3565, 0.6579],\n",
      "          [0.2855, 0.4013, 0.4171],\n",
      "          [0.5946, 0.3627, 0.5392],\n",
      "          ...,\n",
      "          [0.3096, 0.4547, 0.6045],\n",
      "          [0.7928, 0.6958, 0.4495],\n",
      "          [0.5291, 0.7807, 0.3222]],\n",
      "\n",
      "         [[0.5683, 0.4355, 0.4108],\n",
      "          [0.4318, 0.4936, 0.5637],\n",
      "          [0.4784, 0.2077, 0.6975],\n",
      "          ...,\n",
      "          [0.4156, 0.5364, 0.7346],\n",
      "          [0.7253, 0.5748, 0.6408],\n",
      "          [0.4096, 0.7923, 0.3260]]]]), 'phq_score_gt': tensor([7., 4.]), 'phq_binay_gt': tensor([0., 0.]), 'phq_subscores_gt': tensor([[0., 1., 1., 2., 2., 1., 0., 0.],\n",
      "        [1., 1., 0., 0., 0., 1., 1., 0.]]), 'gender_gt': tensor([1., 1.])}\n",
      "=================================\n",
      "Batch number:  2 , sentence embeddings:  torch.Size([1, 224, 224, 3])\n",
      "{'patientID': tensor([426], dtype=torch.int32), 'session_path': ['C:\\\\Users\\\\denni\\\\Documents\\\\KIT Studium\\\\Bachelorarbeit\\\\DAIC-WOZ Dataset\\\\426_P'], 'sentence_embeddings': tensor([[[[0.6541, 0.6616, 0.6107],\n",
      "          [0.4389, 0.5666, 0.5401],\n",
      "          [0.5643, 0.4712, 0.5156],\n",
      "          ...,\n",
      "          [0.5791, 0.5539, 0.6641],\n",
      "          [0.5370, 0.4186, 0.4544],\n",
      "          [0.4610, 0.4623, 0.7419]],\n",
      "\n",
      "         [[0.7037, 0.3840, 0.6029],\n",
      "          [0.5947, 0.3710, 0.4390],\n",
      "          [0.3658, 0.4238, 0.5772],\n",
      "          ...,\n",
      "          [0.3354, 0.6030, 0.4392],\n",
      "          [0.5322, 0.5048, 0.3826],\n",
      "          [0.5389, 0.4168, 0.7690]],\n",
      "\n",
      "         [[0.5925, 0.5430, 0.5957],\n",
      "          [0.8818, 0.7912, 0.5989],\n",
      "          [0.4828, 0.5011, 0.7137],\n",
      "          ...,\n",
      "          [0.0912, 0.4788, 0.5974],\n",
      "          [0.3259, 0.6810, 0.4265],\n",
      "          [0.5638, 0.3850, 0.7592]],\n",
      "\n",
      "         ...,\n",
      "\n",
      "         [[0.3794, 0.5893, 0.7395],\n",
      "          [0.5975, 0.5180, 0.4675],\n",
      "          [0.5319, 0.3543, 0.5250],\n",
      "          ...,\n",
      "          [0.4278, 0.5351, 0.4674],\n",
      "          [0.5347, 0.5974, 0.4773],\n",
      "          [0.5563, 0.3880, 0.5884]],\n",
      "\n",
      "         [[0.5196, 0.5740, 0.5325],\n",
      "          [0.5898, 0.5761, 0.4799],\n",
      "          [0.4701, 0.3495, 0.3354],\n",
      "          ...,\n",
      "          [0.3613, 0.5520, 0.4083],\n",
      "          [0.5233, 0.6643, 0.4083],\n",
      "          [0.5297, 0.3277, 0.7766]],\n",
      "\n",
      "         [[0.9009, 0.3310, 0.4835],\n",
      "          [0.4687, 0.6018, 0.4323],\n",
      "          [0.4219, 0.5571, 0.4626],\n",
      "          ...,\n",
      "          [0.2910, 0.6339, 0.3681],\n",
      "          [0.7101, 0.4523, 0.4666],\n",
      "          [0.5272, 0.5245, 0.6456]]]]), 'phq_score_gt': tensor([2.]), 'phq_binay_gt': tensor([0.]), 'phq_subscores_gt': tensor([[0., 0., 1., 1., 0., 0., 0., 0.]]), 'gender_gt': tensor([1.])}\n",
      "=================================\n",
      "number of the batches in DataLoader is 3\n"
     ]
    }
   ],
   "source": [
    "from torch.utils.data import DataLoader\n",
    "from torchvision import transforms\n",
    "\n",
    "# test 3: try to load the dataset with DataLoader\n",
    "transformed_dataset = DepressionDataset(os.path.join(os.getcwd(), 'DAIC-WOZ Dataset'), 'train',\n",
    "                                        transform=transforms.Compose([Rescale((256, 256)),\n",
    "                                                                      RandomCrop((224, 224)),\n",
    "                                                                      ToTensor()]))\n",
    "\n",
    "# create dataloader\n",
    "dataloader = DataLoader(transformed_dataset, \n",
    "                        batch_size=2,\n",
    "                        shuffle=False, \n",
    "                        num_workers=0)\n",
    "# iterate through batches\n",
    "for i_batch, sample_batched in enumerate(dataloader):\n",
    "    print('Batch number: ', i_batch, ', sentence embeddings: ', sample_batched['sentence_embeddings'].size())\n",
    "    print(sample_batched)\n",
    "    print('=================================')\n",
    "    \n",
    "    if i_batch == 0:\n",
    "        sample = sample_batched['sentence_embeddings']\n",
    "    \n",
    "print('number of the batches in DataLoader is {}'.format(len(dataloader)))"
   ]
  },
  {
   "cell_type": "code",
   "execution_count": 102,
   "id": "3ef8905a",
   "metadata": {},
   "outputs": [
    {
     "data": {
      "text/plain": [
       "torch.Size([2, 224, 224, 3])"
      ]
     },
     "execution_count": 102,
     "metadata": {},
     "output_type": "execute_result"
    }
   ],
   "source": [
    "sample.shape"
   ]
  },
  {
   "cell_type": "markdown",
   "id": "c6f997e2",
   "metadata": {},
   "source": [
    "####  use 'permute' to make sure the channel dimension is in 2 position to match the input requirement format"
   ]
  },
  {
   "cell_type": "code",
   "execution_count": 106,
   "id": "5ad2d5bf",
   "metadata": {},
   "outputs": [
    {
     "data": {
      "text/plain": [
       "torch.Size([2, 3, 224, 224])"
      ]
     },
     "execution_count": 106,
     "metadata": {},
     "output_type": "execute_result"
    }
   ],
   "source": [
    "sample.permute(0, 3, 1, 2).contiguous().shape"
   ]
  },
  {
   "cell_type": "markdown",
   "id": "84f4fca0",
   "metadata": {},
   "source": [
    "##### remember to convert to torch.FloatTensor in order to fit in the model"
   ]
  },
  {
   "cell_type": "code",
   "execution_count": 4,
   "id": "683ccada",
   "metadata": {
    "scrolled": true
   },
   "outputs": [
    {
     "data": {
      "text/plain": [
       "tensor([[-0.0131,  0.0572, -0.0360,  ..., -0.0415, -0.0471,  0.0127],\n",
       "        [-0.0290,  0.0563, -0.0076,  ..., -0.0085, -0.0270, -0.0027],\n",
       "        [ 0.0337, -0.0226, -0.0394,  ...,  0.0040, -0.0337, -0.0060],\n",
       "        ...,\n",
       "        [ 0.0000,  0.0000,  0.0000,  ...,  0.0000,  0.0000,  0.0000],\n",
       "        [ 0.0000,  0.0000,  0.0000,  ...,  0.0000,  0.0000,  0.0000],\n",
       "        [ 0.0000,  0.0000,  0.0000,  ...,  0.0000,  0.0000,  0.0000]],\n",
       "       dtype=torch.float64)"
      ]
     },
     "execution_count": 4,
     "metadata": {},
     "output_type": "execute_result"
    }
   ],
   "source": [
    "transformed_dataset[0]['sentence_embeddings']  # .type(torch.DoubleTensor)"
   ]
  },
  {
   "cell_type": "code",
   "execution_count": 5,
   "id": "2613f23e",
   "metadata": {
    "scrolled": true
   },
   "outputs": [
    {
     "data": {
      "text/plain": [
       "torch.Size([386, 768])"
      ]
     },
     "execution_count": 5,
     "metadata": {},
     "output_type": "execute_result"
    }
   ],
   "source": [
    "transformed_dataset[0]['sentence_embeddings'].type(torch.FloatTensor).shape  # .type(torch.cuda.DoubleTensor)"
   ]
  },
  {
   "cell_type": "code",
   "execution_count": null,
   "id": "785db797",
   "metadata": {},
   "outputs": [],
   "source": []
  },
  {
   "cell_type": "markdown",
   "id": "bdea2908",
   "metadata": {},
   "source": [
    "### How list.extend() and torchElement.item() and torchVector.numpy() works"
   ]
  },
  {
   "cell_type": "code",
   "execution_count": 30,
   "id": "d2c119ce",
   "metadata": {},
   "outputs": [
    {
     "data": {
      "text/plain": [
       "array([2, 3], dtype=int64)"
      ]
     },
     "execution_count": 30,
     "metadata": {},
     "output_type": "execute_result"
    }
   ],
   "source": [
    "a_list = []\n",
    "torch.tensor([2,3]).numpy()"
   ]
  },
  {
   "cell_type": "markdown",
   "id": "2445f31b",
   "metadata": {},
   "source": [
    "##### 2 ways to do it"
   ]
  },
  {
   "cell_type": "code",
   "execution_count": 414,
   "id": "a11e08a8",
   "metadata": {},
   "outputs": [
    {
     "data": {
      "text/plain": [
       "[2, 3]"
      ]
     },
     "execution_count": 414,
     "metadata": {},
     "output_type": "execute_result"
    }
   ],
   "source": [
    "a_list.extend(torch.tensor([2,3]).numpy())\n",
    "a_list"
   ]
  },
  {
   "cell_type": "code",
   "execution_count": 417,
   "id": "ab3d4e3c",
   "metadata": {},
   "outputs": [
    {
     "data": {
      "text/plain": [
       "[2, 3]"
      ]
     },
     "execution_count": 417,
     "metadata": {},
     "output_type": "execute_result"
    }
   ],
   "source": [
    "a_list.extend([i.item() for i in torch.tensor([2,3])])\n",
    "a_list"
   ]
  },
  {
   "cell_type": "code",
   "execution_count": 33,
   "id": "a717132c",
   "metadata": {},
   "outputs": [
    {
     "data": {
      "text/plain": [
       "tensor([[2],\n",
       "        [3]])"
      ]
     },
     "execution_count": 33,
     "metadata": {},
     "output_type": "execute_result"
    }
   ],
   "source": [
    "b_list = []\n",
    "exp2 = torch.tensor([[2],[3]])\n",
    "exp2"
   ]
  },
  {
   "cell_type": "code",
   "execution_count": 388,
   "id": "9a651d07",
   "metadata": {},
   "outputs": [
    {
     "data": {
      "text/plain": [
       "[2, 3]"
      ]
     },
     "execution_count": 388,
     "metadata": {},
     "output_type": "execute_result"
    }
   ],
   "source": [
    "b_list.extend([i.item() for i in exp2])\n",
    "b_list"
   ]
  },
  {
   "cell_type": "code",
   "execution_count": 420,
   "id": "fcf72944",
   "metadata": {},
   "outputs": [
    {
     "data": {
      "text/plain": [
       "[array([2], dtype=int64), array([3], dtype=int64)]"
      ]
     },
     "execution_count": 420,
     "metadata": {},
     "output_type": "execute_result"
    }
   ],
   "source": [
    "b_list.extend(exp2.numpy())\n",
    "b_list"
   ]
  },
  {
   "cell_type": "markdown",
   "id": "2ee70e9e",
   "metadata": {},
   "source": [
    "### How to extend a torch tensor to a single list of float or list of numpy array"
   ]
  },
  {
   "cell_type": "code",
   "execution_count": 28,
   "id": "251211ab",
   "metadata": {},
   "outputs": [
    {
     "data": {
      "text/plain": [
       "tensor([[0, 1, 1, 2, 2, 1, 0, 0],\n",
       "        [1, 1, 0, 0, 0, 1, 1, 0]])"
      ]
     },
     "execution_count": 28,
     "metadata": {},
     "output_type": "execute_result"
    }
   ],
   "source": [
    "exp = torch.tensor([[0, 1, 1, 2, 2, 1, 0, 0],\n",
    "                    [1, 1, 0, 0, 0, 1, 1, 0]])\n",
    "exp"
   ]
  },
  {
   "cell_type": "code",
   "execution_count": 349,
   "id": "c5f0e2ed",
   "metadata": {},
   "outputs": [
    {
     "name": "stdout",
     "output_type": "stream",
     "text": [
      "[0 1 1 2 2 1 0 0]\n",
      "<class 'numpy.ndarray'>\n",
      "[1 1 0 0 0 1 1 0]\n",
      "<class 'numpy.ndarray'>\n"
     ]
    }
   ],
   "source": [
    "for i in exp:\n",
    "    print(i.numpy())\n",
    "    print(type(i.numpy()))"
   ]
  },
  {
   "cell_type": "code",
   "execution_count": 31,
   "id": "28c6dd04",
   "metadata": {},
   "outputs": [
    {
     "data": {
      "text/plain": [
       "[0.0,\n",
       " 1.0,\n",
       " 1.0,\n",
       " 2.0,\n",
       " 2.0,\n",
       " 1.0,\n",
       " 0.0,\n",
       " 0.0,\n",
       " 1.0,\n",
       " 1.0,\n",
       " 0.0,\n",
       " 0.0,\n",
       " 0.0,\n",
       " 1.0,\n",
       " 1.0,\n",
       " 0.0]"
      ]
     },
     "execution_count": 31,
     "metadata": {},
     "output_type": "execute_result"
    }
   ],
   "source": [
    "for i in exp:\n",
    "    a_list.extend(i.numpy().astype(float))\n",
    "a_list"
   ]
  },
  {
   "cell_type": "code",
   "execution_count": 395,
   "id": "acea9d53",
   "metadata": {},
   "outputs": [
    {
     "data": {
      "text/plain": [
       "[array([0., 1., 1., 2., 2., 1., 0., 0.]),\n",
       " array([1., 1., 0., 0., 0., 1., 1., 0.])]"
      ]
     },
     "execution_count": 395,
     "metadata": {},
     "output_type": "execute_result"
    }
   ],
   "source": [
    "a_list.extend([exp[i].numpy().astype(float) for i in range(exp.size(0))])\n",
    "a_list"
   ]
  },
  {
   "cell_type": "code",
   "execution_count": 379,
   "id": "69e5707e",
   "metadata": {
    "scrolled": true
   },
   "outputs": [
    {
     "data": {
      "text/plain": [
       "array([[0., 1., 1., 2., 2., 1., 0., 0.],\n",
       "       [1., 1., 0., 0., 0., 1., 1., 0.]])"
      ]
     },
     "execution_count": 379,
     "metadata": {},
     "output_type": "execute_result"
    }
   ],
   "source": [
    "# convet the whole list of numpy arrays to numpy arrays\n",
    "np.array(a_list)"
   ]
  },
  {
   "cell_type": "code",
   "execution_count": null,
   "id": "f2bd7635",
   "metadata": {},
   "outputs": [],
   "source": []
  },
  {
   "cell_type": "code",
   "execution_count": null,
   "id": "d6bced33",
   "metadata": {},
   "outputs": [],
   "source": []
  },
  {
   "cell_type": "markdown",
   "id": "a8e3e311",
   "metadata": {},
   "source": [
    "## Debug: How to convert a batch of 'phq_subscores_gt' to soft_subscores"
   ]
  },
  {
   "cell_type": "code",
   "execution_count": 25,
   "id": "448cbebd",
   "metadata": {},
   "outputs": [],
   "source": [
    "from scipy import stats"
   ]
  },
  {
   "cell_type": "code",
   "execution_count": 26,
   "id": "aa7207d1",
   "metadata": {},
   "outputs": [
    {
     "data": {
      "text/plain": [
       "{'patientID': 363,\n",
       " 'session_path': 'C:\\\\Users\\\\denni\\\\Documents\\\\KIT Studium\\\\Bachelorarbeit\\\\DAIC-WOZ Dataset\\\\363_P',\n",
       " 'sentence_embeddings': tensor([[-0.0550, -0.0017, -0.0115,  ...,  0.0490, -0.0064, -0.0252],\n",
       "         [ 0.0420, -0.0161, -0.0109,  ...,  0.0055, -0.0070,  0.0034],\n",
       "         [ 0.0169,  0.0313, -0.0218,  ...,  0.0108, -0.0282, -0.0090],\n",
       "         ...,\n",
       "         [ 0.0000,  0.0000,  0.0000,  ...,  0.0000,  0.0000,  0.0000],\n",
       "         [ 0.0000,  0.0000,  0.0000,  ...,  0.0000,  0.0000,  0.0000],\n",
       "         [ 0.0000,  0.0000,  0.0000,  ...,  0.0000,  0.0000,  0.0000]],\n",
       "        dtype=torch.float64),\n",
       " 'phq_score_gt': tensor(4),\n",
       " 'phq_binay_gt': tensor(0),\n",
       " 'phq_subscores_gt': tensor([1, 1, 0, 0, 0, 1, 1, 0]),\n",
       " 'gender_gt': tensor(1)}"
      ]
     },
     "execution_count": 26,
     "metadata": {},
     "output_type": "execute_result"
    }
   ],
   "source": [
    "transformed_dataset[3]"
   ]
  },
  {
   "cell_type": "code",
   "execution_count": 27,
   "id": "5cc33b53",
   "metadata": {},
   "outputs": [
    {
     "data": {
      "text/plain": [
       "(tensor([1, 1, 0, 0, 0, 1, 1, 0]), tensor([0, 1, 1, 2, 2, 1, 0, 0]))"
      ]
     },
     "execution_count": 27,
     "metadata": {},
     "output_type": "execute_result"
    }
   ],
   "source": [
    "# get two torch tensors\n",
    "sub1 = transformed_dataset[3]['phq_subscores_gt']\n",
    "sub2 = transformed_dataset[2]['phq_subscores_gt']\n",
    "sub1,sub2"
   ]
  },
  {
   "cell_type": "code",
   "execution_count": 48,
   "id": "b18b7bdc",
   "metadata": {},
   "outputs": [
    {
     "data": {
      "text/plain": [
       "(tensor([0, 1, 2, 3, 2, 3, 1, 0]), tensor([0, 1, 1, 2, 2, 1, 0, 0]))"
      ]
     },
     "execution_count": 48,
     "metadata": {},
     "output_type": "execute_result"
    }
   ],
   "source": [
    "sub1 = torch.tensor([0, 1, 2, 3, 2, 3, 1, 0])\n",
    "sub2 = torch.tensor([0, 1, 1, 2, 2, 1, 0, 0])\n",
    "\n",
    "sub1,sub2"
   ]
  },
  {
   "cell_type": "code",
   "execution_count": 49,
   "id": "96b5c625",
   "metadata": {},
   "outputs": [
    {
     "data": {
      "text/plain": [
       "tensor([[0, 1, 2, 3, 2, 3, 1, 0],\n",
       "        [0, 1, 1, 2, 2, 1, 0, 0]])"
      ]
     },
     "execution_count": 49,
     "metadata": {},
     "output_type": "execute_result"
    }
   ],
   "source": [
    "# test how torch.stack works\n",
    "torch.stack([sub1, sub2], dim=0)"
   ]
  },
  {
   "cell_type": "markdown",
   "id": "491ece72",
   "metadata": {},
   "source": [
    "### - Soft_subscore version 1: resolution based on our class number"
   ]
  },
  {
   "cell_type": "code",
   "execution_count": 97,
   "id": "2305d0f1",
   "metadata": {},
   "outputs": [],
   "source": [
    "def convert_soft_subscores(subscores, config):\n",
    "    # Each subscore choose a score from [0, 1, 2, 3], we normalize it into 0 ~ config['CLASSES_RESOLUTION']\n",
    "    tmp = [stats.norm.pdf(np.arange(config['CLASSES_RESOLUTION']),\n",
    "                          loc=subscore / ((config['N_CLASSES'] - 1) / (config['CLASSES_RESOLUTION']-1)),\n",
    "                          scale=config['STD']).astype(np.float32)\n",
    "           for subscore in subscores]\n",
    "    tmp = np.stack(tmp)\n",
    "    return torch.from_numpy(tmp / tmp.sum(axis=-1, keepdims=True))  # 8x4"
   ]
  },
  {
   "cell_type": "code",
   "execution_count": 98,
   "id": "71fbb649",
   "metadata": {},
   "outputs": [],
   "source": [
    "def get_soft_subscores(subscores_gt, config):\n",
    "\n",
    "    soft_subscores_gt = torch.tensor([[]])\n",
    "\n",
    "    for i in range(len(subscores_gt)):\n",
    "        subscores = subscores_gt[i]\n",
    "        converted_subscores = convert_soft_subscores(subscores, config).view(-1, config['N_SUBSCORES'],\n",
    "                                                                             config['CLASSES_RESOLUTION'])\n",
    "        if i == 0:\n",
    "            soft_subscores_gt = converted_subscores\n",
    "        else:\n",
    "            soft_subscores_gt = torch.cat([soft_subscores_gt, converted_subscores], dim=0)\n",
    "\n",
    "    return soft_subscores_gt.view(-1, config['N_SUBSCORES'], config['CLASSES_RESOLUTION'])"
   ]
  },
  {
   "cell_type": "code",
   "execution_count": 99,
   "id": "5f120f7c",
   "metadata": {},
   "outputs": [],
   "source": [
    "# try to create a batch of phq_subscores_gt to simulate the code process\n",
    "data = {}\n",
    "data['phq_subscores_gt'] = torch.stack([sub1, sub2], dim=0)\n",
    "\n",
    "config = {}\n",
    "config['N_CLASSES'] = 4\n",
    "config['N_SUBSCORES'] = 8\n",
    "config['CLASSES_RESOLUTION'] = 4\n",
    "config['STD'] = 0.8"
   ]
  },
  {
   "cell_type": "code",
   "execution_count": 100,
   "id": "a754aaa2",
   "metadata": {
    "scrolled": true
   },
   "outputs": [
    {
     "data": {
      "text/plain": [
       "tensor([[0, 1, 2, 3, 2, 3, 1, 0],\n",
       "        [0, 1, 1, 2, 2, 1, 0, 0]])"
      ]
     },
     "execution_count": 100,
     "metadata": {},
     "output_type": "execute_result"
    }
   ],
   "source": [
    "data['phq_subscores_gt']"
   ]
  },
  {
   "cell_type": "code",
   "execution_count": 101,
   "id": "eb617d6b",
   "metadata": {},
   "outputs": [
    {
     "data": {
      "text/plain": [
       "tensor([[[6.6549e-01, 3.0468e-01, 2.9240e-02, 5.8818e-04],\n",
       "         [2.3364e-01, 5.1031e-01, 2.3364e-01, 2.2421e-02],\n",
       "         [2.2421e-02, 2.3364e-01, 5.1031e-01, 2.3364e-01],\n",
       "         [5.8818e-04, 2.9240e-02, 3.0468e-01, 6.6549e-01],\n",
       "         [2.2421e-02, 2.3364e-01, 5.1031e-01, 2.3364e-01],\n",
       "         [5.8818e-04, 2.9240e-02, 3.0468e-01, 6.6549e-01],\n",
       "         [2.3364e-01, 5.1031e-01, 2.3364e-01, 2.2421e-02],\n",
       "         [6.6549e-01, 3.0468e-01, 2.9240e-02, 5.8818e-04]],\n",
       "\n",
       "        [[6.6549e-01, 3.0468e-01, 2.9240e-02, 5.8818e-04],\n",
       "         [2.3364e-01, 5.1031e-01, 2.3364e-01, 2.2421e-02],\n",
       "         [2.3364e-01, 5.1031e-01, 2.3364e-01, 2.2421e-02],\n",
       "         [2.2421e-02, 2.3364e-01, 5.1031e-01, 2.3364e-01],\n",
       "         [2.2421e-02, 2.3364e-01, 5.1031e-01, 2.3364e-01],\n",
       "         [2.3364e-01, 5.1031e-01, 2.3364e-01, 2.2421e-02],\n",
       "         [6.6549e-01, 3.0468e-01, 2.9240e-02, 5.8818e-04],\n",
       "         [6.6549e-01, 3.0468e-01, 2.9240e-02, 5.8818e-04]]])"
      ]
     },
     "execution_count": 101,
     "metadata": {},
     "output_type": "execute_result"
    }
   ],
   "source": [
    "# function for converting a batcg of patient's subscores to soft_subscores\n",
    "result1 = get_soft_subscores(data['phq_subscores_gt'], config)  \n",
    "result1"
   ]
  },
  {
   "cell_type": "code",
   "execution_count": 102,
   "id": "6da381e6",
   "metadata": {},
   "outputs": [
    {
     "data": {
      "text/plain": [
       "torch.Size([2, 8, 4])"
      ]
     },
     "execution_count": 102,
     "metadata": {},
     "output_type": "execute_result"
    }
   ],
   "source": [
    "# make sure the output shape is batch_size x number_of_subscores x classes_number\n",
    "result1.shape"
   ]
  },
  {
   "cell_type": "code",
   "execution_count": 103,
   "id": "f66e9bbf",
   "metadata": {
    "scrolled": false
   },
   "outputs": [
    {
     "data": {
      "text/plain": [
       "tensor([[6.6549e-01, 3.0468e-01, 2.9240e-02, 5.8818e-04],\n",
       "        [2.3364e-01, 5.1031e-01, 2.3364e-01, 2.2421e-02],\n",
       "        [2.2421e-02, 2.3364e-01, 5.1031e-01, 2.3364e-01],\n",
       "        [5.8818e-04, 2.9240e-02, 3.0468e-01, 6.6549e-01],\n",
       "        [2.2421e-02, 2.3364e-01, 5.1031e-01, 2.3364e-01],\n",
       "        [5.8818e-04, 2.9240e-02, 3.0468e-01, 6.6549e-01],\n",
       "        [2.3364e-01, 5.1031e-01, 2.3364e-01, 2.2421e-02],\n",
       "        [6.6549e-01, 3.0468e-01, 2.9240e-02, 5.8818e-04]])"
      ]
     },
     "execution_count": 103,
     "metadata": {},
     "output_type": "execute_result"
    },
    {
     "data": {
      "image/png": "[encoded data removed]",
      "text/plain": [
       "<Figure size 432x288 with 1 Axes>"
      ]
     },
     "metadata": {
      "needs_background": "light"
     },
     "output_type": "display_data"
    }
   ],
   "source": [
    "# visualization\n",
    "import matplotlib.pyplot as plt\n",
    "\n",
    "plt.plot(result1[0].T)\n",
    "result1[0]"
   ]
  },
  {
   "cell_type": "markdown",
   "id": "5ee9a01c",
   "metadata": {},
   "source": [
    "### - Soft_subscore version 2: resolution bigger than class number"
   ]
  },
  {
   "cell_type": "code",
   "execution_count": 114,
   "id": "6a2d0f12",
   "metadata": {},
   "outputs": [
    {
     "data": {
      "text/plain": [
       "torch.Size([2, 8, 28])"
      ]
     },
     "execution_count": 114,
     "metadata": {},
     "output_type": "execute_result"
    }
   ],
   "source": [
    "config = {}\n",
    "config['N_CLASSES'] = 4\n",
    "config['N_SUBSCORES'] = 8\n",
    "config['CLASSES_RESOLUTION'] = 28\n",
    "config['STD'] = 5\n",
    "\n",
    "result2 = get_soft_subscores(data['phq_subscores_gt'], config)  \n",
    "result2.shape"
   ]
  },
  {
   "cell_type": "code",
   "execution_count": 115,
   "id": "4e5fef20",
   "metadata": {},
   "outputs": [
    {
     "data": {
      "text/plain": [
       "[<matplotlib.lines.Line2D at 0x26343216ca0>,\n",
       " <matplotlib.lines.Line2D at 0x26343216dc0>,\n",
       " <matplotlib.lines.Line2D at 0x26343216e80>,\n",
       " <matplotlib.lines.Line2D at 0x26343216f40>,\n",
       " <matplotlib.lines.Line2D at 0x26343216fa0>,\n",
       " <matplotlib.lines.Line2D at 0x26343226100>,\n",
       " <matplotlib.lines.Line2D at 0x263432261c0>,\n",
       " <matplotlib.lines.Line2D at 0x26343226280>]"
      ]
     },
     "execution_count": 115,
     "metadata": {},
     "output_type": "execute_result"
    },
    {
     "data": {
      "image/png": "[encoded data removed]",
      "text/plain": [
       "<Figure size 432x288 with 1 Axes>"
      ]
     },
     "metadata": {
      "needs_background": "light"
     },
     "output_type": "display_data"
    }
   ],
   "source": [
    "# plt.plot(result[0].T)\n",
    "plt.plot(result2[0].T)\n",
    "# result2[0]"
   ]
  },
  {
   "cell_type": "code",
   "execution_count": null,
   "id": "2df35d66",
   "metadata": {},
   "outputs": [],
   "source": []
  },
  {
   "cell_type": "code",
   "execution_count": null,
   "id": "c7052b69",
   "metadata": {},
   "outputs": [],
   "source": []
  },
  {
   "cell_type": "code",
   "execution_count": null,
   "id": "1f74b8fe",
   "metadata": {},
   "outputs": [],
   "source": []
  },
  {
   "cell_type": "code",
   "execution_count": 25,
   "id": "169d28ff",
   "metadata": {},
   "outputs": [],
   "source": [
    "tensor_a = torch.tensor([[2.3364e-01, 5.1031e-01, 2.3364e-01, 2.2421e-02],\n",
    "         [2.3364e-01, 5.1031e-01, 2.3364e-01, 2.2421e-02],\n",
    "         [6.6549e-01, 3.0468e-01, 2.9240e-02, 5.8818e-04],\n",
    "         [6.6549e-01, 3.0468e-01, 2.9240e-02, 5.8818e-04],\n",
    "         [6.6549e-01, 3.0468e-01, 2.9240e-02, 5.8818e-04],\n",
    "         [2.3364e-01, 5.1031e-01, 2.3364e-01, 2.2421e-02],\n",
    "         [2.3364e-01, 5.1031e-01, 2.3364e-01, 2.2421e-02],\n",
    "         [6.6549e-01, 3.0468e-01, 2.9240e-02, 5.8818e-04]])\n",
    "\n",
    "tensor_b = torch.tensor([[6.6549e-01, 3.0468e-01, 2.9240e-02, 5.8818e-04],\n",
    "         [2.3364e-01, 5.1031e-01, 2.3364e-01, 2.2421e-02],\n",
    "         [2.3364e-01, 5.1031e-01, 2.3364e-01, 2.2421e-02],\n",
    "         [2.2421e-02, 2.3364e-01, 5.1031e-01, 2.3364e-01],\n",
    "         [2.2421e-02, 2.3364e-01, 5.1031e-01, 2.3364e-01],\n",
    "         [2.3364e-01, 5.1031e-01, 2.3364e-01, 2.2421e-02],\n",
    "         [6.6549e-01, 3.0468e-01, 2.9240e-02, 5.8818e-04],\n",
    "         [6.6549e-01, 3.0468e-01, 2.9240e-02, 5.8818e-04]])\n",
    "\n",
    "tensor_c = torch.tensor([[2.3364e-01, 5.1031e-01, 2.3364e-01, 2.2421e-02],\n",
    "         [2.3364e-01, 5.1031e-01, 2.3364e-01, 2.2421e-02],\n",
    "         [6.6549e-01, 3.0468e-01, 2.9240e-02, 5.8818e-04],\n",
    "         [6.6549e-01, 3.0468e-01, 2.9240e-02, 5.8818e-04],\n",
    "         [6.6549e-01, 3.0468e-01, 2.9240e-02, 5.8818e-04],\n",
    "         [2.3364e-01, 5.1031e-01, 2.3364e-01, 2.2421e-02],\n",
    "         [2.3364e-01, 5.1031e-01, 2.3364e-01, 2.2421e-02],\n",
    "         [6.6549e-01, 3.0468e-01, 2.9240e-02, 5.8818e-04]])\n"
   ]
  },
  {
   "cell_type": "code",
   "execution_count": 32,
   "id": "75857b63",
   "metadata": {},
   "outputs": [
    {
     "data": {
      "text/plain": [
       "tensor([[[2.3364e-01, 5.1031e-01, 2.3364e-01, 2.2421e-02],\n",
       "         [2.3364e-01, 5.1031e-01, 2.3364e-01, 2.2421e-02],\n",
       "         [6.6549e-01, 3.0468e-01, 2.9240e-02, 5.8818e-04],\n",
       "         [6.6549e-01, 3.0468e-01, 2.9240e-02, 5.8818e-04],\n",
       "         [6.6549e-01, 3.0468e-01, 2.9240e-02, 5.8818e-04],\n",
       "         [2.3364e-01, 5.1031e-01, 2.3364e-01, 2.2421e-02],\n",
       "         [2.3364e-01, 5.1031e-01, 2.3364e-01, 2.2421e-02],\n",
       "         [6.6549e-01, 3.0468e-01, 2.9240e-02, 5.8818e-04]],\n",
       "\n",
       "        [[6.6549e-01, 3.0468e-01, 2.9240e-02, 5.8818e-04],\n",
       "         [2.3364e-01, 5.1031e-01, 2.3364e-01, 2.2421e-02],\n",
       "         [2.3364e-01, 5.1031e-01, 2.3364e-01, 2.2421e-02],\n",
       "         [2.2421e-02, 2.3364e-01, 5.1031e-01, 2.3364e-01],\n",
       "         [2.2421e-02, 2.3364e-01, 5.1031e-01, 2.3364e-01],\n",
       "         [2.3364e-01, 5.1031e-01, 2.3364e-01, 2.2421e-02],\n",
       "         [6.6549e-01, 3.0468e-01, 2.9240e-02, 5.8818e-04],\n",
       "         [6.6549e-01, 3.0468e-01, 2.9240e-02, 5.8818e-04]]])"
      ]
     },
     "execution_count": 32,
     "metadata": {},
     "output_type": "execute_result"
    }
   ],
   "source": [
    "torch.cat([tensor_a, tensor_b], dim=0).view(-1, 8, 4)"
   ]
  },
  {
   "cell_type": "code",
   "execution_count": null,
   "id": "d9a55570",
   "metadata": {},
   "outputs": [],
   "source": [
    "\n",
    "        \n"
   ]
  },
  {
   "cell_type": "markdown",
   "id": "376b2b47",
   "metadata": {},
   "source": [
    "### MUSDL Benchmark: result of converting the label to soft_scores"
   ]
  },
  {
   "cell_type": "code",
   "execution_count": 84,
   "id": "2773f0a0",
   "metadata": {},
   "outputs": [
    {
     "data": {
      "text/plain": [
       "tensor([ 0.0000,  1.0000,  2.5000,  4.0000,  6.5000,  7.5000,  9.0000, 10.0000])"
      ]
     },
     "execution_count": 84,
     "metadata": {},
     "output_type": "execute_result"
    }
   ],
   "source": [
    "tensor = torch.tensor([0, 1, 2.5,  4.,  6.5, 7.5,  9, 10])\n",
    "tensor\n",
    "\n",
    "# example subscores from dataset\n",
    "\n",
    "# [7.5 7.5 7.  7.  7.5 7.  7.5]\n",
    "# [7.5 7.  7.5 7.  7.5 7.  7. ]\n",
    "# [7.5 8.5 7.5 8.5 7.5 7.5 8. ]\n",
    "# [6.5 6.5 6.5 6.5 7.  6.5 6.5]\n",
    "# [6.  6.5 6.  6.5 6.  6.  6. ]\n",
    "# [7.5 7.  7.  7.  7.  6.5 7. ]\n",
    "# [9.  9.  9.  8.5 9.5 9.  9. ]\n",
    "# [7.5 7.5 7.5 7.  8.  7.5 7.5]\n",
    "# [7.5 7.  7.  7.  7.5 7.5 7. ]\n",
    "# [8.5 8.5 8.5 8.5 8.5 8.5 8. ]\n",
    "# [5.5 5.5 4.5 5.5 6.5 5.5 6. ]\n",
    "# [8.5 9.  8.5 8.5 9.  8.5 9. ]\n",
    "# [8.  8.  8.  8.5 8.  8.5 7.5]\n",
    "# [7.  7.  6.5 7.5 6.5 7.5 7. ]\n",
    "# [8.  8.  7.5 7.5 7.  7.5 7. ]\n"
   ]
  },
  {
   "cell_type": "code",
   "execution_count": 85,
   "id": "d70d5b88",
   "metadata": {},
   "outputs": [],
   "source": [
    "def proc_label(tensor):\n",
    "    # Each judge choose a score from [0, 0.5, ..., 9.5, 10], we normalize it into 0~20\n",
    "    tmp = [stats.norm.pdf(np.arange(21), loc=judge_score * (21-1) / 10, scale=5).astype(np.float32)\n",
    "            for judge_score in tensor]\n",
    "    tmp = np.stack(tmp)\n",
    "    result = tmp / tmp.sum(axis=-1, keepdims=True)  # 7x21\n",
    "    return result"
   ]
  },
  {
   "cell_type": "code",
   "execution_count": 86,
   "id": "f9cb8e12",
   "metadata": {},
   "outputs": [
    {
     "data": {
      "text/plain": [
       "(8, 21)"
      ]
     },
     "execution_count": 86,
     "metadata": {},
     "output_type": "execute_result"
    }
   ],
   "source": [
    "test = proc_label(tensor)\n",
    "test.shape"
   ]
  },
  {
   "cell_type": "code",
   "execution_count": 88,
   "id": "14b788a2",
   "metadata": {
    "scrolled": false
   },
   "outputs": [
    {
     "data": {
      "text/plain": [
       "[<matplotlib.lines.Line2D at 0x26342f508b0>,\n",
       " <matplotlib.lines.Line2D at 0x26342f50220>,\n",
       " <matplotlib.lines.Line2D at 0x26342f502e0>,\n",
       " <matplotlib.lines.Line2D at 0x26342f505e0>,\n",
       " <matplotlib.lines.Line2D at 0x26342f50850>,\n",
       " <matplotlib.lines.Line2D at 0x26342f35100>,\n",
       " <matplotlib.lines.Line2D at 0x26342f351c0>,\n",
       " <matplotlib.lines.Line2D at 0x26342f35280>]"
      ]
     },
     "execution_count": 88,
     "metadata": {},
     "output_type": "execute_result"
    },
    {
     "data": {
      "image/png": "[encoded data removed]",
      "text/plain": [
       "<Figure size 432x288 with 1 Axes>"
      ]
     },
     "metadata": {
      "needs_background": "light"
     },
     "output_type": "display_data"
    }
   ],
   "source": [
    "import matplotlib.pyplot as plt\n",
    "plt.plot(test.T)"
   ]
  },
  {
   "cell_type": "code",
   "execution_count": 89,
   "id": "9e0c0915",
   "metadata": {},
   "outputs": [
    {
     "data": {
      "text/plain": [
       "array([1.47790805e-01, 1.44864351e-01, 1.36428118e-01, 1.23445265e-01,\n",
       "       1.07318155e-01, 8.96396562e-02, 7.19375089e-02, 5.54675311e-02,\n",
       "       4.10913602e-02, 2.92476118e-02, 2.00013127e-02, 1.31417988e-02,\n",
       "       8.29620287e-03, 5.03190141e-03, 2.93233152e-03, 1.64180761e-03,\n",
       "       8.83201254e-04, 4.56483773e-04, 2.26683129e-04, 1.08153676e-04,\n",
       "       4.95782951e-05], dtype=float32)"
      ]
     },
     "execution_count": 89,
     "metadata": {},
     "output_type": "execute_result"
    }
   ],
   "source": [
    "test[0]"
   ]
  },
  {
   "cell_type": "code",
   "execution_count": null,
   "id": "edc79bae",
   "metadata": {},
   "outputs": [],
   "source": []
  },
  {
   "cell_type": "code",
   "execution_count": null,
   "id": "2a40a74a",
   "metadata": {},
   "outputs": [],
   "source": []
  },
  {
   "cell_type": "markdown",
   "id": "af223d79",
   "metadata": {},
   "source": [
    "# Test sentence Transformer"
   ]
  },
  {
   "cell_type": "code",
   "execution_count": 121,
   "id": "cbe663bf",
   "metadata": {},
   "outputs": [
    {
     "data": {
      "text/html": [
       "<div>\n",
       "<style scoped>\n",
       "    .dataframe tbody tr th:only-of-type {\n",
       "        vertical-align: middle;\n",
       "    }\n",
       "\n",
       "    .dataframe tbody tr th {\n",
       "        vertical-align: top;\n",
       "    }\n",
       "\n",
       "    .dataframe thead th {\n",
       "        text-align: right;\n",
       "    }\n",
       "</style>\n",
       "<table border=\"1\" class=\"dataframe\">\n",
       "  <thead>\n",
       "    <tr style=\"text-align: right;\">\n",
       "      <th></th>\n",
       "      <th>start_time\\tstop_time\\tspeaker\\tvalue</th>\n",
       "    </tr>\n",
       "  </thead>\n",
       "  <tbody>\n",
       "    <tr>\n",
       "      <th>0</th>\n",
       "      <td>8.96\\t11.93\\tEllie\\thi i'm ellie thanks for co...</td>\n",
       "    </tr>\n",
       "    <tr>\n",
       "      <th>1</th>\n",
       "      <td>12.67\\t16.11\\tEllie\\ti was created to talk to ...</td>\n",
       "    </tr>\n",
       "    <tr>\n",
       "      <th>2</th>\n",
       "      <td>16.9\\t23.37\\tEllie\\ti'm not a therapist but i'...</td>\n",
       "    </tr>\n",
       "    <tr>\n",
       "      <th>3</th>\n",
       "      <td>23.93\\t28.64\\tEllie\\tand please feel free to t...</td>\n",
       "    </tr>\n",
       "    <tr>\n",
       "      <th>4</th>\n",
       "      <td>29.16\\t30.47\\tEllie\\tare you okay with this</td>\n",
       "    </tr>\n",
       "    <tr>\n",
       "      <th>...</th>\n",
       "      <td>...</td>\n",
       "    </tr>\n",
       "    <tr>\n",
       "      <th>124</th>\n",
       "      <td>533\\t534.1\\tParticipant\\ti like children</td>\n",
       "    </tr>\n",
       "    <tr>\n",
       "      <th>125</th>\n",
       "      <td>535.1\\t535.8\\tParticipant\\tum</td>\n",
       "    </tr>\n",
       "    <tr>\n",
       "      <th>126</th>\n",
       "      <td>539.15\\t541.41\\tEllie\\tokay i think i've asked...</td>\n",
       "    </tr>\n",
       "    <tr>\n",
       "      <th>127</th>\n",
       "      <td>542.15\\t543.63\\tEllie\\tthanks for sharing your...</td>\n",
       "    </tr>\n",
       "    <tr>\n",
       "      <th>128</th>\n",
       "      <td>544.47\\t545.04\\tEllie\\tgoodbye</td>\n",
       "    </tr>\n",
       "  </tbody>\n",
       "</table>\n",
       "<p>129 rows × 1 columns</p>\n",
       "</div>"
      ],
      "text/plain": [
       "                 start_time\\tstop_time\\tspeaker\\tvalue\n",
       "0    8.96\\t11.93\\tEllie\\thi i'm ellie thanks for co...\n",
       "1    12.67\\t16.11\\tEllie\\ti was created to talk to ...\n",
       "2    16.9\\t23.37\\tEllie\\ti'm not a therapist but i'...\n",
       "3    23.93\\t28.64\\tEllie\\tand please feel free to t...\n",
       "4         29.16\\t30.47\\tEllie\\tare you okay with this \n",
       "..                                                 ...\n",
       "124           533\\t534.1\\tParticipant\\ti like children\n",
       "125                     535.1\\t535.8\\tParticipant\\tum \n",
       "126  539.15\\t541.41\\tEllie\\tokay i think i've asked...\n",
       "127  542.15\\t543.63\\tEllie\\tthanks for sharing your...\n",
       "128                     544.47\\t545.04\\tEllie\\tgoodbye\n",
       "\n",
       "[129 rows x 1 columns]"
      ]
     },
     "execution_count": 121,
     "metadata": {},
     "output_type": "execute_result"
    }
   ],
   "source": [
    "from sentence_transformers import SentenceTransformer\n",
    "# sent2vec = SentenceTransformer('all-mpnet-base-v2')\n",
    "# # start multi-processing\n",
    "# SentenceTransformer.start_multi_process_pool(target_devices: List[str] = None)\n",
    "\n",
    "text_path = os.path.join(os.getcwd(), 'DAIC-WOZ Dataset', '362_P', '362_TRANSCRIPT.csv')\n",
    "pd.read_csv(text_path)"
   ]
  },
  {
   "cell_type": "code",
   "execution_count": 122,
   "id": "0ee3f219",
   "metadata": {},
   "outputs": [],
   "source": [
    "def load_text_file(text_path, speaker='Participant'):\n",
    "    '''load transcript file and extract the text of the given speaker'''\n",
    "\n",
    "    def tokenize_corpus(corpus):\n",
    "        '''tokenzie a given list of string into list of words'''\n",
    "        tokens = [x.split() for x in corpus]\n",
    "        return tokens\n",
    "\n",
    "    # only 'Ellie', 'Participant', 'both' are allow\n",
    "    assert speaker in ['Ellie', 'Participant', 'both'], \\\n",
    "        \"Argument --speaker could only be ['Ellie', 'Participant', 'both']\"\n",
    "\n",
    "    text_file = pd.read_csv(text_path)\n",
    "    # tokenize the text file, filter out all \\t space and unnecessary columns such as time, participent\n",
    "    tokenized_words = tokenize_corpus(text_file.values.tolist()[i][0] for i in range(text_file.shape[0]))\n",
    "\n",
    "    sentences = []\n",
    "    sentences_idx = []\n",
    "\n",
    "    if speaker == 'Ellie':\n",
    "        for idx, sentence in enumerate(tokenized_words):\n",
    "            if sentence[2] == 'Ellie':\n",
    "                sentences.append(sentence[3:])\n",
    "                sentences_idx.append(idx)\n",
    "    elif speaker == 'Participant':\n",
    "        for idx, sentence in enumerate(tokenized_words):\n",
    "            if sentence[2] == 'Participant':\n",
    "                sentences.append(sentence[3:])\n",
    "                sentences_idx.append(idx)\n",
    "\n",
    "    else:  # speaker == 'both'\n",
    "        sentences = [tokenized_words[i][3:] for i in range(len(tokenized_words))]\n",
    "        sentences_idx = list(range(len(tokenized_words)))\n",
    "\n",
    "    # recombine 2D list of words into 1D list of sentence\n",
    "    final_sentences = [\" \".join(sentences[i]).lower() for i in range(len(sentences))]\n",
    "\n",
    "    return final_sentences"
   ]
  },
  {
   "cell_type": "code",
   "execution_count": 123,
   "id": "3436caf3",
   "metadata": {},
   "outputs": [],
   "source": [
    "final_sentences = load_text_file(text_path)"
   ]
  },
  {
   "cell_type": "code",
   "execution_count": 124,
   "id": "c40305aa",
   "metadata": {
    "scrolled": true
   },
   "outputs": [
    {
     "data": {
      "text/plain": [
       "['yes',\n",
       " 'good',\n",
       " 'from california',\n",
       " 'i like the eh arts and entertainments i like',\n",
       " 'the uh',\n",
       " 'you have a lot of freedom to work in a lot of different fields um',\n",
       " 'i like the fact that the weather is great um i like the fact that all my roots are here all my family is here',\n",
       " \"i don't like\",\n",
       " \"how hard it is to get places anymore it's very hard there's so much traffic it takes a long time to get where you're going um it's expensive it's a lot more expensive than it used to be\",\n",
       " 'not anymore',\n",
       " 'i studied journalism english music and special effects makeup',\n",
       " 'i am',\n",
       " 'now i am managing a doggy day care facility',\n",
       " 'my dream job is to',\n",
       " 'own my own company again um',\n",
       " 'probably working with animals',\n",
       " 'no',\n",
       " \"i'm i'm an artist i draw i paint i do tattoos\",\n",
       " 'i work a lot with animals',\n",
       " 'i like outdoor activities biking hiking',\n",
       " \"um people that aren't fair people that are\",\n",
       " 'angry and um people that are dishonest',\n",
       " 'usually i will give myself like a ten second timeout and think about it before i speak or react',\n",
       " \"i'm very good at controlling my temper\",\n",
       " 'probably my spouse um about something to do with our financial matters',\n",
       " \"i'm very close to my children and my father\",\n",
       " 'scrubbed_entry',\n",
       " \"no it's never easy it's the hardest job in the world but it's the best\",\n",
       " 'just um',\n",
       " \"wanting to prevent your children from making the mistakes you've had but you realize that they have to do that\",\n",
       " \"just to learn how to live life um that's one of the hardest things is letting them make their own mistakes\",\n",
       " 'the uh unconditional love my boys have for me the',\n",
       " \"everything that being a parent has made me a better person it's made me a better everything a better employee um i've\",\n",
       " 'i think being having my children made me',\n",
       " 'um much better person every day',\n",
       " \"probably i have a lot i've had a very full life\",\n",
       " \"i would be really hard to say to narrow that down i've had so many\",\n",
       " \"i'm a good friend i'm a true friend i'm honest i'm real\",\n",
       " \"i'm dependable\",\n",
       " \"and i don't play games i'm very i'm no <n> i'm no drama\",\n",
       " 'no',\n",
       " 'yes i have',\n",
       " 'in um',\n",
       " 'february of two thousand eleven',\n",
       " 'i was attacked by a stalker and almost killed in november of two thousand nine he broke into my apartment and laid in wait for me and attacked me when i came in the door and tried to kill me',\n",
       " 'i do',\n",
       " \"i think therapy has helped me tremendously i don't think i'd be able to hold a job and be responsible and\",\n",
       " 'be',\n",
       " 'a productive member of society <s> of society without therapy',\n",
       " \"i'm able to handle things better i don't get so um emotionally upset um a lot more rational i try to stay more rational than emotional more rational and logical\",\n",
       " \"so-so i've been sick and i've been uh run down a little stressed out\",\n",
       " 'i have yes i have',\n",
       " \"i use the resources <res> draw on the resources that i've learned and i reach out to other people i try not to isolate\",\n",
       " 'i try to um',\n",
       " 'use the tools that have been given to me in therapy um',\n",
       " \"i don't use medication anymore so it's mainly just proactive treatment where i have to uh do something about it\",\n",
       " \"it's not it's never easy it's always bad\",\n",
       " 'tired lethargic',\n",
       " \"um it's hard to keep my thoughts in order it's hard just to do the basics during the day\",\n",
       " 'mm no',\n",
       " \"i can't remember\",\n",
       " 'oh i went to the beach with my oldest son and his best friend and we rode three real three-wheel bikes and that was a lot of fun',\n",
       " \"it's hard to say right now i haven't decided i'm very proud of my children i would say that's probably it they're really good boys\",\n",
       " 'i have too many regrets right now',\n",
       " 'to finish school',\n",
       " 'to um',\n",
       " 'stay focused to not',\n",
       " 'let myself get distracted um',\n",
       " 'to focus more on long-term goals than short-term goals',\n",
       " 'my father',\n",
       " \"i'm very honest i'm very calm\",\n",
       " \"i don't get angry easily it takes a lot to provoke me\",\n",
       " \"i'm uh reliable if i say i'm gonna do something i do it\",\n",
       " \"and i'm uh i'm not i'm basically what you see is what you get i don't i don't pull any punches with people\",\n",
       " 'um anything to do with animals i love animals i always smile around animals any kind big small',\n",
       " 'um i like older people elderly people i like to help them and be around them',\n",
       " 'i like children',\n",
       " 'um']"
      ]
     },
     "execution_count": 124,
     "metadata": {},
     "output_type": "execute_result"
    }
   ],
   "source": [
    "final_sentences"
   ]
  },
  {
   "cell_type": "code",
   "execution_count": 125,
   "id": "615c42e7",
   "metadata": {},
   "outputs": [
    {
     "data": {
      "text/plain": [
       "78"
      ]
     },
     "execution_count": 125,
     "metadata": {},
     "output_type": "execute_result"
    }
   ],
   "source": [
    "len(final_sentences)"
   ]
  },
  {
   "cell_type": "code",
   "execution_count": 126,
   "id": "8009e749",
   "metadata": {},
   "outputs": [],
   "source": [
    "from transformers import AutoTokenizer, AutoModel\n",
    "import torch"
   ]
  },
  {
   "cell_type": "code",
   "execution_count": 127,
   "id": "c76acb59",
   "metadata": {},
   "outputs": [],
   "source": [
    "#Mean Pooling - Take attention mask into account for correct averaging\n",
    "def mean_pooling(model_output, attention_mask):\n",
    "    token_embeddings = model_output[0] #First element of model_output contains all token embeddings\n",
    "    input_mask_expanded = attention_mask.unsqueeze(-1).expand(token_embeddings.size()).float()\n",
    "    sum_embeddings = torch.sum(token_embeddings * input_mask_expanded, 1)\n",
    "    sum_mask = torch.clamp(input_mask_expanded.sum(1), min=1e-9)\n",
    "    return sum_embeddings / sum_mask"
   ]
  },
  {
   "cell_type": "code",
   "execution_count": 128,
   "id": "32f5e20b",
   "metadata": {},
   "outputs": [
    {
     "name": "stdout",
     "output_type": "stream",
     "text": [
      "{'input_ids': tensor([[   0, 2752,    2,  ...,    1,    1,    1],\n",
      "        [   0, 2208,    2,  ...,    1,    1,    1],\n",
      "        [   0, 2017, 2666,  ...,    1,    1,    1],\n",
      "        ...,\n",
      "        [   0, 8533, 1049,  ...,    1,    1,    1],\n",
      "        [   0, 1049, 2070,  ...,    1,    1,    1],\n",
      "        [   0, 8533,    2,  ...,    1,    1,    1]]), 'attention_mask': tensor([[1, 1, 1,  ..., 0, 0, 0],\n",
      "        [1, 1, 1,  ..., 0, 0, 0],\n",
      "        [1, 1, 1,  ..., 0, 0, 0],\n",
      "        ...,\n",
      "        [1, 1, 1,  ..., 0, 0, 0],\n",
      "        [1, 1, 1,  ..., 0, 0, 0],\n",
      "        [1, 1, 1,  ..., 0, 0, 0]])}\n"
     ]
    }
   ],
   "source": [
    "#Sentences we want sentence embeddings for\n",
    "sentences = ['This framework generates embeddings for each input sentence',\n",
    "             'Sentences are passed as a list of string.',\n",
    "             'The quick brown fox jumps over the lazy dog.']\n",
    "\n",
    "#Load AutoModel from huggingface model repository\n",
    "tokenizer = AutoTokenizer.from_pretrained(\"sentence-transformers/all-mpnet-base-v2\")\n",
    "model = AutoModel.from_pretrained(\"sentence-transformers/all-mpnet-base-v2\")\n",
    "\n",
    "#Tokenize sentences\n",
    "encoded_input = tokenizer(final_sentences, padding=True, truncation=True, max_length=256, return_tensors='pt')\n",
    "print(encoded_input)\n",
    "\n",
    "# #Compute token embeddings\n",
    "# with torch.no_grad():\n",
    "#     model_output = model(**encoded_input)\n",
    "# # print(model_output)\n",
    "\n",
    "# #Perform pooling. In this case, mean pooling\n",
    "# sentence_embeddings = mean_pooling(model_output, encoded_input['attention_mask'])"
   ]
  },
  {
   "cell_type": "code",
   "execution_count": 133,
   "id": "0e105047",
   "metadata": {},
   "outputs": [
    {
     "data": {
      "text/plain": [
       "torch.Size([78, 50])"
      ]
     },
     "execution_count": 133,
     "metadata": {},
     "output_type": "execute_result"
    }
   ],
   "source": [
    "encoded_input['attention_mask'].shape"
   ]
  },
  {
   "cell_type": "code",
   "execution_count": 130,
   "id": "b43eed10",
   "metadata": {},
   "outputs": [],
   "source": [
    "#Compute token embeddings\n",
    "with torch.no_grad():\n",
    "    model_output = model(**encoded_input)\n",
    "\n",
    "#Perform pooling. In this case, mean pooling\n",
    "sentence_embeddings = mean_pooling(model_output, encoded_input['attention_mask'])"
   ]
  },
  {
   "cell_type": "code",
   "execution_count": 131,
   "id": "dec5f10f",
   "metadata": {},
   "outputs": [
    {
     "data": {
      "text/plain": [
       "torch.Size([78, 768])"
      ]
     },
     "execution_count": 131,
     "metadata": {},
     "output_type": "execute_result"
    }
   ],
   "source": [
    "sentence_embeddings.shape"
   ]
  },
  {
   "cell_type": "code",
   "execution_count": null,
   "id": "89549f38",
   "metadata": {},
   "outputs": [],
   "source": []
  },
  {
   "cell_type": "code",
   "execution_count": null,
   "id": "da0d9408",
   "metadata": {},
   "outputs": [],
   "source": []
  },
  {
   "cell_type": "markdown",
   "id": "050533dc",
   "metadata": {},
   "source": [
    "# Confusion Matrix"
   ]
  },
  {
   "cell_type": "code",
   "execution_count": 39,
   "id": "5a52cdcc",
   "metadata": {},
   "outputs": [],
   "source": [
    "from sklearn.metrics import confusion_matrix"
   ]
  },
  {
   "cell_type": "code",
   "execution_count": 48,
   "id": "8fe48a1d",
   "metadata": {},
   "outputs": [],
   "source": [
    "def standard_confusion_matrix(gt, pred):\n",
    "    \"\"\"\n",
    "    Make confusion matrix with format:\n",
    "                  -----------\n",
    "                  | TP | FP |\n",
    "                  -----------\n",
    "                  | FN | TN |\n",
    "                  -----------\n",
    "    Parameters\n",
    "    ----------\n",
    "    y_true : ndarray - 1D\n",
    "    y_pred : ndarray - 1D\n",
    "\n",
    "    Returns\n",
    "    -------\n",
    "    ndarray - 2D\n",
    "    \"\"\"\n",
    "    [[tn, fp], [fn, tp]] = confusion_matrix(np.asarray(gt), np.asarray(pred))\n",
    "    return np.array([[tp, fp], [fn, tn]])"
   ]
  },
  {
   "cell_type": "code",
   "execution_count": 63,
   "id": "f0b67456",
   "metadata": {},
   "outputs": [
    {
     "data": {
      "text/plain": [
       "array([[2, 2],\n",
       "       [1, 0]], dtype=int64)"
      ]
     },
     "execution_count": 63,
     "metadata": {},
     "output_type": "execute_result"
    }
   ],
   "source": [
    "gt = [1,0,1,0,1]\n",
    "pred = [1,1,0,1,1]\n",
    "standard_confusion_matrix(gt, pred)"
   ]
  },
  {
   "cell_type": "code",
   "execution_count": 59,
   "id": "62ccedb0",
   "metadata": {},
   "outputs": [],
   "source": [
    "[[tp, fp], [fn, tn]] = standard_confusion_matrix(gt, pred)"
   ]
  },
  {
   "cell_type": "code",
   "execution_count": 61,
   "id": "64bfa32f",
   "metadata": {},
   "outputs": [
    {
     "data": {
      "text/plain": [
       "(2, 2, 1, 0)"
      ]
     },
     "execution_count": 61,
     "metadata": {},
     "output_type": "execute_result"
    }
   ],
   "source": [
    "tp, fp, fn, tn"
   ]
  },
  {
   "cell_type": "markdown",
   "id": "35d9bd9d",
   "metadata": {},
   "source": [
    "# how the information is printed out in logger"
   ]
  },
  {
   "cell_type": "code",
   "execution_count": 160,
   "id": "a25ab823",
   "metadata": {},
   "outputs": [
    {
     "name": "stdout",
     "output_type": "stream",
     "text": [
      "------------------------------------------------------ L + MUSDL ------------------------------------------------------\n",
      "Epoch: 0  Current Best: 0 at epoch 0\n",
      "  End of train:\n",
      "  | time: 1468.059s | LR:  0.05948 | Average Loss:  0.40988 | Accuracy: 80.00% (80/100) | train correlation: -0.408248 |\n",
      "  End of valid:\n",
      "  | time: 1468.059s | LR:  0.05948 | Average Loss:  0.40988 | Accuracy: 80.00% (80/100) | valid correlation: -0.408248 |\n",
      "\n",
      "  Output Scores:\n",
      "  - Classification:\n",
      "      TPR/Sensitivity:  0.56\n",
      "      TNR/Specificity:  0.56\n",
      "      Precision:  0.56\n",
      "      Recall:  0.56\n",
      "      F1-score:  0.56\n",
      "  - Regression:\n",
      "      MAE:  0.56\n",
      "      MSE:  0.56\n",
      "      RMSE:  0.56\n",
      "      R2:  0.56\n"
     ]
    }
   ],
   "source": [
    "print('-' * 54 + ' L + MUSDL ' + '-' * 54)\n",
    "print('Epoch: 0  Current Best: 0 at epoch 0')\n",
    "\n",
    "msg1 = '  End of {0}:\\n  | time: {1:8.3f}s | LR: {2:8.5f} | Average Loss: {3:8.5f} | Accuracy: {4:5.2f}% ({5}/{6}) | {7} correlation: {8:8.6f} |'.format('train', 1468.05947, 00.059478, 0.409878, 0.8*100, int(80), int(100), 'train', -0.408248290463863)\n",
    "print(msg1)\n",
    "\n",
    "msg2 = '  End of {0}:\\n  | time: {1:8.3f}s | LR: {2:8.5f} | Average Loss: {3:8.5f} | Accuracy: {4:5.2f}% ({5}/{6}) | {7} correlation: {8:8.6f} |'.format('valid', 1468.05947, 00.059478, 0.409878, 0.8*100, int(80), int(100), 'valid', -0.408248290463863)\n",
    "print(msg2)\n",
    "\n",
    "msg3 = ('\\n  Output Scores:')\n",
    "msg4 = ('  - Classification:\\n      TPR/Sensitivity: {0:5.2f}\\n      TNR/Specificity: {1:5.2f}\\n      Precision: {2:5.2f}\\n      Recall: {3:5.2f}\\n      F1-score: {4:5.2f}').format(0.55555,0.55555,0.55555,0.55555,0.55555)\n",
    "msg5 = ('  - Regression:\\n      MAE: {0:5.2f}\\n      MSE: {1:5.2f}\\n      RMSE: {2:5.2f}\\n      R2: {3:5.2f}').format(0.55555,0.55555,0.55555,0.55555)\n",
    "print(msg3)\n",
    "print(msg4)\n",
    "print(msg5)"
   ]
  },
  {
   "cell_type": "code",
   "execution_count": 166,
   "id": "83f97a57",
   "metadata": {},
   "outputs": [
    {
     "name": "stdout",
     "output_type": "stream",
     "text": [
      "<class 'str'>\n"
     ]
    }
   ],
   "source": [
    "msg = ('  - Classification:\\n'\n",
    "       '      TPR/Sensitivity: {0:5.2f}\\n'\n",
    "       '      TNR/Specificity: {1:5.2f}\\n'\n",
    "       '      Precision: {2:5.2f}\\n'\n",
    "       '      Recall: {3:5.2f}\\n'\n",
    "       '      F1-score: {4:5.2f}').format(0.55555,0.55555,0.55555,0.55555,0.55555)\n",
    "\n",
    "print(type(msg))"
   ]
  },
  {
   "cell_type": "code",
   "execution_count": null,
   "id": "31fb507c",
   "metadata": {},
   "outputs": [],
   "source": []
  },
  {
   "cell_type": "code",
   "execution_count": null,
   "id": "54544e62",
   "metadata": {},
   "outputs": [],
   "source": []
  },
  {
   "cell_type": "markdown",
   "id": "01f4354a",
   "metadata": {},
   "source": [
    "# TensorBoard Tutorial"
   ]
  },
  {
   "cell_type": "code",
   "execution_count": 1,
   "id": "156e2403",
   "metadata": {},
   "outputs": [],
   "source": [
    "import torch\n",
    "import torchvision\n",
    "from torch.utils.tensorboard import SummaryWriter\n",
    "from torchvision import datasets, transforms"
   ]
  },
  {
   "cell_type": "code",
   "execution_count": 2,
   "id": "53d39380",
   "metadata": {},
   "outputs": [
    {
     "name": "stdout",
     "output_type": "stream",
     "text": [
      "Downloading http://yann.lecun.com/exdb/mnist/train-images-idx3-ubyte.gz\n",
      "Downloading http://yann.lecun.com/exdb/mnist/train-images-idx3-ubyte.gz to mnist_train\\MNIST\\raw\\train-images-idx3-ubyte.gz\n"
     ]
    },
    {
     "data": {
      "application/vnd.jupyter.widget-view+json": {
       "model_id": "27201a8fcc32461c84b0c176dd3c355c",
       "version_major": 2,
       "version_minor": 0
      },
      "text/plain": [
       "  0%|          | 0/9912422 [00:00<?, ?it/s]"
      ]
     },
     "metadata": {},
     "output_type": "display_data"
    },
    {
     "name": "stdout",
     "output_type": "stream",
     "text": [
      "Extracting mnist_train\\MNIST\\raw\\train-images-idx3-ubyte.gz to mnist_train\\MNIST\\raw\n",
      "\n",
      "Downloading http://yann.lecun.com/exdb/mnist/train-labels-idx1-ubyte.gz\n",
      "Downloading http://yann.lecun.com/exdb/mnist/train-labels-idx1-ubyte.gz to mnist_train\\MNIST\\raw\\train-labels-idx1-ubyte.gz\n"
     ]
    },
    {
     "data": {
      "application/vnd.jupyter.widget-view+json": {
       "model_id": "5cceb96b200c4dd39347599d61af09de",
       "version_major": 2,
       "version_minor": 0
      },
      "text/plain": [
       "  0%|          | 0/28881 [00:00<?, ?it/s]"
      ]
     },
     "metadata": {},
     "output_type": "display_data"
    },
    {
     "name": "stdout",
     "output_type": "stream",
     "text": [
      "Extracting mnist_train\\MNIST\\raw\\train-labels-idx1-ubyte.gz to mnist_train\\MNIST\\raw\n",
      "\n",
      "Downloading http://yann.lecun.com/exdb/mnist/t10k-images-idx3-ubyte.gz\n",
      "Downloading http://yann.lecun.com/exdb/mnist/t10k-images-idx3-ubyte.gz to mnist_train\\MNIST\\raw\\t10k-images-idx3-ubyte.gz\n"
     ]
    },
    {
     "data": {
      "application/vnd.jupyter.widget-view+json": {
       "model_id": "89d16abdc9a943a2a01398dde758a3d3",
       "version_major": 2,
       "version_minor": 0
      },
      "text/plain": [
       "  0%|          | 0/1648877 [00:00<?, ?it/s]"
      ]
     },
     "metadata": {},
     "output_type": "display_data"
    },
    {
     "name": "stdout",
     "output_type": "stream",
     "text": [
      "Extracting mnist_train\\MNIST\\raw\\t10k-images-idx3-ubyte.gz to mnist_train\\MNIST\\raw\n",
      "\n",
      "Downloading http://yann.lecun.com/exdb/mnist/t10k-labels-idx1-ubyte.gz\n",
      "Downloading http://yann.lecun.com/exdb/mnist/t10k-labels-idx1-ubyte.gz to mnist_train\\MNIST\\raw\\t10k-labels-idx1-ubyte.gz\n"
     ]
    },
    {
     "data": {
      "application/vnd.jupyter.widget-view+json": {
       "model_id": "4b550197c6ee4d4d804fa84a9ef1238f",
       "version_major": 2,
       "version_minor": 0
      },
      "text/plain": [
       "  0%|          | 0/4542 [00:00<?, ?it/s]"
      ]
     },
     "metadata": {},
     "output_type": "display_data"
    },
    {
     "name": "stdout",
     "output_type": "stream",
     "text": [
      "Extracting mnist_train\\MNIST\\raw\\t10k-labels-idx1-ubyte.gz to mnist_train\\MNIST\\raw\n",
      "\n"
     ]
    }
   ],
   "source": [
    "# Writer will output to ./runs/ directory by default\n",
    "writer = SummaryWriter()\n",
    "\n",
    "transform = transforms.Compose([transforms.ToTensor(), transforms.Normalize((0.5,), (0.5,))])\n",
    "trainset = datasets.MNIST('mnist_train', train=True, download=True, transform=transform)\n",
    "trainloader = torch.utils.data.DataLoader(trainset, batch_size=64, shuffle=True)\n",
    "model = torchvision.models.resnet50(False)\n",
    "# Have ResNet model take in grayscale rather than RGB\n",
    "model.conv1 = torch.nn.Conv2d(1, 64, kernel_size=7, stride=2, padding=3, bias=False)\n",
    "images, labels = next(iter(trainloader))\n",
    "\n",
    "grid = torchvision.utils.make_grid(images)\n",
    "writer.add_image('images', grid, 0)\n",
    "writer.add_graph(model, images)\n",
    "writer.close()"
   ]
  },
  {
   "cell_type": "code",
   "execution_count": null,
   "id": "203af546",
   "metadata": {},
   "outputs": [],
   "source": [
    "# run the following code in cmd\n",
    "tensorboard --logdir=runs"
   ]
  },
  {
   "cell_type": "code",
   "execution_count": 3,
   "id": "2cd5a4a1",
   "metadata": {},
   "outputs": [],
   "source": [
    "from torch.utils.tensorboard import SummaryWriter\n",
    "import numpy as np\n",
    "\n",
    "# add_scala\n",
    "\n",
    "writer = SummaryWriter()\n",
    "\n",
    "for n_iter in range(100):\n",
    "    writer.add_scalar('Loss/train', np.random.random(), n_iter)\n",
    "    writer.add_scalar('Loss/test', np.random.random(), n_iter)\n",
    "    writer.add_scalar('Accuracy/train', np.random.random(), n_iter)\n",
    "    writer.add_scalar('Accuracy/test', np.random.random(), n_iter)"
   ]
  },
  {
   "cell_type": "code",
   "execution_count": 4,
   "id": "07f87fd3",
   "metadata": {},
   "outputs": [],
   "source": [
    "# pr_curve\n",
    "\n",
    "labels = np.random.randint(2, size=100)  # binary label\n",
    "predictions = np.random.rand(100)\n",
    "writer = SummaryWriter()\n",
    "writer.add_pr_curve('pr_curve', labels, predictions, 0)\n",
    "writer.close()"
   ]
  },
  {
   "cell_type": "code",
   "execution_count": 6,
   "id": "423f9015",
   "metadata": {},
   "outputs": [],
   "source": [
    "# add_scalars\n",
    "\n",
    "writer = SummaryWriter()\n",
    "r = 5\n",
    "for i in range(100):\n",
    "    writer.add_scalars('run_14h', {'xsinx':i*np.sin(i/r),\n",
    "                                    'xcosx':i*np.cos(i/r),\n",
    "                                    'tanx': np.tan(i/r)}, i)\n",
    "writer.close()"
   ]
  },
  {
   "cell_type": "code",
   "execution_count": null,
   "id": "97925955",
   "metadata": {},
   "outputs": [],
   "source": []
  },
  {
   "cell_type": "markdown",
   "id": "973cb2f6",
   "metadata": {},
   "source": [
    "# Debug ViT\n"
   ]
  },
  {
   "cell_type": "code",
   "execution_count": 129,
   "id": "48e1ce2f",
   "metadata": {},
   "outputs": [],
   "source": [
    "from vit import ViT\n",
    "\n",
    "from skimage import io, transform"
   ]
  },
  {
   "cell_type": "code",
   "execution_count": 97,
   "id": "f86ccc06",
   "metadata": {},
   "outputs": [],
   "source": [
    "# rescale image\n",
    "\n",
    "def rescale(image, output_size):\n",
    "    h, w = image.shape[:2]\n",
    "\n",
    "    if isinstance(output_size, int):\n",
    "        if h > w:\n",
    "            new_h, new_w = output_size * h / w, output_size\n",
    "        else:\n",
    "            new_h, new_w = output_size, output_size * w / h\n",
    "    else:\n",
    "        new_h, new_w = output_size\n",
    "\n",
    "    new_h, new_w = int(new_h), int(new_w)\n",
    "\n",
    "    img = transform.resize(image, (new_h, new_w))\n",
    "\n",
    "    return img"
   ]
  },
  {
   "cell_type": "code",
   "execution_count": 167,
   "id": "4234af00",
   "metadata": {
    "scrolled": false
   },
   "outputs": [],
   "source": [
    "image = transformed_dataset[0]['sentence_embeddings']\n",
    "image.shape"
   ]
  },
  {
   "cell_type": "code",
   "execution_count": 146,
   "id": "56877c7b",
   "metadata": {},
   "outputs": [
    {
     "name": "stdout",
     "output_type": "stream",
     "text": [
      "(1, 1, 256, 256)\n"
     ]
    },
    {
     "data": {
      "text/plain": [
       "array([[[[ 0.01223349, -0.00911181,  0.00822419, ...,  0.00410442,\n",
       "          -0.02116271, -0.02657881],\n",
       "         [ 0.01152719, -0.00885142,  0.00276996, ...,  0.00561038,\n",
       "          -0.02334277, -0.02871415],\n",
       "         [ 0.01291263, -0.00936219,  0.01346865, ...,  0.00265638,\n",
       "          -0.01906649, -0.02452561],\n",
       "         ...,\n",
       "         [-0.02238797,  0.02008174,  0.00525289, ...,  0.0149739 ,\n",
       "           0.00396261, -0.001725  ],\n",
       "         [-0.02557177,  0.02132559,  0.0069953 , ...,  0.0268412 ,\n",
       "          -0.00370663,  0.00898176],\n",
       "         [-0.02394866,  0.02069147,  0.00610701, ...,  0.02079121,\n",
       "           0.00020318,  0.00352341]]]])"
      ]
     },
     "execution_count": 146,
     "metadata": {},
     "output_type": "execute_result"
    }
   ],
   "source": [
    "img = rescale(image[:102], (256, 256)).reshape((1,1,256, 256))\n",
    "print(img.shape)\n",
    "img"
   ]
  },
  {
   "cell_type": "code",
   "execution_count": 137,
   "id": "0a5776ac",
   "metadata": {},
   "outputs": [
    {
     "data": {
      "text/plain": [
       "torch.Size([1, 1024])"
      ]
     },
     "execution_count": 137,
     "metadata": {},
     "output_type": "execute_result"
    }
   ],
   "source": [
    "model = ViT(image_size=256, patch_size=8, num_classes=1024, channels=1,\n",
    "            dim=64, depth=6, heads=8, mlp_dim=128)\n",
    "model.train()\n",
    "output = model(torch.from_numpy(img).type(torch.FloatTensor))\n",
    "output.shape"
   ]
  },
  {
   "cell_type": "code",
   "execution_count": 151,
   "id": "ca150df8",
   "metadata": {},
   "outputs": [
    {
     "data": {
      "text/plain": [
       "torch.Size([2, 1, 256, 256])"
      ]
     },
     "execution_count": 151,
     "metadata": {},
     "output_type": "execute_result"
    }
   ],
   "source": [
    "img1 = rescale(image[:102], (256, 256)).reshape((1,256,256))\n",
    "img2 = rescale(image, (256, 256)).reshape((1,256,256))\n",
    "\n",
    "img = torch.stack([torch.from_numpy(img1), torch.from_numpy(img2)], dim=0).type(torch.FloatTensor)\n",
    "img.shape"
   ]
  },
  {
   "cell_type": "code",
   "execution_count": 152,
   "id": "80a98236",
   "metadata": {},
   "outputs": [
    {
     "data": {
      "text/plain": [
       "torch.Size([2, 512])"
      ]
     },
     "execution_count": 152,
     "metadata": {},
     "output_type": "execute_result"
    }
   ],
   "source": [
    "output = model(img)\n",
    "output.shape"
   ]
  },
  {
   "cell_type": "code",
   "execution_count": 144,
   "id": "78f47985",
   "metadata": {},
   "outputs": [
    {
     "data": {
      "text/plain": [
       "torch.Size([2, 512])"
      ]
     },
     "execution_count": 144,
     "metadata": {},
     "output_type": "execute_result"
    }
   ],
   "source": [
    "model = ViT(image_size=256, patch_size=8, num_classes=512, channels=1,\n",
    "            dim=256, depth=6, heads=8, mlp_dim=512)\n",
    "model.train()\n",
    "output = model(img)\n",
    "output.shape"
   ]
  },
  {
   "cell_type": "code",
   "execution_count": null,
   "id": "24269e9f",
   "metadata": {},
   "outputs": [],
   "source": [
    "# model = ViT(\n",
    "#     dim=128,\n",
    "#     image_size=224,\n",
    "#     patch_size=32,\n",
    "#     num_classes=2,\n",
    "#     transformer=efficient_transformer,\n",
    "#     channels=3,\n",
    "# ).to(device)"
   ]
  },
  {
   "cell_type": "code",
   "execution_count": null,
   "id": "c3f37189",
   "metadata": {},
   "outputs": [],
   "source": []
  },
  {
   "cell_type": "code",
   "execution_count": 161,
   "id": "eb3e38c8",
   "metadata": {},
   "outputs": [
    {
     "data": {
      "text/plain": [
       "(224, 224)"
      ]
     },
     "execution_count": 161,
     "metadata": {},
     "output_type": "execute_result"
    }
   ],
   "source": [
    "# random crop the image\n",
    "\n",
    "image = transformed_dataset[0]['sentence_embeddings']\n",
    "image.shape\n",
    "\n",
    "def crop(image, output_size):\n",
    "\n",
    "    h, w = image.shape[:2]\n",
    "    new_h, new_w = output_size\n",
    "\n",
    "    top = np.random.randint(0, h - new_h)\n",
    "    left = np.random.randint(0, w - new_w)\n",
    "\n",
    "    image = image[top:top + new_h, left:left + new_w]\n",
    "    \n",
    "    return image\n",
    "\n",
    "crop_image = crop(rescale(image[:102], (256, 256)), (224, 224))\n",
    "crop_image.shape"
   ]
  },
  {
   "cell_type": "code",
   "execution_count": null,
   "id": "adfdabe0",
   "metadata": {},
   "outputs": [],
   "source": []
  },
  {
   "cell_type": "code",
   "execution_count": null,
   "id": "29eaeddd",
   "metadata": {},
   "outputs": [],
   "source": []
  },
  {
   "cell_type": "code",
   "execution_count": null,
   "id": "851d65e6",
   "metadata": {},
   "outputs": [],
   "source": []
  },
  {
   "cell_type": "code",
   "execution_count": 182,
   "id": "686e8b7c",
   "metadata": {},
   "outputs": [],
   "source": [
    "import os\n",
    "import numpy as np\n",
    "import pandas as pd\n",
    "from skimage import transform\n",
    "from sentence_transformers import SentenceTransformer\n",
    "\n",
    "import torch\n",
    "from torch.utils.data import Dataset\n",
    "\n",
    "# # local functions\n",
    "# from utils import *\n",
    "\n",
    "\n",
    "class DepressionDataset(Dataset):\n",
    "    '''create a training, develop, or test dataset\n",
    "       and load the participant features if it's called\n",
    "    '''\n",
    "\n",
    "    def __init__(self,\n",
    "                 root_dir,\n",
    "                 mode,\n",
    "                 transform=None):\n",
    "        super(DepressionDataset, self).__init__()\n",
    "\n",
    "        # only train, develop, test dataset allow\n",
    "        assert mode in [\"train\", \"validation\", \"test\"], \\\n",
    "            \"Argument --mode could only be ['train', 'validation', 'test']\"\n",
    "\n",
    "        self.mode = mode\n",
    "        self.root_dir = root_dir\n",
    "        self.transform = transform\n",
    "        self.train_data_path = os.path.join(self.root_dir, 'train_split_Depression_AVEC2017.csv')\n",
    "        self.valid_data_path = os.path.join(self.root_dir, 'dev_split_Depression_AVEC2017.csv')\n",
    "        self.test_data_path = os.path.join(self.root_dir, 'full_test_split.csv')\n",
    "        # load sent2vec model for converting text file to 2D array\n",
    "        self.sent2vec = SentenceTransformer('all-mpnet-base-v2')  # output dimension 768\n",
    "\n",
    "        # load training data # 107 sessions\n",
    "        if self.mode == \"train\":\n",
    "            # pre-checking and cleaning the data\n",
    "            self.data_df = self.pre_check(pd.read_csv(self.train_data_path))\n",
    "            # store ground truth\n",
    "            ####################################################################################################\n",
    "            # self.patientIDs = self.data_df['Participant_ID'].to_numpy()\n",
    "            self.patientIDs = np.array([303, 321, 362, 363, 426])  # for debugging on my laptop\n",
    "            ####################################################################################################\n",
    "            self.phq_binay_gt = self.data_df['PHQ8_Binary'].to_numpy()\n",
    "            self.phq_score_gt = self.data_df['PHQ8_Score'].to_numpy()\n",
    "            self.gender_gt = self.data_df['Gender'].to_numpy()\n",
    "            self.phq_subscores_gt = self.data_df.iloc[:, 4:].to_numpy()\n",
    "\n",
    "        # load development data # 35 sessions\n",
    "        if self.mode == \"validation\":\n",
    "            # pre-checking and cleaning the data\n",
    "            self.data_df = self.pre_check(pd.read_csv(self.valid_data_path))\n",
    "            # store ground truth\n",
    "            self.patientIDs = self.data_df['Participant_ID'].to_numpy()\n",
    "            self.phq_binay_gt = self.data_df['PHQ8_Binary'].to_numpy()\n",
    "            self.phq_score_gt = self.data_df['PHQ8_Score'].to_numpy()\n",
    "            self.gender_gt = self.data_df['Gender'].to_numpy()\n",
    "            self.phq_subscores_gt = self.data_df.iloc[:, 4:].to_numpy()\n",
    "\n",
    "        # load test data # 47 sessions\n",
    "        if self.mode == \"test\":\n",
    "            # pre-checking and cleaning the data\n",
    "            self.data_df = self.pre_check(pd.read_csv(self.test_data_path))\n",
    "            # store ground truth\n",
    "            self.patientIDs = self.data_df['Participant_ID'].to_numpy()\n",
    "            self.phq_binay_gt = self.data_df['PHQ_Binary'].to_numpy()\n",
    "            self.phq_score_gt = self.data_df['PHQ_Score'].to_numpy()\n",
    "            self.gender_gt = self.data_df['Gender'].to_numpy()\n",
    "            self.phq_subscores_gt = None\n",
    "\n",
    "    def pre_check(self, data):\n",
    "        '''\n",
    "        Basic cleaning process to make sure no missing value\n",
    "        and that the sum of each PHQ subscore equals to PHQ score\n",
    "        Argument:\n",
    "            data: numpy array\n",
    "        Return:\n",
    "            data: numpy array with type \"int\"\n",
    "        '''\n",
    "        # make sure no NaN, Inf, -Inf\n",
    "        if data.isin([np.nan, np.inf, -np.inf]).any(1).sum():\n",
    "            print('Replacing NaN, Inf, or -Inf ...')\n",
    "            data = data.replace([np.inf, -np.inf, np.nan], 0)  # .astype('int')\n",
    "        else:\n",
    "            data = data  # .astype('int')\n",
    "\n",
    "        # compare the sum of each PHQ subscore to PHQ score\n",
    "        unequal = data.iloc[:, 4:].sum(axis=1) != data.iloc[:, 2]\n",
    "        if unequal.any() and self.mode != 'test':\n",
    "            lines = np.where(unequal)\n",
    "            raise ValueError((\"The sum of each PHQ subscore at line {} \"\n",
    "                              \"is unequal to the PHQ score\").format(lines[0]))\n",
    "\n",
    "        return data\n",
    "\n",
    "    def __len__(self):\n",
    "        return len(self.patientIDs)\n",
    "\n",
    "    def __iter__(self):\n",
    "        return iter(self.patientIDs)\n",
    "\n",
    "    def __getitem__(self, idx):\n",
    "        '''\n",
    "        Essentional function for creating dataset in PyTorch, which will automatically be\n",
    "        called in Dataloader and load all the extracted features of the patient in the Batch\n",
    "        based on the index of self.patientIDs\n",
    "        Argument:\n",
    "            idx: int, index of the patient ID in self.patientIDs\n",
    "        Return:\n",
    "            session: dict, contains all the extracted features and ground truth of a patient/session\n",
    "        '''\n",
    "        if torch.is_tensor(idx):\n",
    "            idx = idx.tolist()\n",
    "\n",
    "        # get the patient session path\n",
    "        session_num = self.patientIDs[idx]\n",
    "        session_path = os.path.join(self.root_dir, '{}_P'.format(session_num))\n",
    "\n",
    "        # TODO: if other feature is needed, add more in the following part...\n",
    "\n",
    "        # get text path\n",
    "        text_path = os.path.join(session_path, '{}_TRANSCRIPT.csv'.format(session_num))\n",
    "\n",
    "        # text feature\n",
    "        self.text_feature = self.load_sent2vec(text_path, speaker='Participant')\n",
    "        sentence_embedding = self.text_feature['sentence_embeddings']\n",
    "\n",
    "        # summary\n",
    "        session = {'patientID': session_num,\n",
    "                   'session_path': session_path,\n",
    "                   'sentence_embeddings': sentence_embedding,\n",
    "                   'phq_score_gt': self.phq_score_gt[idx],\n",
    "                   'phq_binay_gt': self.phq_binay_gt[idx],\n",
    "                   'phq_subscores_gt': self.phq_subscores_gt[idx],\n",
    "                   'gender_gt': self.gender_gt[idx]}\n",
    "\n",
    "        if self.transform:\n",
    "            session = self.transform(session)\n",
    "\n",
    "        return session\n",
    "\n",
    "    def load_sent2vec(self, text_path, speaker='Participant'):\n",
    "        '''\n",
    "        load the text file and use sent2vec model from SentenceTransformer\n",
    "        for sentence embeddings, which generates 2D array\n",
    "        Arguments:\n",
    "            text_path: string, absolute path to transcipt file\n",
    "            speaker: certain string, which transcript of the speaker to load\n",
    "        Return:\n",
    "            text_feature: dict, contain converted embedding vectors, sentences, etc.\n",
    "        '''\n",
    "\n",
    "        # only 'Ellie', 'Participant', 'both' are allow\n",
    "        assert speaker in ['Ellie', 'Participant', 'both'], \\\n",
    "            \"Argument --speaker could only be ['Ellie', 'Participant', 'both']\"\n",
    "\n",
    "        text_file = pd.read_csv(text_path)\n",
    "        # tokenize the text file, filter out all \\t space and unnecessary columns such as time, participent\n",
    "        tokenized_words = self.tokenize_corpus(text_file.values.tolist()[i][0] for i in range(text_file.shape[0]))\n",
    "\n",
    "        sentences = []\n",
    "        sentences_idx = []\n",
    "\n",
    "        if speaker == 'Ellie':\n",
    "            for idx, sentence in enumerate(tokenized_words):\n",
    "                if sentence[2] == 'Ellie':\n",
    "                    sentences.append(sentence[3:])\n",
    "                    sentences_idx.append(idx)\n",
    "        elif speaker == 'Participant':\n",
    "            for idx, sentence in enumerate(tokenized_words):\n",
    "                if sentence[2] == 'Participant':\n",
    "                    sentences.append(sentence[3:])\n",
    "                    sentences_idx.append(idx)\n",
    "\n",
    "        else:  # speaker == 'both'\n",
    "            sentences = [tokenized_words[i][3:] for i in range(len(tokenized_words))]\n",
    "            sentences_idx = list(range(len(tokenized_words)))\n",
    "\n",
    "        # recombine 2D list of words into 1D list of sentence\n",
    "        final_sentences = [\" \".join(sentences[i]).lower() for i in range(len(sentences))]\n",
    "        # convert sentence to vector with SentenceTransformer pretrained model\n",
    "        sentence_embeddings = self.sent2vec.encode(final_sentences)\n",
    "\n",
    "        # summary\n",
    "        text_feature = {'speaker': speaker,\n",
    "                        'sentence_embeddings': sentence_embeddings,\n",
    "                        'sentences': final_sentences,\n",
    "                        'indices': sentences_idx}\n",
    "\n",
    "        return text_feature\n",
    "\n",
    "    def tokenize_corpus(self, corpus):\n",
    "        '''tokenzie a given list of string into list of words\n",
    "        Argument:\n",
    "            corpus: 1D list of string, each element is a sting of sentence\n",
    "        Return:\n",
    "            tokens: 2D list of string, each raw is a list of words splitted from sentence\n",
    "        '''\n",
    "        tokens = [x.split() for x in corpus]\n",
    "        return tokens\n",
    "\n",
    "\n",
    "class Padding(object):\n",
    "    ''' pad zero to each feature matrix so that they all have the same size '''\n",
    "\n",
    "    def __init__(self, text_output_size=(386, 768)):\n",
    "        super(Padding, self).__init__()\n",
    "        '''\n",
    "        Each output size could be 'int' or 'tuple'. \n",
    "        Integer would be the number of desired rows\n",
    "        and Tuple would be the desired 2D array size.\n",
    "\n",
    "        Here is recommended to keep the number of columns \n",
    "        as they are and only set the number of rows with int\n",
    "\n",
    "        To find the maximum length of rows, please use the \n",
    "        'find_max_length' function in utils to search through. \n",
    "\n",
    "        The value 386 are the maximum length in our case.\n",
    "        '''\n",
    "        assert isinstance(text_output_size, (int, tuple))\n",
    "        self.text_output_size = text_output_size\n",
    "\n",
    "    def __call__(self, session):\n",
    "        sentence_embeddings = session['sentence_embeddings']\n",
    "\n",
    "        # text padding\n",
    "        if isinstance(self.text_output_size, int):\n",
    "            shape = sentence_embeddings.shape\n",
    "            assert self.text_output_size >= shape[0], \\\n",
    "                \"audio output size should be bigger than {}\".format(shape[0])\n",
    "            padded_text = np.zeros((self.text_output_size, shape[1]))\n",
    "            padded_text[:shape[0], :shape[1]] = sentence_embeddings\n",
    "        else:\n",
    "            shape = sentence_embeddings.shape\n",
    "            assert self.text_output_size[0] >= shape[0] and self.text_output_size[1] >= shape[1], \\\n",
    "                \"text output size should be bigger than {}\".format(shape)\n",
    "            padded_text = np.zeros(self.text_output_size)\n",
    "            padded_text[:shape[0], :shape[1]] = sentence_embeddings\n",
    "\n",
    "        # summary\n",
    "        padded_session = {'patientID': session['patientID'],\n",
    "                          'session_path': session['session_path'],\n",
    "                          'sentence_embeddings': padded_text,\n",
    "                          'phq_score_gt': session['phq_score_gt'],\n",
    "                          'phq_binay_gt': session['phq_binay_gt'],\n",
    "                          'phq_subscores_gt': session['phq_subscores_gt'],\n",
    "                          'gender_gt': session['gender_gt']}\n",
    "\n",
    "        return padded_session\n",
    "\n",
    "\n",
    "class Rescale(object):\n",
    "    \"\"\"Rescale the image in a sample to a given size.\n",
    "    Arguments:\n",
    "        output_size:(tuple or int),  Desired output size. If tuple, output is\n",
    "            matched to output_size. If int, smaller of image edges is matched\n",
    "            to output_size keeping aspect ratio the same.\n",
    "    \"\"\"\n",
    "    def __init__(self, output_size=(256, 256)):\n",
    "        assert isinstance(output_size, (int, tuple))\n",
    "        self.output_size = output_size\n",
    "\n",
    "    def __call__(self, session):\n",
    "        sentence_embeddings = session['sentence_embeddings'].squeeze()  # 2D = (sentences number x 768)\n",
    "\n",
    "        h, w = sentence_embeddings.shape[:2]\n",
    "\n",
    "        if isinstance(self.output_size, int):\n",
    "            if h > w:\n",
    "                new_h, new_w = self.output_size * h / w, self.output_size\n",
    "            else:\n",
    "                new_h, new_w = self.output_size, self.output_size * w / h\n",
    "        else:\n",
    "            new_h, new_w = self.output_size\n",
    "\n",
    "        new_h, new_w = int(new_h), int(new_w)\n",
    "\n",
    "        rescaled_sentence_embeddings = transform.resize(sentence_embeddings, (new_h, new_w))\n",
    "\n",
    "        # summary\n",
    "        rescaled_session = {'patientID': session['patientID'],\n",
    "                            'session_path': session['session_path'],\n",
    "                            'sentence_embeddings': rescaled_sentence_embeddings.reshape(1, new_h, new_w),\n",
    "                            'phq_score_gt': session['phq_score_gt'],\n",
    "                            'phq_binay_gt': session['phq_binay_gt'],\n",
    "                            'phq_subscores_gt': session['phq_subscores_gt'],\n",
    "                            'gender_gt': session['gender_gt']}\n",
    "\n",
    "        return rescaled_session\n",
    "\n",
    "\n",
    "class RandomCrop(object):\n",
    "    \"\"\"Crop randomly the image in a sample.\n",
    "    Arguments:\n",
    "        output_size:(tuple or int), Desired output size. If int, square crop\n",
    "            is made.\n",
    "    \"\"\"\n",
    "    def __init__(self, output_size=(224, 224)):\n",
    "        assert isinstance(output_size, (int, tuple))\n",
    "\n",
    "        if isinstance(output_size, int):\n",
    "            self.output_size = (output_size, output_size)\n",
    "        else:\n",
    "            assert len(output_size) == 2\n",
    "            self.output_size = output_size\n",
    "\n",
    "    def __call__(self, session):\n",
    "        sentence_embeddings = session['sentence_embeddings'].squeeze()\n",
    "        \n",
    "        h, w = sentence_embeddings.shape[:2]\n",
    "        new_h, new_w = self.output_size\n",
    "\n",
    "        top = np.random.randint(0, h - new_h)\n",
    "        left = np.random.randint(0, w - new_w)\n",
    "\n",
    "        cropped_sentence_embeddings = sentence_embeddings[top:top + new_h, left:left + new_w]\n",
    "\n",
    "        # summary\n",
    "        cropped_session = {'patientID': session['patientID'],\n",
    "                           'session_path': session['session_path'],\n",
    "                           'sentence_embeddings': cropped_sentence_embeddings.reshape(1, new_h, new_w),\n",
    "                           'phq_score_gt': session['phq_score_gt'],\n",
    "                           'phq_binay_gt': session['phq_binay_gt'],\n",
    "                           'phq_subscores_gt': session['phq_subscores_gt'],\n",
    "                           'gender_gt': session['gender_gt']}\n",
    "\n",
    "        return cropped_session\n",
    "\n",
    "\n",
    "class ToTensor(object):\n",
    "    \"\"\"Convert ndarrays in sample to Tensors or np.int to torch.tensor.\"\"\"\n",
    "\n",
    "    def __call__(self, session):\n",
    "\n",
    "        converted_session = {'patientID': session['patientID'],\n",
    "                             'session_path': session['session_path'],\n",
    "                             'sentence_embeddings': torch.from_numpy(session['sentence_embeddings']).type(torch.FloatTensor),\n",
    "                             'phq_score_gt': torch.tensor(session['phq_score_gt']).type(torch.FloatTensor),\n",
    "                             'phq_binay_gt': torch.tensor(session['phq_binay_gt']).type(torch.FloatTensor),\n",
    "                             'phq_subscores_gt': torch.from_numpy(session['phq_subscores_gt']).type(torch.FloatTensor),\n",
    "                             'gender_gt': torch.tensor(session['gender_gt']).type(torch.FloatTensor)}\n",
    "\n",
    "        return converted_session"
   ]
  },
  {
   "cell_type": "code",
   "execution_count": 183,
   "id": "4817b451",
   "metadata": {},
   "outputs": [
    {
     "name": "stdout",
     "output_type": "stream",
     "text": [
      "Batch number:  0 , sentence embeddings:  torch.Size([2, 1, 224, 224])\n",
      "=================================\n",
      "Batch number:  1 , sentence embeddings:  torch.Size([2, 1, 224, 224])\n",
      "=================================\n",
      "Batch number:  2 , sentence embeddings:  torch.Size([1, 1, 224, 224])\n",
      "=================================\n"
     ]
    }
   ],
   "source": [
    "import sys\n",
    "from torch.utils.data import DataLoader\n",
    "from torchvision import transforms\n",
    "\n",
    "# sys.path.append('C:/Users/denni/Documents/KIT Studium/Bachelorarbeit')\n",
    "root_dir = 'C:/Users/denni/Documents/KIT Studium/Bachelorarbeit'\n",
    "\n",
    "# test 3: try to load the dataset with DataLoader\n",
    "transformed_dataset = DepressionDataset(os.path.join(root_dir, 'DAIC-WOZ Dataset'), 'train',\n",
    "                                        transform=transforms.Compose([Rescale((256, 256)),\n",
    "                                                                      RandomCrop((224, 224)),\n",
    "                                                                      ToTensor()]))\n",
    "\n",
    "# create dataloader\n",
    "dataloader = DataLoader(transformed_dataset,\n",
    "                        batch_size=2,\n",
    "                        shuffle=False,\n",
    "                        num_workers=0)\n",
    "# iterate through batches\n",
    "for i_batch, sample_batched in enumerate(dataloader):\n",
    "    print('Batch number: ', i_batch, ', sentence embeddings: ', sample_batched['sentence_embeddings'].size())\n",
    "    print('=================================')"
   ]
  },
  {
   "cell_type": "code",
   "execution_count": null,
   "id": "f49961f3",
   "metadata": {},
   "outputs": [],
   "source": []
  },
  {
   "cell_type": "code",
   "execution_count": 16,
   "id": "b825f77a",
   "metadata": {},
   "outputs": [
    {
     "data": {
      "text/plain": [
       "tensor([0, 1, 2, 3], dtype=torch.int32)"
      ]
     },
     "execution_count": 16,
     "metadata": {},
     "output_type": "execute_result"
    }
   ],
   "source": [
    "torch.tensor([0.99, 1.99, 2.99, 3.99]).type(torch.int)  # .to(int)"
   ]
  },
  {
   "cell_type": "code",
   "execution_count": 23,
   "id": "d789fa45",
   "metadata": {},
   "outputs": [],
   "source": [
    "a = torch.tensor([0.99, 1.99, 2.99, 3.99]).to(int).to(float)"
   ]
  },
  {
   "cell_type": "code",
   "execution_count": 24,
   "id": "3d60dd19",
   "metadata": {},
   "outputs": [
    {
     "data": {
      "text/plain": [
       "tensor([0., 1., 2., 3.], dtype=torch.float64)"
      ]
     },
     "execution_count": 24,
     "metadata": {},
     "output_type": "execute_result"
    }
   ],
   "source": [
    "a"
   ]
  },
  {
   "cell_type": "code",
   "execution_count": null,
   "id": "f3b8b84e",
   "metadata": {},
   "outputs": [],
   "source": []
  },
  {
   "cell_type": "code",
   "execution_count": null,
   "id": "1dcf4fed",
   "metadata": {},
   "outputs": [],
   "source": []
  },
  {
   "cell_type": "code",
   "execution_count": null,
   "id": "bb859188",
   "metadata": {},
   "outputs": [],
   "source": []
  },
  {
   "cell_type": "markdown",
   "id": "455df23f",
   "metadata": {},
   "source": [
    "# Debug BiLSTM"
   ]
  },
  {
   "cell_type": "code",
   "execution_count": 28,
   "id": "15935ae0",
   "metadata": {},
   "outputs": [],
   "source": [
    "import torch\n",
    "import torch.nn as nn\n",
    "from torch.nn import functional as F\n",
    "\n",
    "\n",
    "class BiLSTM(nn.Module):\n",
    "    \n",
    "    def __init__(self, input_dim, hidden_dim, output_dim, num_layer, dropout, bidirectional):\n",
    "        super(BiLSTM, self).__init__()\n",
    "        self.embedding_size = input_dim         # 768 \n",
    "        self.num_class = output_dim             # 768\n",
    "        self.hidden_dim = hidden_dim            # 256\n",
    "        self.rnn_layers = num_layer             # 2 or 4\n",
    "        self.dropout = dropout                  # 0.2\n",
    "        self.bidirectional = bidirectional      # True\n",
    "\n",
    "        self.build_model()\n",
    "        self.init_weight()\n",
    "        \n",
    "    def init_weight(net):\n",
    "        for name, param in net.named_parameters():\n",
    "            if 'bias' in name:\n",
    "                nn.init.constant_(param, 0.0)\n",
    "            elif 'weight' in name:\n",
    "                nn.init.xavier_uniform_(param)\n",
    "\n",
    "    def build_model(self):\n",
    "        # attention layer\n",
    "        self.attention_layer = nn.Sequential(\n",
    "            nn.Linear(self.hidden_dim, self.hidden_dim),\n",
    "            nn.ReLU(inplace=True)\n",
    "        )\n",
    "\n",
    "        # lstm layer\n",
    "        self.lstm_net = nn.LSTM(self.embedding_size, self.hidden_dim,\n",
    "                                num_layers=self.rnn_layers, dropout=self.dropout,\n",
    "                                bidirectional=self.bidirectional)\n",
    "        \n",
    "        # FC layer\n",
    "        self.fc_out = nn.Sequential(\n",
    "            nn.Dropout(self.dropout),\n",
    "            nn.Linear(self.hidden_dim, self.hidden_dim),\n",
    "            nn.ReLU(inplace=True),\n",
    "            nn.Dropout(self.dropout),\n",
    "            nn.Linear(self.hidden_dim, self.num_class),\n",
    "            nn.ReLU(),\n",
    "        )\n",
    "\n",
    "    def attention_net_with_w(self, lstm_out, lstm_hidden):\n",
    "        '''\n",
    "        :param lstm_out:    [batch_size, len_seq, n_hidden * 2]\n",
    "        :param lstm_hidden: [batch_size, num_layers * num_directions, n_hidden]\n",
    "        :return: [batch_size, n_hidden]\n",
    "        '''\n",
    "        lstm_tmp_out = torch.chunk(lstm_out, 2, -1)\n",
    "        # h [batch_size, time_step, hidden_dims]\n",
    "        h = lstm_tmp_out[0] + lstm_tmp_out[1]\n",
    "        # [batch_size, num_layers * num_directions, n_hidden]\n",
    "        lstm_hidden = torch.sum(lstm_hidden, dim=1)\n",
    "        # [batch_size, 1, n_hidden]\n",
    "        lstm_hidden = lstm_hidden.unsqueeze(1)\n",
    "        # atten_w [batch_size, 1, hidden_dims]\n",
    "        atten_w = self.attention_layer(lstm_hidden)\n",
    "        # m [batch_size, time_step, hidden_dims]\n",
    "        m = nn.Tanh()(h)\n",
    "        # atten_context [batch_size, 1, time_step]\n",
    "        atten_context = torch.bmm(atten_w, m.transpose(1, 2))\n",
    "        # softmax_w [batch_size, 1, time_step]\n",
    "        softmax_w = F.softmax(atten_context, dim=-1)\n",
    "        # context [batch_size, 1, hidden_dims]\n",
    "        context = torch.bmm(softmax_w, h)\n",
    "        result = context.squeeze(1)\n",
    "        return result\n",
    "\n",
    "    def forward(self, x):\n",
    "        # x : [len_seq, batch_size, embedding_dim]\n",
    "        x = x.permute(1, 0, 2)\n",
    "        output, (final_hidden_state, final_cell_state) = self.lstm_net(x)\n",
    "        # output : [batch_size, len_seq, n_hidden * 2]\n",
    "        output = output.permute(1, 0, 2)\n",
    "        # final_hidden_state : [batch_size, num_layers * num_directions, n_hidden]\n",
    "        final_hidden_state = final_hidden_state.permute(1, 0, 2)\n",
    "        atten_out = self.attention_net_with_w(output, final_hidden_state)\n",
    "        return self.fc_out(atten_out)"
   ]
  },
  {
   "cell_type": "code",
   "execution_count": 29,
   "id": "295ae0b3",
   "metadata": {},
   "outputs": [],
   "source": [
    "bilstm = BiLSTM(input_dim=768,\n",
    "                hidden_dim=512, \n",
    "                output_dim=768, \n",
    "                num_layer=4, \n",
    "                dropout=0.2, \n",
    "                bidirectional=True)"
   ]
  },
  {
   "cell_type": "code",
   "execution_count": 30,
   "id": "7b58d94b",
   "metadata": {},
   "outputs": [],
   "source": [
    "model_input = torch.randn(2, 10, 768)"
   ]
  },
  {
   "cell_type": "code",
   "execution_count": 32,
   "id": "57b5b0a3",
   "metadata": {},
   "outputs": [],
   "source": [
    "result = bilstm(model_input)"
   ]
  },
  {
   "cell_type": "code",
   "execution_count": 33,
   "id": "51247907",
   "metadata": {},
   "outputs": [
    {
     "data": {
      "text/plain": [
       "torch.Size([2, 768])"
      ]
     },
     "execution_count": 33,
     "metadata": {},
     "output_type": "execute_result"
    }
   ],
   "source": [
    "result.shape"
   ]
  },
  {
   "cell_type": "code",
   "execution_count": 34,
   "id": "1637dee0",
   "metadata": {},
   "outputs": [],
   "source": [
    "import transformers"
   ]
  },
  {
   "cell_type": "code",
   "execution_count": 35,
   "id": "2eb174e7",
   "metadata": {},
   "outputs": [
    {
     "data": {
      "application/vnd.jupyter.widget-view+json": {
       "model_id": "bc4c6891472149e68956c6cc136b14d8",
       "version_major": 2,
       "version_minor": 0
      },
      "text/plain": [
       "Downloading:   0%|          | 0.00/570 [00:00<?, ?B/s]"
      ]
     },
     "metadata": {},
     "output_type": "display_data"
    },
    {
     "data": {
      "application/vnd.jupyter.widget-view+json": {
       "model_id": "dc28825d86984d28a6ac4c71649c9eff",
       "version_major": 2,
       "version_minor": 0
      },
      "text/plain": [
       "Downloading:   0%|          | 0.00/416M [00:00<?, ?B/s]"
      ]
     },
     "metadata": {},
     "output_type": "display_data"
    },
    {
     "name": "stderr",
     "output_type": "stream",
     "text": [
      "Some weights of the model checkpoint at bert-base-cased were not used when initializing BertModel: ['cls.seq_relationship.bias', 'cls.predictions.decoder.weight', 'cls.predictions.transform.LayerNorm.weight', 'cls.predictions.transform.LayerNorm.bias', 'cls.predictions.bias', 'cls.predictions.transform.dense.bias', 'cls.seq_relationship.weight', 'cls.predictions.transform.dense.weight']\n",
      "- This IS expected if you are initializing BertModel from the checkpoint of a model trained on another task or with another architecture (e.g. initializing a BertForSequenceClassification model from a BertForPreTraining model).\n",
      "- This IS NOT expected if you are initializing BertModel from the checkpoint of a model that you expect to be exactly identical (initializing a BertForSequenceClassification model from a BertForSequenceClassification model).\n"
     ]
    }
   ],
   "source": [
    "bert = transformers.BertModel.from_pretrained('bert-base-cased')"
   ]
  },
  {
   "cell_type": "code",
   "execution_count": null,
   "id": "9d786df5",
   "metadata": {},
   "outputs": [],
   "source": []
  },
  {
   "cell_type": "markdown",
   "id": "002994a8",
   "metadata": {},
   "source": [
    "# Debug Universal Sentence Transformer\n",
    "\n",
    "universal-sentence-encoder: https://tfhub.dev/google/universal-sentence-encoder/4\n",
    "\n",
    "universal-sentence-encoder-large: https://tfhub.dev/google/universal-sentence-encoder-large/5"
   ]
  },
  {
   "cell_type": "code",
   "execution_count": 5,
   "id": "93197a9f",
   "metadata": {},
   "outputs": [],
   "source": [
    "import os\n",
    "import numpy as np \n",
    "import pandas as pd"
   ]
  },
  {
   "cell_type": "code",
   "execution_count": 2,
   "id": "7cb8b2ff",
   "metadata": {},
   "outputs": [],
   "source": [
    "import tensorflow_hub as hub"
   ]
  },
  {
   "cell_type": "code",
   "execution_count": 3,
   "id": "16c90458",
   "metadata": {},
   "outputs": [],
   "source": [
    "# def sentence_embedding(text_df, model):\n",
    "#     sentences = []\n",
    "#     for t in text_df.itertuples():\n",
    "#         if getattr(t, 'speaker') == 'Participant':\n",
    "#             if 'scrubbed_entry' in getattr(t,'value'):\n",
    "#                 continue\n",
    "#             else:\n",
    "#                 sentences.append(getattr(t, 'value'))\n",
    "    \n",
    "#     return model.encode(sentences)\n",
    "\n",
    "def sentence_embedding(text_df):\n",
    "    sentences = []\n",
    "    for t in text_df.itertuples():\n",
    "        if getattr(t, 'speaker') == 'Participant':\n",
    "            if 'scrubbed_entry' in getattr(t,'value'):\n",
    "                continue\n",
    "            else:\n",
    "                sentences.append(getattr(t, 'value'))\n",
    "    \n",
    "    return sentences\n",
    "\n"
   ]
  },
  {
   "cell_type": "code",
   "execution_count": 6,
   "id": "44f32218",
   "metadata": {},
   "outputs": [
    {
     "data": {
      "text/html": [
       "<div>\n",
       "<style scoped>\n",
       "    .dataframe tbody tr th:only-of-type {\n",
       "        vertical-align: middle;\n",
       "    }\n",
       "\n",
       "    .dataframe tbody tr th {\n",
       "        vertical-align: top;\n",
       "    }\n",
       "\n",
       "    .dataframe thead th {\n",
       "        text-align: right;\n",
       "    }\n",
       "</style>\n",
       "<table border=\"1\" class=\"dataframe\">\n",
       "  <thead>\n",
       "    <tr style=\"text-align: right;\">\n",
       "      <th></th>\n",
       "      <th>start_time</th>\n",
       "      <th>stop_time</th>\n",
       "      <th>speaker</th>\n",
       "      <th>value</th>\n",
       "    </tr>\n",
       "  </thead>\n",
       "  <tbody>\n",
       "    <tr>\n",
       "      <th>0</th>\n",
       "      <td>8.96</td>\n",
       "      <td>11.93</td>\n",
       "      <td>Ellie</td>\n",
       "      <td>hi i'm ellie thanks for coming in today</td>\n",
       "    </tr>\n",
       "    <tr>\n",
       "      <th>1</th>\n",
       "      <td>12.67</td>\n",
       "      <td>16.11</td>\n",
       "      <td>Ellie</td>\n",
       "      <td>i was created to talk to people in a safe and ...</td>\n",
       "    </tr>\n",
       "    <tr>\n",
       "      <th>2</th>\n",
       "      <td>16.90</td>\n",
       "      <td>23.37</td>\n",
       "      <td>Ellie</td>\n",
       "      <td>i'm not a therapist but i'm here to learn abou...</td>\n",
       "    </tr>\n",
       "    <tr>\n",
       "      <th>3</th>\n",
       "      <td>23.93</td>\n",
       "      <td>28.64</td>\n",
       "      <td>Ellie</td>\n",
       "      <td>and please feel free to tell me anything your ...</td>\n",
       "    </tr>\n",
       "    <tr>\n",
       "      <th>4</th>\n",
       "      <td>29.16</td>\n",
       "      <td>30.47</td>\n",
       "      <td>Ellie</td>\n",
       "      <td>are you okay with this</td>\n",
       "    </tr>\n",
       "    <tr>\n",
       "      <th>5</th>\n",
       "      <td>30.91</td>\n",
       "      <td>31.37</td>\n",
       "      <td>Participant</td>\n",
       "      <td>yes</td>\n",
       "    </tr>\n",
       "    <tr>\n",
       "      <th>6</th>\n",
       "      <td>32.84</td>\n",
       "      <td>34.90</td>\n",
       "      <td>Ellie</td>\n",
       "      <td>so how are you doing today</td>\n",
       "    </tr>\n",
       "    <tr>\n",
       "      <th>7</th>\n",
       "      <td>35.39</td>\n",
       "      <td>35.78</td>\n",
       "      <td>Participant</td>\n",
       "      <td>good</td>\n",
       "    </tr>\n",
       "    <tr>\n",
       "      <th>8</th>\n",
       "      <td>37.33</td>\n",
       "      <td>38.50</td>\n",
       "      <td>Ellie</td>\n",
       "      <td>where are you from originally</td>\n",
       "    </tr>\n",
       "    <tr>\n",
       "      <th>9</th>\n",
       "      <td>39.44</td>\n",
       "      <td>40.33</td>\n",
       "      <td>Participant</td>\n",
       "      <td>from california</td>\n",
       "    </tr>\n",
       "  </tbody>\n",
       "</table>\n",
       "</div>"
      ],
      "text/plain": [
       "   start_time  stop_time      speaker  \\\n",
       "0        8.96      11.93        Ellie   \n",
       "1       12.67      16.11        Ellie   \n",
       "2       16.90      23.37        Ellie   \n",
       "3       23.93      28.64        Ellie   \n",
       "4       29.16      30.47        Ellie   \n",
       "5       30.91      31.37  Participant   \n",
       "6       32.84      34.90        Ellie   \n",
       "7       35.39      35.78  Participant   \n",
       "8       37.33      38.50        Ellie   \n",
       "9       39.44      40.33  Participant   \n",
       "\n",
       "                                               value  \n",
       "0            hi i'm ellie thanks for coming in today  \n",
       "1  i was created to talk to people in a safe and ...  \n",
       "2  i'm not a therapist but i'm here to learn abou...  \n",
       "3  and please feel free to tell me anything your ...  \n",
       "4                            are you okay with this   \n",
       "5                                               yes   \n",
       "6                       so how are you doing today    \n",
       "7                                              good   \n",
       "8                     where are you from originally   \n",
       "9                                   from california   "
      ]
     },
     "execution_count": 6,
     "metadata": {},
     "output_type": "execute_result"
    }
   ],
   "source": [
    "patient_ID = 362\n",
    "text_path = os.path.join(os.getcwd(), 'DAIC-WOZ Dataset', f'{patient_ID}_P', f'{patient_ID}_TRANSCRIPT.csv')\n",
    "text_df = pd.read_csv(text_path, sep='\\t').fillna('')\n",
    "text_df.head(10)"
   ]
  },
  {
   "cell_type": "code",
   "execution_count": 14,
   "id": "587f7118",
   "metadata": {},
   "outputs": [
    {
     "data": {
      "text/plain": [
       "['yes ',\n",
       " 'good ',\n",
       " 'from california ',\n",
       " 'i like the eh arts and entertainments i like',\n",
       " 'the uh',\n",
       " 'you have a lot of freedom to work in a lot of different fields um',\n",
       " 'i like the fact that the weather is great um i like the fact that all my roots are here all my family is here  ',\n",
       " \"i don't like\",\n",
       " \"how hard it is to get places anymore it's very hard there's so much traffic it takes a long time to get where you're going um it's expensive it's a lot more expensive than it used to be  \",\n",
       " 'not anymore ',\n",
       " 'i studied journalism english music and special effects makeup ',\n",
       " 'i am ',\n",
       " 'now i am managing a doggy day care facility ',\n",
       " 'my dream job is to ',\n",
       " 'own my own company again um',\n",
       " 'probably working with animals ',\n",
       " 'no',\n",
       " \"i'm i'm an artist i draw i paint i do tattoos\",\n",
       " 'i work a lot with animals',\n",
       " 'i like outdoor activities biking hiking  ']"
      ]
     },
     "execution_count": 14,
     "metadata": {},
     "output_type": "execute_result"
    }
   ],
   "source": [
    "sentences = sentence_embedding(text_df)\n",
    "sentences[:20]"
   ]
  },
  {
   "cell_type": "code",
   "execution_count": null,
   "id": "72f1f4ea",
   "metadata": {},
   "outputs": [],
   "source": []
  },
  {
   "cell_type": "markdown",
   "id": "7b697de4",
   "metadata": {},
   "source": [
    "### Test universal-sentence-encoder"
   ]
  },
  {
   "cell_type": "code",
   "execution_count": 8,
   "id": "4598fe11",
   "metadata": {},
   "outputs": [
    {
     "name": "stdout",
     "output_type": "stream",
     "text": [
      "(77, 512) <class 'tensorflow.python.framework.ops.EagerTensor'>\n"
     ]
    },
    {
     "data": {
      "text/plain": [
       "<tf.Tensor: shape=(5, 512), dtype=float32, numpy=\n",
       "array([[ 0.00931179, -0.03993654,  0.04903579, ..., -0.05920121,\n",
       "        -0.01194051, -0.02619826],\n",
       "       [-0.0444302 , -0.07187285,  0.01583888, ..., -0.04185356,\n",
       "         0.01108887, -0.0329297 ],\n",
       "       [-0.02419742,  0.01430838,  0.00765016, ...,  0.02361106,\n",
       "         0.01626514, -0.00993789],\n",
       "       [ 0.04398917, -0.05413452,  0.08918855, ..., -0.02764365,\n",
       "         0.06124182, -0.06047855],\n",
       "       [-0.0489117 , -0.03056137, -0.01177089, ..., -0.07055238,\n",
       "         0.06200078,  0.02261064]], dtype=float32)>"
      ]
     },
     "execution_count": 8,
     "metadata": {},
     "output_type": "execute_result"
    }
   ],
   "source": [
    "embed = hub.load(\"https://tfhub.dev/google/universal-sentence-encoder/4\")\n",
    "embeddings = embed(sentences)\n",
    "print(embeddings.shape, type(embeddings))\n",
    "embeddings[:5]"
   ]
  },
  {
   "cell_type": "code",
   "execution_count": 13,
   "id": "c575d09c",
   "metadata": {},
   "outputs": [
    {
     "name": "stdout",
     "output_type": "stream",
     "text": [
      "(77, 512) <class 'numpy.ndarray'>\n"
     ]
    },
    {
     "data": {
      "text/plain": [
       "array([[-0.05881099,  0.01910839,  0.01972206, ..., -0.01062876,\n",
       "         0.0303918 , -0.0292912 ],\n",
       "       [-0.02128776,  0.01480258,  0.02107059, ...,  0.01610595,\n",
       "        -0.06105837, -0.03500807],\n",
       "       [ 0.05227029,  0.05979312, -0.02633224, ..., -0.00835546,\n",
       "         0.0134875 , -0.02929783],\n",
       "       [ 0.06404437,  0.04930337,  0.03336997, ..., -0.01074252,\n",
       "         0.00155322,  0.04546057],\n",
       "       [ 0.05585645,  0.00434221,  0.02867533, ...,  0.00405687,\n",
       "        -0.10774966,  0.00071531]], dtype=float32)"
      ]
     },
     "execution_count": 13,
     "metadata": {},
     "output_type": "execute_result"
    }
   ],
   "source": [
    "embed_large = hub.load(\"https://tfhub.dev/google/universal-sentence-encoder-large/5\")\n",
    "embeddings_large = embed_large(sentences)\n",
    "\n",
    "# convert from EagerTensor to numpy\n",
    "embeddings_large = embeddings_large.numpy()\n",
    "\n",
    "print(embeddings_large.shape, type(embeddings_large))\n",
    "embeddings_large[:5]"
   ]
  },
  {
   "cell_type": "code",
   "execution_count": null,
   "id": "67a0083d",
   "metadata": {},
   "outputs": [],
   "source": []
  }
 ],
 "metadata": {
  "kernelspec": {
   "display_name": "Python 3 (ipykernel)",
   "language": "python",
   "name": "python3"
  },
  "language_info": {
   "codemirror_mode": {
    "name": "ipython",
    "version": 3
   },
   "file_extension": ".py",
   "mimetype": "text/x-python",
   "name": "python",
   "nbconvert_exporter": "python",
   "pygments_lexer": "ipython3",
   "version": "3.8.3"
  }
 },
 "nbformat": 4,
 "nbformat_minor": 5
}
