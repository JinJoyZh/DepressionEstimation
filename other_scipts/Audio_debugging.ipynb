{
 "cells": [
  {
   "cell_type": "markdown",
   "id": "ba81523c",
   "metadata": {},
   "source": [
    "# Dataset"
   ]
  },
  {
   "cell_type": "code",
   "execution_count": 1,
   "id": "39a72c96",
   "metadata": {},
   "outputs": [],
   "source": [
    "import os\n",
    "import numpy as np\n",
    "import pandas as pd\n",
    "from skimage import transform\n",
    "import librosa\n",
    "\n",
    "import torch\n",
    "from torch.utils.data import Dataset\n",
    "\n",
    "# # local functions\n",
    "# from dataset.utils import *"
   ]
  },
  {
   "cell_type": "code",
   "execution_count": 2,
   "id": "16f9ed40",
   "metadata": {},
   "outputs": [],
   "source": [
    "class DepressionDataset(Dataset):\n",
    "    '''create a training, develop, or test dataset\n",
    "       and load the participant features if it's called\n",
    "    '''\n",
    "\n",
    "    def __init__(self,\n",
    "                 root_dir,\n",
    "                 mode,\n",
    "                 transform=None):\n",
    "        super(DepressionDataset, self).__init__()\n",
    "\n",
    "        # only train, develop, test dataset allow\n",
    "        assert mode in [\"train\", \"validation\", \"test\"], \\\n",
    "            \"Argument --mode could only be ['train', 'validation', 'test']\"\n",
    "\n",
    "        self.mode = mode\n",
    "        self.root_dir = root_dir\n",
    "        self.transform = transform\n",
    "        self.train_data_path = os.path.join(self.root_dir, 'train_split_Depression_AVEC2017.csv')\n",
    "        self.valid_data_path = os.path.join(self.root_dir, 'dev_split_Depression_AVEC2017.csv')\n",
    "        self.test_data_path = os.path.join(self.root_dir, 'full_test_split.csv')\n",
    "        # load sent2vec model for converting text file to 2D array\n",
    "#         self.sent2vec = SentenceTransformer('all-mpnet-base-v2')  # output dimension 768\n",
    "\n",
    "        # load training data # 107 sessions\n",
    "        if self.mode == \"train\":\n",
    "            # pre-checking and cleaning the data\n",
    "            self.data_df = self.pre_check(pd.read_csv(self.train_data_path))\n",
    "            # store ground truth\n",
    "            ####################################################################################################\n",
    "            # self.patientIDs = self.data_df['Participant_ID'].to_numpy()\n",
    "            self.patientIDs = np.array([303, 321, 362, 363, 426])  # for debugging on my laptop\n",
    "            ####################################################################################################\n",
    "            self.phq_binay_gt = self.data_df['PHQ8_Binary'].to_numpy()\n",
    "            self.phq_score_gt = self.data_df['PHQ8_Score'].to_numpy()\n",
    "            self.gender_gt = self.data_df['Gender'].to_numpy()\n",
    "            self.phq_subscores_gt = self.data_df.iloc[:, 4:].to_numpy()\n",
    "\n",
    "        # load development data # 35 sessions\n",
    "        if self.mode == \"validation\":\n",
    "            # pre-checking and cleaning the data\n",
    "            self.data_df = self.pre_check(pd.read_csv(self.valid_data_path))\n",
    "            # store ground truth\n",
    "            self.patientIDs = self.data_df['Participant_ID'].to_numpy()\n",
    "            self.phq_binay_gt = self.data_df['PHQ8_Binary'].to_numpy()\n",
    "            self.phq_score_gt = self.data_df['PHQ8_Score'].to_numpy()\n",
    "            self.gender_gt = self.data_df['Gender'].to_numpy()\n",
    "            self.phq_subscores_gt = self.data_df.iloc[:, 4:].to_numpy()\n",
    "\n",
    "        # load test data # 47 sessions\n",
    "        if self.mode == \"test\":\n",
    "            # pre-checking and cleaning the data\n",
    "            self.data_df = self.pre_check(pd.read_csv(self.test_data_path))\n",
    "            # store ground truth\n",
    "            self.patientIDs = self.data_df['Participant_ID'].to_numpy()\n",
    "            self.phq_binay_gt = self.data_df['PHQ_Binary'].to_numpy()\n",
    "            self.phq_score_gt = self.data_df['PHQ_Score'].to_numpy()\n",
    "            self.gender_gt = self.data_df['Gender'].to_numpy()\n",
    "            # subscores in test data are not provided, thus we initialize it with 0 to avoid error for DataLoader\n",
    "            self.phq_subscores_gt = np.zeros((self.patientIDs.shape[0],  8))\n",
    "\n",
    "            \n",
    "    def pre_check(self, data):\n",
    "        '''\n",
    "        Basic cleaning process to make sure no missing value\n",
    "        and that the sum of each PHQ subscore equals to PHQ score\n",
    "        Argument:\n",
    "            data: numpy array\n",
    "        Return:\n",
    "            data: numpy array with type \"int\"\n",
    "        '''\n",
    "        # make sure no NaN, Inf, -Inf\n",
    "        if data.isin([np.nan, np.inf, -np.inf]).any(1).sum():\n",
    "            print('Replacing NaN, Inf, or -Inf ...')\n",
    "            data = data.replace([np.inf, -np.inf, np.nan], 0)  # .astype('int')\n",
    "        else:\n",
    "            data = data  # .astype('int')\n",
    "\n",
    "        # compare the sum of each PHQ subscore to PHQ score\n",
    "        unequal = data.iloc[:, 4:].sum(axis=1) != data.iloc[:, 2]\n",
    "        if unequal.any() and self.mode != 'test':\n",
    "            lines = np.where(unequal)\n",
    "            raise ValueError((\"The sum of each PHQ subscore at line {} \"\n",
    "                              \"is unequal to the PHQ score\").format(lines[0]))\n",
    "\n",
    "        return data\n",
    "\n",
    "    \n",
    "    def __len__(self):\n",
    "        return len(self.patientIDs)\n",
    "\n",
    "    \n",
    "    def __iter__(self):\n",
    "        return iter(self.patientIDs)\n",
    "    \n",
    "    \n",
    "    def __getitem__(self, idx):\n",
    "        '''\n",
    "        Essentional function for creating dataset in PyTorch, which will automatically be\n",
    "        called in Dataloader and load all the extracted features of the patient in the Batch\n",
    "        based on the index of self.patientIDs\n",
    "        Argument:\n",
    "            idx: int, index of the patient ID in self.patientIDs\n",
    "        Return:\n",
    "            session: dict, contains all the extracted features and ground truth of a patient/session\n",
    "        '''\n",
    "        if torch.is_tensor(idx):\n",
    "            idx = idx.tolist()\n",
    "\n",
    "        # get the patient session path\n",
    "        session_num = self.patientIDs[idx]\n",
    "        session_path = os.path.join(self.root_dir, '{}_P'.format(session_num))\n",
    "\n",
    "        # TODO: if other feature is needed, add more in the following part...\n",
    "\n",
    "        # get audio feature path\n",
    "        audio_path = os.path.join(session_path, '{}_AUDIO.wav'.format(session_num))\n",
    "        \n",
    "        # audio feature extration\n",
    "        audio, self.audio_parameters = self.load_audio(audio_path)\n",
    "        \n",
    "        # summary\n",
    "        session = {'patientID': session_num,\n",
    "                   'session_path': session_path,\n",
    "                   'audio': audio,\n",
    "                   'phq_score_gt': self.phq_score_gt[idx],\n",
    "                   'phq_binay_gt': self.phq_binay_gt[idx],\n",
    "                   'phq_subscores_gt': self.phq_subscores_gt[idx],\n",
    "                   'gender_gt': self.gender_gt[idx]}\n",
    "        \n",
    "#         # get all features path of the session\n",
    "#         facial_landmarks_path = os.path.join(session_path, '{}_CLNF_features3D.txt'.format(session_num))\n",
    "#         gaze_direction_path = os.path.join(session_path, '{}_CLNF_gaze.txt'.format(session_num))\n",
    "#         audio_path = os.path.join(session_path, '{}_AUDIO.wav'.format(session_num))\n",
    "#         text_path = os.path.join(session_path, '{}_TRANSCRIPT.csv'.format(session_num))\n",
    "        \n",
    "#         # facial feature\n",
    "#         facial_landmarks = self.load_facial_landmarks(facial_landmarks_path)\n",
    "#         # gaze direction feature\n",
    "#         gaze_direction = pd.read_csv(gaze_direction_path).iloc[:, 4:].to_numpy()\n",
    "#         # audion feature, but constrain the rows based to match the shape of landmarks/gaze_sample\n",
    "#         audio, self.audio_parameters = self.load_audio(audio_path)\n",
    "#         audio = audio[:facial_landmarks.shape[0]]\n",
    "#         # text feature\n",
    "#         self.text_feature = self.load_sent2vec(text_path, speaker='Participant')\n",
    "#         sentence_embedding = self.text_feature['sentence_embeddings']\n",
    "\n",
    "#         # summary\n",
    "#         session = {'patientID': session_num,\n",
    "#                    'session_path': session_path,\n",
    "#                    'facial_landmarks': facial_landmarks,\n",
    "#                    'gaze_direction': gaze_direction, \n",
    "#                    'audio': audio,\n",
    "#                    'sentence_embeddings': sentence_embedding,\n",
    "#                    'phq_score_gt': self.phq_score_gt[idx],\n",
    "#                    'phq_binay_gt': self.phq_binay_gt[idx],\n",
    "#                    'phq_subscores_gt': self.phq_subscores_gt[idx],\n",
    "#                    'gender_gt': self.gender_gt[idx]}\n",
    "\n",
    "        if self.transform:\n",
    "            session = self.transform(session)\n",
    "\n",
    "        return session\n",
    "    \n",
    "    def load_audio(self, audio_path, \n",
    "                   spectro_type='mel_spectrogram', \n",
    "                   frame_size = 2048,\n",
    "                   hop_size = 533,\n",
    "                   sample_rate = 16000,\n",
    "                   num_mel_bands = 80,\n",
    "                   preprocess=True):\n",
    "        '''\n",
    "        Standard method of loading audio and extracting audio features\n",
    "        with Short-Time Fourier Transform by utilizing librosa library\n",
    "        Arguments:\n",
    "            audio_path: string, absolute path to audio file\n",
    "            preprocess: boolean, whether normalize the data\n",
    "        Return:\n",
    "            audio_feature: 2D numpy.ndarray, extracted audio feature (spectra) in dB\n",
    "        '''\n",
    "        # only spectrogram and mel_spectrogram are allow\n",
    "        assert spectro_type in ['spectrogram', 'mel_spectrogram'],\\\n",
    "            \"Argument --spectro could only be ['spectrogram', 'mel_spectrogram']\"\n",
    "        \n",
    "        # parameter setting for Short-Time Fourier Transform\n",
    "        audio_parameters = {'spectro_type': spectro_type,\n",
    "                            'sample_rate': sample_rate,\n",
    "                            'frame_size': frame_size,\n",
    "                            'hop_size': hop_size, \n",
    "                            'num_mel_bands': num_mel_bands}\n",
    "        \n",
    "        # load audio file with librosa\n",
    "        sampled_values, sr = librosa.load(audio_path, sr=audio_parameters['sample_rate'])  \n",
    "        ''' According to documnet sample rate is 16kHz\n",
    "            sampled_values: audio sampled values of time series\n",
    "            sr: sampling rate of audio\n",
    "        '''\n",
    "        \n",
    "        # extracting features\n",
    "        if spectro_type == 'spectrogram':\n",
    "            # use Short-Time Fourier Transform, return complex-valued matrix STFT coefficients\n",
    "            extracted_values = librosa.stft(sampled_values, \n",
    "                                            n_fft=audio_parameters['frame_size'], \n",
    "                                            hop_length=audio_parameters['hop_size'])\n",
    "            # calculating the spectrogram\n",
    "            extracted_values = np.abs(extracted_values) ** 2\n",
    "            # print(\"Shape of the extracted features in dB: {}\".format(extracted_values.shape))\n",
    "            \n",
    "        elif spectro_type == 'mel_spectrogram':\n",
    "            # get the Mel filter banks\n",
    "            self.filter_banks = librosa.filters.mel(n_fft=audio_parameters['frame_size'], \n",
    "                                                    sr=audio_parameters['sample_rate'], \n",
    "                                                    n_mels=audio_parameters['num_mel_bands'])\n",
    "            # extract the mel spectrograom\n",
    "            extracted_values = librosa.feature.melspectrogram(sampled_values, \n",
    "                                                              sr=audio_parameters['sample_rate'], \n",
    "                                                              n_fft=audio_parameters['frame_size'], \n",
    "                                                              hop_length=audio_parameters['hop_size'], \n",
    "                                                              n_mels=audio_parameters['num_mel_bands'])\n",
    "            # print(\"Shape of the extracted_values in dB: {}\".format(extracted_values.shape))\n",
    "            \n",
    "        else:\n",
    "            raise ValueError(\"The given value of spectro_type is not supported\\n\"\n",
    "                             \"'spectro_type' could only be 'spectrogram' or 'mel_spectrogram'\")\n",
    "        \n",
    "        # convert amplitude to DBs\n",
    "        # transpose the result so that the rows corresponds to time and column to frequence\n",
    "        audio_feature = np.transpose(librosa.power_to_db(extracted_values))\n",
    "        # print(\"Shape of the final extracted audio feature (spectra) in dB: {}\".format(audio_feature.shape))\n",
    "        \n",
    "        if preprocess:\n",
    "            audio_feature = audio_minmax_scaler(audio_feature)\n",
    "            \n",
    "        return audio_feature, audio_parameters\n",
    "    \n",
    "\n",
    "class Padding(object):\n",
    "    ''' pad zero to each feature matrix so that they all have the same size '''\n",
    "\n",
    "    def __init__(self, audio_output_size=(58989, 80)):\n",
    "        super(Padding, self).__init__()\n",
    "        '''\n",
    "        Each output size could be 'int' or 'tuple'. \n",
    "        Integer would be the number of desired rows\n",
    "        and Tuple would be the desired 2D array size.\n",
    "\n",
    "        Here is recommended to keep the number of columns \n",
    "        as they are and only set the number of rows with int\n",
    "\n",
    "        To find the maximum length of rows, please use the \n",
    "        'find_max_length' function in utils to search through. \n",
    "\n",
    "        The value 386 are the maximum length in our case.\n",
    "        '''\n",
    "        assert isinstance(audio_output_size, (int, tuple))\n",
    "        self.audio_output_size = audio_output_size\n",
    "\n",
    "        \n",
    "    def __call__(self, session):\n",
    "        audio = session['audio']\n",
    "        \n",
    "        # audio padding along heigh dimension\n",
    "        if isinstance(self.audio_output_size, int):\n",
    "            h, w = audio.shape\n",
    "            new_h = self.audio_output_size if h > self.audio_output_size else h\n",
    "            padded_audio = np.zeros((self.audio_output_size, w))\n",
    "            padded_audio[:new_h, :w] = audio[:new_h, :w]\n",
    "        \n",
    "        # audio padding along both heigh and width dimension\n",
    "        else:\n",
    "            h, w = audio.shape\n",
    "            new_h = self.audio_output_size[0] if h > self.audio_output_size[0] else h\n",
    "            new_w = self.audio_output_size[1] if w > self.audio_output_size[1] else w\n",
    "            padded_audio = np.zeros(self.audio_output_size)\n",
    "            padded_audio[:new_h, :new_w] = audio[:new_h, :new_w]\n",
    "\n",
    "        # summary\n",
    "        padded_session = {'patientID': session['patientID'],\n",
    "                          'session_path': session['session_path'],\n",
    "                          'audio': padded_audio,\n",
    "                          'phq_score_gt': session['phq_score_gt'],\n",
    "                          'phq_binay_gt': session['phq_binay_gt'],\n",
    "                          'phq_subscores_gt': session['phq_subscores_gt'],\n",
    "                          'gender_gt': session['gender_gt']}\n",
    "\n",
    "        return padded_session\n",
    "\n",
    "    \n",
    "class Rescale(object):\n",
    "    \"\"\"Rescale the image in a sample to a given size.\n",
    "    Arguments:\n",
    "        output_size:(tuple or int),  Desired output size. If tuple, output is\n",
    "            matched to output_size. If int, smaller of image edges is matched\n",
    "            to output_size keeping aspect ratio the same.\n",
    "    \"\"\"\n",
    "\n",
    "    def __init__(self, output_size=(256, 256)):\n",
    "        assert isinstance(output_size, (int, tuple))\n",
    "        self.output_size = output_size\n",
    "\n",
    "    def __call__(self, session):\n",
    "        audio = session['audio']\n",
    "\n",
    "        h, w = audio.shape[:2]\n",
    "\n",
    "        if isinstance(self.output_size, int):\n",
    "            if h > w:\n",
    "                new_h, new_w = self.output_size * h / w, self.output_size\n",
    "            else:\n",
    "                new_h, new_w = self.output_size, self.output_size * w / h\n",
    "        else:\n",
    "            new_h, new_w = self.output_size\n",
    "\n",
    "        new_h, new_w = int(new_h), int(new_w)\n",
    "\n",
    "        rescaled_audio = transform.resize(audio, (new_h, new_w))\n",
    "\n",
    "        # summary\n",
    "        rescaled_session = {'patientID': session['patientID'],\n",
    "                            'session_path': session['session_path'],\n",
    "                            'audio': rescaled_audio,\n",
    "                            'phq_score_gt': session['phq_score_gt'],\n",
    "                            'phq_binay_gt': session['phq_binay_gt'],\n",
    "                            'phq_subscores_gt': session['phq_subscores_gt'],\n",
    "                            'gender_gt': session['gender_gt']}\n",
    "\n",
    "        return rescaled_session\n",
    "\n",
    "\n",
    "class RandomCrop(object):\n",
    "    \"\"\"Crop randomly the image in a sample.\n",
    "    Arguments:\n",
    "        output_size:(tuple or int), Desired output size. If int, square crop\n",
    "            is made.\n",
    "    \"\"\"\n",
    "\n",
    "    def __init__(self, output_size=(224, 224)):\n",
    "        assert isinstance(output_size, (int, tuple))\n",
    "\n",
    "        if isinstance(output_size, int):\n",
    "            self.output_size = (output_size, output_size)\n",
    "        else:\n",
    "            assert len(output_size) == 2\n",
    "            self.output_size = output_size\n",
    "\n",
    "    def __call__(self, session):\n",
    "        audio = session['audio']\n",
    "\n",
    "        h, w = sentence_embeddings.shape[:2]\n",
    "        new_h, new_w = self.output_size\n",
    "\n",
    "        top = np.random.randint(0, h - new_h)\n",
    "        left = np.random.randint(0, w - new_w)\n",
    "\n",
    "        cropped_audio = audio[top:top + new_h, left:left + new_w]\n",
    "\n",
    "        # summary\n",
    "        cropped_session = {'patientID': session['patientID'],\n",
    "                           'session_path': session['session_path'],\n",
    "                           'audio': cropped_audio,\n",
    "                           'phq_score_gt': session['phq_score_gt'],\n",
    "                           'phq_binay_gt': session['phq_binay_gt'],\n",
    "                           'phq_subscores_gt': session['phq_subscores_gt'],\n",
    "                           'gender_gt': session['gender_gt']}\n",
    "\n",
    "        return cropped_session\n",
    "\n",
    "\n",
    "class ToTensor(object):\n",
    "    \"\"\"Convert ndarrays in sample to Tensors or np.int to torch.tensor.\"\"\"\n",
    "\n",
    "    def __call__(self, session):\n",
    "        converted_session = {'patientID': session['patientID'],\n",
    "                             'session_path': session['session_path'],\n",
    "                             'audio': torch.from_numpy(session['audio']).type(torch.FloatTensor),\n",
    "                             'phq_score_gt': torch.tensor(session['phq_score_gt']).type(torch.FloatTensor),\n",
    "                             'phq_binay_gt': torch.tensor(session['phq_binay_gt']).type(torch.FloatTensor),\n",
    "                             'phq_subscores_gt': torch.from_numpy(session['phq_subscores_gt']).type(torch.FloatTensor),\n",
    "                             'gender_gt': torch.tensor(session['gender_gt']).type(torch.FloatTensor)}\n",
    "\n",
    "        return converted_session"
   ]
  },
  {
   "cell_type": "markdown",
   "id": "02d10fc8",
   "metadata": {},
   "source": [
    "## dataset/utils"
   ]
  },
  {
   "cell_type": "code",
   "execution_count": 3,
   "id": "a8e7d3e8",
   "metadata": {},
   "outputs": [],
   "source": [
    "import os\n",
    "import numpy as np\n",
    "import pandas as pd\n",
    "import librosa\n",
    "import librosa.display\n",
    "\n",
    "import seaborn as sns\n",
    "import matplotlib.pyplot as plt\n",
    "from skimage import io, transform\n",
    "from mpl_toolkits.mplot3d import Axes3D\n"
   ]
  },
  {
   "cell_type": "code",
   "execution_count": 4,
   "id": "773ff927",
   "metadata": {},
   "outputs": [],
   "source": [
    "def minmax_scaler(data):\n",
    "    '''recale the data, which is a 2D matrix, to 0-1 at each row'''\n",
    "    return (data - data.min(axis=1)[:, np.newaxis]) / (data.max(axis=1) - data.min(axis=1))[:, np.newaxis]\n",
    "\n",
    "def audio_minmax_scaler(data):\n",
    "    '''recale audio data based on chosen min max value. \n",
    "    There will have 'NaN' problem if we rescale the audio data based on each line as 'minmax_scaler' above \n",
    "    does since some certain lines contain only same value such as -60 dB, which means almost silence. Thus \n",
    "    we create a new 'audio_minmax_scaler' function to rescale the data. \n",
    "    \n",
    "    Most of the data is range between -60 ~ 20.\n",
    "    '''\n",
    "    data_min = -60\n",
    "    data_max = 20\n",
    "    return (data - data_min) / (data_max - data_min)\n",
    "\n",
    "def show_spectrogram(audio_feature, audio_parameters, y_axis=\"log\"):\n",
    "    \"\"\"Show log-spectrogram for a batch of samples.\n",
    "    Arguments:\n",
    "        audio_feature: 2D numpy.ndarray, extracted audio feature (spectra) in dB\n",
    "        audio_parameters: dict, all parameters setting of STFT \n",
    "                          we used for feature extraction\n",
    "        y_axis: certain string, scale of the y axis. could be 'linear' or 'log'\n",
    "    Return:\n",
    "        plot the spectrogram\n",
    "    \"\"\"\n",
    "\n",
    "    # transpose, so the column corresponds to time series\n",
    "    audio_feature = np.transpose(audio_feature)\n",
    "\n",
    "    plt.figure(figsize=(25, 10))\n",
    "    im = librosa.display.specshow(audio_feature, \n",
    "                                  sr=audio_parameters['sample_rate'], \n",
    "                                  hop_length=audio_parameters['hop_size'], \n",
    "                                  x_axis=\"time\", \n",
    "                                  y_axis=y_axis)\n",
    "    plt.colorbar(format=\"%+2.f dB\")\n",
    "    return im\n",
    "\n",
    "\n",
    "def show_mel_filter_banks(filter_banks, audio_parameters):\n",
    "    \"\"\"Show Mel filter bank for a batch of samples.\n",
    "    Arguments:\n",
    "        filter_banks: 2D numpy.ndarray, please use self.filter_banks to get the value, \n",
    "                      but make sure load_audio(spectro_type='mel_spectrogram') is called\n",
    "        audio_parameters: dict, all parameters setting of STFT \n",
    "                                we used for feature extraction\n",
    "    Return:\n",
    "        visualize the mel filter banks\n",
    "    \"\"\"\n",
    "    plt.figure(figsize=(25, 10))\n",
    "    im = librosa.display.specshow(filter_banks,\n",
    "                                  sr=audio_parameters['sample_rate'], \n",
    "                                  x_axis=\"linear\")\n",
    "    plt.colorbar(format=\"%+2.f\")\n",
    "    return im\n",
    "\n",
    "\n",
    "def find_max_length(root_dir):\n",
    "    '''find out the maximum lenghth of each features among all patients'''\n",
    "\n",
    "    # initialize each value\n",
    "    max_length = {'landmarks': 0,\n",
    "                  'gaze_samples': 0,\n",
    "                  'sentences': 0}\n",
    "\n",
    "    for name in os.listdir(root_dir):\n",
    "        name_path = os.path.join(root_dir, name)\n",
    "        if os.path.isdir(name_path) and name.endswith('_P'):\n",
    "            session = name.split('_')[0]\n",
    "            print('searching through patient {} ...'.format(session))\n",
    "\n",
    "            facial_landmarks_path = os.path.join(name_path, '{}_CLNF_features3D.txt'.format(session))\n",
    "            gaze_direction_path = os.path.join(name_path, '{}_CLNF_gaze.txt'.format(session))\n",
    "            text_path = os.path.join(name_path, '{}_TRANSCRIPT.csv'.format(session))\n",
    "\n",
    "            facial_landmarks = pd.read_csv(facial_landmarks_path)\n",
    "            if len(facial_landmarks) > max_length['landmarks']:\n",
    "                max_length['landmarks'] = len(facial_landmarks)\n",
    "\n",
    "            gaze_direction = pd.read_csv(gaze_direction_path)\n",
    "            if len(gaze_direction) > max_length['gaze_samples']:\n",
    "                max_length['gaze_samples'] = len(gaze_direction)\n",
    "\n",
    "            sentences = load_text_file(text_path, speaker='Participant')\n",
    "            if len(sentences) > max_length['sentences']:\n",
    "                max_length['sentences'] = len(sentences)\n",
    "\n",
    "    if max_length['gaze_samples'] != max_length['landmarks']:\n",
    "        max_length['gaze_samples'] = max_length['landmarks']\n",
    "\n",
    "    return max_length\n"
   ]
  },
  {
   "cell_type": "code",
   "execution_count": 5,
   "id": "10a3cca6",
   "metadata": {},
   "outputs": [
    {
     "name": "stdout",
     "output_type": "stream",
     "text": [
      "Batch number:  0 , audio:  torch.Size([2, 58960, 80])\n",
      "=================================\n",
      "Batch number:  1 , audio:  torch.Size([2, 58960, 80])\n",
      "=================================\n",
      "Batch number:  2 , audio:  torch.Size([1, 58960, 80])\n",
      "=================================\n"
     ]
    }
   ],
   "source": [
    "###############\n",
    "# test the code\n",
    "###############\n",
    "\n",
    "\n",
    "if __name__ == '__main__':\n",
    "    import sys\n",
    "    from torch.utils.data import DataLoader\n",
    "    from torchvision import transforms\n",
    "\n",
    "    # sys.path.append('C:/Users/denni/Documents/KIT Studium/Bachelorarbeit')\n",
    "    root_dir = 'C:/Users/denni/Documents/KIT Studium/Bachelorarbeit'\n",
    "\n",
    "    # test 3: try to load the dataset with DataLoader\n",
    "    transformed_dataset = DepressionDataset(os.path.join(root_dir, 'DAIC-WOZ Dataset'), 'train', \n",
    "                                            transform=transforms.Compose([Padding((58960, 80)), ToTensor()]))\n",
    "\n",
    "    # create dataloader\n",
    "    dataloader = DataLoader(transformed_dataset,\n",
    "                            batch_size=2,\n",
    "                            shuffle=False,\n",
    "                            num_workers=0)\n",
    "    # iterate through batches\n",
    "    for i_batch, sample_batched in enumerate(dataloader):\n",
    "        print('Batch number: ', i_batch, ', audio: ', sample_batched['audio'].size())\n",
    "        print('=================================')\n",
    "        if i_batch == 1:\n",
    "            test_batch = sample_batched\n"
   ]
  },
  {
   "cell_type": "code",
   "execution_count": 6,
   "id": "a6841b42",
   "metadata": {},
   "outputs": [
    {
     "name": "stdout",
     "output_type": "stream",
     "text": [
      "torch.Size([58960, 80])\n"
     ]
    }
   ],
   "source": [
    "audio_feature = transformed_dataset[0]['audio']\n",
    "print(audio_feature.shape)"
   ]
  },
  {
   "cell_type": "code",
   "execution_count": 19,
   "id": "908953d7",
   "metadata": {},
   "outputs": [
    {
     "data": {
      "text/plain": [
       "<matplotlib.collections.QuadMesh at 0x2b73cf9c940>"
      ]
     },
     "execution_count": 19,
     "metadata": {},
     "output_type": "execute_result"
    },
    {
     "data": {
      "image/png": "[encoded data removed]",
      "text/plain": [
       "<Figure size 1800x720 with 2 Axes>"
      ]
     },
     "metadata": {
      "needs_background": "light"
     },
     "output_type": "display_data"
    }
   ],
   "source": [
    "show_spectrogram(transformed_dataset[0]['audio'].numpy()[:24673], transformed_dataset.audio_parameters)"
   ]
  },
  {
   "cell_type": "code",
   "execution_count": 18,
   "id": "5575b151",
   "metadata": {},
   "outputs": [
    {
     "data": {
      "text/plain": [
       "<matplotlib.collections.QuadMesh at 0x2b73c1617c0>"
      ]
     },
     "execution_count": 18,
     "metadata": {},
     "output_type": "execute_result"
    },
    {
     "data": {
      "image/png": "[encoded data removed]",
      "text/plain": [
       "<Figure size 1800x720 with 2 Axes>"
      ]
     },
     "metadata": {
      "needs_background": "light"
     },
     "output_type": "display_data"
    }
   ],
   "source": [
    "show_mel_filter_banks(transformed_dataset.filter_banks, transformed_dataset.audio_parameters)"
   ]
  },
  {
   "cell_type": "code",
   "execution_count": null,
   "id": "51f6dc1f",
   "metadata": {},
   "outputs": [],
   "source": []
  },
  {
   "cell_type": "markdown",
   "id": "d0a42a02",
   "metadata": {},
   "source": [
    "# model: Video-Swin-Transformer"
   ]
  },
  {
   "cell_type": "code",
   "execution_count": 2,
   "id": "722efc1a",
   "metadata": {},
   "outputs": [],
   "source": [
    "import torch\n",
    "import torch.nn as nn\n",
    "from video_swin_transformer import SwinTransformer3D"
   ]
  },
  {
   "cell_type": "code",
   "execution_count": 9,
   "id": "c8cd3a50",
   "metadata": {
    "scrolled": true
   },
   "outputs": [
    {
     "name": "stdout",
     "output_type": "stream",
     "text": [
      "SwinTransformer3D(\n",
      "  (patch_embed): PatchEmbed3D(\n",
      "    (proj): Conv3d(1, 96, kernel_size=(4, 4, 4), stride=(4, 4, 4))\n",
      "    (norm): LayerNorm((96,), eps=1e-05, elementwise_affine=True)\n",
      "  )\n",
      "  (pos_drop): Dropout(p=0.0, inplace=False)\n",
      "  (layers): ModuleList(\n",
      "    (0): BasicLayer(\n",
      "      (blocks): ModuleList(\n",
      "        (0): SwinTransformerBlock3D(\n",
      "          (norm1): LayerNorm((96,), eps=1e-05, elementwise_affine=True)\n",
      "          (attn): WindowAttention3D(\n",
      "            (qkv): Linear(in_features=96, out_features=288, bias=True)\n",
      "            (attn_drop): Dropout(p=0.0, inplace=False)\n",
      "            (proj): Linear(in_features=96, out_features=96, bias=True)\n",
      "            (proj_drop): Dropout(p=0.0, inplace=False)\n",
      "            (softmax): Softmax(dim=-1)\n",
      "          )\n",
      "          (drop_path): Identity()\n",
      "          (norm2): LayerNorm((96,), eps=1e-05, elementwise_affine=True)\n",
      "          (mlp): Mlp(\n",
      "            (fc1): Linear(in_features=96, out_features=384, bias=True)\n",
      "            (act): GELU()\n",
      "            (fc2): Linear(in_features=384, out_features=96, bias=True)\n",
      "            (drop): Dropout(p=0.0, inplace=False)\n",
      "          )\n",
      "        )\n",
      "        (1): SwinTransformerBlock3D(\n",
      "          (norm1): LayerNorm((96,), eps=1e-05, elementwise_affine=True)\n",
      "          (attn): WindowAttention3D(\n",
      "            (qkv): Linear(in_features=96, out_features=288, bias=True)\n",
      "            (attn_drop): Dropout(p=0.0, inplace=False)\n",
      "            (proj): Linear(in_features=96, out_features=96, bias=True)\n",
      "            (proj_drop): Dropout(p=0.0, inplace=False)\n",
      "            (softmax): Softmax(dim=-1)\n",
      "          )\n",
      "          (drop_path): DropPath()\n",
      "          (norm2): LayerNorm((96,), eps=1e-05, elementwise_affine=True)\n",
      "          (mlp): Mlp(\n",
      "            (fc1): Linear(in_features=96, out_features=384, bias=True)\n",
      "            (act): GELU()\n",
      "            (fc2): Linear(in_features=384, out_features=96, bias=True)\n",
      "            (drop): Dropout(p=0.0, inplace=False)\n",
      "          )\n",
      "        )\n",
      "      )\n",
      "      (downsample): PatchMerging(\n",
      "        (reduction): Linear(in_features=384, out_features=192, bias=False)\n",
      "        (norm): LayerNorm((384,), eps=1e-05, elementwise_affine=True)\n",
      "      )\n",
      "    )\n",
      "    (1): BasicLayer(\n",
      "      (blocks): ModuleList(\n",
      "        (0): SwinTransformerBlock3D(\n",
      "          (norm1): LayerNorm((192,), eps=1e-05, elementwise_affine=True)\n",
      "          (attn): WindowAttention3D(\n",
      "            (qkv): Linear(in_features=192, out_features=576, bias=True)\n",
      "            (attn_drop): Dropout(p=0.0, inplace=False)\n",
      "            (proj): Linear(in_features=192, out_features=192, bias=True)\n",
      "            (proj_drop): Dropout(p=0.0, inplace=False)\n",
      "            (softmax): Softmax(dim=-1)\n",
      "          )\n",
      "          (drop_path): DropPath()\n",
      "          (norm2): LayerNorm((192,), eps=1e-05, elementwise_affine=True)\n",
      "          (mlp): Mlp(\n",
      "            (fc1): Linear(in_features=192, out_features=768, bias=True)\n",
      "            (act): GELU()\n",
      "            (fc2): Linear(in_features=768, out_features=192, bias=True)\n",
      "            (drop): Dropout(p=0.0, inplace=False)\n",
      "          )\n",
      "        )\n",
      "        (1): SwinTransformerBlock3D(\n",
      "          (norm1): LayerNorm((192,), eps=1e-05, elementwise_affine=True)\n",
      "          (attn): WindowAttention3D(\n",
      "            (qkv): Linear(in_features=192, out_features=576, bias=True)\n",
      "            (attn_drop): Dropout(p=0.0, inplace=False)\n",
      "            (proj): Linear(in_features=192, out_features=192, bias=True)\n",
      "            (proj_drop): Dropout(p=0.0, inplace=False)\n",
      "            (softmax): Softmax(dim=-1)\n",
      "          )\n",
      "          (drop_path): DropPath()\n",
      "          (norm2): LayerNorm((192,), eps=1e-05, elementwise_affine=True)\n",
      "          (mlp): Mlp(\n",
      "            (fc1): Linear(in_features=192, out_features=768, bias=True)\n",
      "            (act): GELU()\n",
      "            (fc2): Linear(in_features=768, out_features=192, bias=True)\n",
      "            (drop): Dropout(p=0.0, inplace=False)\n",
      "          )\n",
      "        )\n",
      "      )\n",
      "      (downsample): PatchMerging(\n",
      "        (reduction): Linear(in_features=768, out_features=384, bias=False)\n",
      "        (norm): LayerNorm((768,), eps=1e-05, elementwise_affine=True)\n",
      "      )\n",
      "    )\n",
      "    (2): BasicLayer(\n",
      "      (blocks): ModuleList(\n",
      "        (0): SwinTransformerBlock3D(\n",
      "          (norm1): LayerNorm((384,), eps=1e-05, elementwise_affine=True)\n",
      "          (attn): WindowAttention3D(\n",
      "            (qkv): Linear(in_features=384, out_features=1152, bias=True)\n",
      "            (attn_drop): Dropout(p=0.0, inplace=False)\n",
      "            (proj): Linear(in_features=384, out_features=384, bias=True)\n",
      "            (proj_drop): Dropout(p=0.0, inplace=False)\n",
      "            (softmax): Softmax(dim=-1)\n",
      "          )\n",
      "          (drop_path): DropPath()\n",
      "          (norm2): LayerNorm((384,), eps=1e-05, elementwise_affine=True)\n",
      "          (mlp): Mlp(\n",
      "            (fc1): Linear(in_features=384, out_features=1536, bias=True)\n",
      "            (act): GELU()\n",
      "            (fc2): Linear(in_features=1536, out_features=384, bias=True)\n",
      "            (drop): Dropout(p=0.0, inplace=False)\n",
      "          )\n",
      "        )\n",
      "        (1): SwinTransformerBlock3D(\n",
      "          (norm1): LayerNorm((384,), eps=1e-05, elementwise_affine=True)\n",
      "          (attn): WindowAttention3D(\n",
      "            (qkv): Linear(in_features=384, out_features=1152, bias=True)\n",
      "            (attn_drop): Dropout(p=0.0, inplace=False)\n",
      "            (proj): Linear(in_features=384, out_features=384, bias=True)\n",
      "            (proj_drop): Dropout(p=0.0, inplace=False)\n",
      "            (softmax): Softmax(dim=-1)\n",
      "          )\n",
      "          (drop_path): DropPath()\n",
      "          (norm2): LayerNorm((384,), eps=1e-05, elementwise_affine=True)\n",
      "          (mlp): Mlp(\n",
      "            (fc1): Linear(in_features=384, out_features=1536, bias=True)\n",
      "            (act): GELU()\n",
      "            (fc2): Linear(in_features=1536, out_features=384, bias=True)\n",
      "            (drop): Dropout(p=0.0, inplace=False)\n",
      "          )\n",
      "        )\n",
      "        (2): SwinTransformerBlock3D(\n",
      "          (norm1): LayerNorm((384,), eps=1e-05, elementwise_affine=True)\n",
      "          (attn): WindowAttention3D(\n",
      "            (qkv): Linear(in_features=384, out_features=1152, bias=True)\n",
      "            (attn_drop): Dropout(p=0.0, inplace=False)\n",
      "            (proj): Linear(in_features=384, out_features=384, bias=True)\n",
      "            (proj_drop): Dropout(p=0.0, inplace=False)\n",
      "            (softmax): Softmax(dim=-1)\n",
      "          )\n",
      "          (drop_path): DropPath()\n",
      "          (norm2): LayerNorm((384,), eps=1e-05, elementwise_affine=True)\n",
      "          (mlp): Mlp(\n",
      "            (fc1): Linear(in_features=384, out_features=1536, bias=True)\n",
      "            (act): GELU()\n",
      "            (fc2): Linear(in_features=1536, out_features=384, bias=True)\n",
      "            (drop): Dropout(p=0.0, inplace=False)\n",
      "          )\n",
      "        )\n",
      "        (3): SwinTransformerBlock3D(\n",
      "          (norm1): LayerNorm((384,), eps=1e-05, elementwise_affine=True)\n",
      "          (attn): WindowAttention3D(\n",
      "            (qkv): Linear(in_features=384, out_features=1152, bias=True)\n",
      "            (attn_drop): Dropout(p=0.0, inplace=False)\n",
      "            (proj): Linear(in_features=384, out_features=384, bias=True)\n",
      "            (proj_drop): Dropout(p=0.0, inplace=False)\n",
      "            (softmax): Softmax(dim=-1)\n",
      "          )\n",
      "          (drop_path): DropPath()\n",
      "          (norm2): LayerNorm((384,), eps=1e-05, elementwise_affine=True)\n",
      "          (mlp): Mlp(\n",
      "            (fc1): Linear(in_features=384, out_features=1536, bias=True)\n",
      "            (act): GELU()\n",
      "            (fc2): Linear(in_features=1536, out_features=384, bias=True)\n",
      "            (drop): Dropout(p=0.0, inplace=False)\n",
      "          )\n",
      "        )\n",
      "        (4): SwinTransformerBlock3D(\n",
      "          (norm1): LayerNorm((384,), eps=1e-05, elementwise_affine=True)\n",
      "          (attn): WindowAttention3D(\n",
      "            (qkv): Linear(in_features=384, out_features=1152, bias=True)\n",
      "            (attn_drop): Dropout(p=0.0, inplace=False)\n",
      "            (proj): Linear(in_features=384, out_features=384, bias=True)\n",
      "            (proj_drop): Dropout(p=0.0, inplace=False)\n",
      "            (softmax): Softmax(dim=-1)\n",
      "          )\n",
      "          (drop_path): DropPath()\n",
      "          (norm2): LayerNorm((384,), eps=1e-05, elementwise_affine=True)\n",
      "          (mlp): Mlp(\n",
      "            (fc1): Linear(in_features=384, out_features=1536, bias=True)\n",
      "            (act): GELU()\n",
      "            (fc2): Linear(in_features=1536, out_features=384, bias=True)\n",
      "            (drop): Dropout(p=0.0, inplace=False)\n",
      "          )\n",
      "        )\n",
      "        (5): SwinTransformerBlock3D(\n",
      "          (norm1): LayerNorm((384,), eps=1e-05, elementwise_affine=True)\n",
      "          (attn): WindowAttention3D(\n",
      "            (qkv): Linear(in_features=384, out_features=1152, bias=True)\n",
      "            (attn_drop): Dropout(p=0.0, inplace=False)\n",
      "            (proj): Linear(in_features=384, out_features=384, bias=True)\n",
      "            (proj_drop): Dropout(p=0.0, inplace=False)\n",
      "            (softmax): Softmax(dim=-1)\n",
      "          )\n",
      "          (drop_path): DropPath()\n",
      "          (norm2): LayerNorm((384,), eps=1e-05, elementwise_affine=True)\n",
      "          (mlp): Mlp(\n",
      "            (fc1): Linear(in_features=384, out_features=1536, bias=True)\n",
      "            (act): GELU()\n",
      "            (fc2): Linear(in_features=1536, out_features=384, bias=True)\n",
      "            (drop): Dropout(p=0.0, inplace=False)\n",
      "          )\n",
      "        )\n",
      "      )\n",
      "      (downsample): PatchMerging(\n",
      "        (reduction): Linear(in_features=1536, out_features=768, bias=False)\n",
      "        (norm): LayerNorm((1536,), eps=1e-05, elementwise_affine=True)\n",
      "      )\n",
      "    )\n",
      "    (3): BasicLayer(\n",
      "      (blocks): ModuleList(\n",
      "        (0): SwinTransformerBlock3D(\n",
      "          (norm1): LayerNorm((768,), eps=1e-05, elementwise_affine=True)\n",
      "          (attn): WindowAttention3D(\n",
      "            (qkv): Linear(in_features=768, out_features=2304, bias=True)\n",
      "            (attn_drop): Dropout(p=0.0, inplace=False)\n",
      "            (proj): Linear(in_features=768, out_features=768, bias=True)\n",
      "            (proj_drop): Dropout(p=0.0, inplace=False)\n",
      "            (softmax): Softmax(dim=-1)\n",
      "          )\n",
      "          (drop_path): DropPath()\n",
      "          (norm2): LayerNorm((768,), eps=1e-05, elementwise_affine=True)\n",
      "          (mlp): Mlp(\n",
      "            (fc1): Linear(in_features=768, out_features=3072, bias=True)\n",
      "            (act): GELU()\n",
      "            (fc2): Linear(in_features=3072, out_features=768, bias=True)\n",
      "            (drop): Dropout(p=0.0, inplace=False)\n",
      "          )\n",
      "        )\n",
      "        (1): SwinTransformerBlock3D(\n",
      "          (norm1): LayerNorm((768,), eps=1e-05, elementwise_affine=True)\n",
      "          (attn): WindowAttention3D(\n",
      "            (qkv): Linear(in_features=768, out_features=2304, bias=True)\n",
      "            (attn_drop): Dropout(p=0.0, inplace=False)\n",
      "            (proj): Linear(in_features=768, out_features=768, bias=True)\n",
      "            (proj_drop): Dropout(p=0.0, inplace=False)\n",
      "            (softmax): Softmax(dim=-1)\n",
      "          )\n",
      "          (drop_path): DropPath()\n",
      "          (norm2): LayerNorm((768,), eps=1e-05, elementwise_affine=True)\n",
      "          (mlp): Mlp(\n",
      "            (fc1): Linear(in_features=768, out_features=3072, bias=True)\n",
      "            (act): GELU()\n",
      "            (fc2): Linear(in_features=3072, out_features=768, bias=True)\n",
      "            (drop): Dropout(p=0.0, inplace=False)\n",
      "          )\n",
      "        )\n",
      "      )\n",
      "    )\n",
      "  )\n",
      "  (norm): LayerNorm((768,), eps=1e-05, elementwise_affine=True)\n",
      ")\n"
     ]
    }
   ],
   "source": [
    "'''\n",
    "initialize a SwinTransformer3D model\n",
    "'''\n",
    "model = SwinTransformer3D()\n",
    "\n",
    "model = SwinTransformer3D(patch_size=(4,4,4),\n",
    "                          in_chans=1,\n",
    "                          embed_dim=96,\n",
    "                          depths=[2, 2, 6, 2],\n",
    "                          num_heads=[3, 6, 12, 24],\n",
    "                          window_size=(2,7,7),\n",
    "                          drop_rate=0.,\n",
    "                          attn_drop_rate=0.,\n",
    "                          drop_path_rate=0.2,\n",
    "                          patch_norm=True)\n",
    "print(model)"
   ]
  },
  {
   "cell_type": "markdown",
   "id": "dcb0371f",
   "metadata": {},
   "source": [
    "#### test the Vision-Transformer-Model with randon matrix"
   ]
  },
  {
   "cell_type": "code",
   "execution_count": 167,
   "id": "6ea1f564",
   "metadata": {},
   "outputs": [
    {
     "name": "stdout",
     "output_type": "stream",
     "text": [
      "torch.Size([1, 768, 16, 7, 7])\n"
     ]
    }
   ],
   "source": [
    "dummy_x = torch.rand(1, 3, 32, 224, 224)\n",
    "logits = model(dummy_x)\n",
    "print(logits.shape)"
   ]
  },
  {
   "cell_type": "code",
   "execution_count": 170,
   "id": "b866d389",
   "metadata": {},
   "outputs": [
    {
     "name": "stdout",
     "output_type": "stream",
     "text": [
      "torch.Size([2, 768, 16, 7, 7])\n"
     ]
    }
   ],
   "source": [
    "dummy_x = torch.rand(2, 1, 32, 224, 224)\n",
    "logits = model(dummy_x)\n",
    "print(logits.shape)"
   ]
  },
  {
   "cell_type": "markdown",
   "id": "4e193bc9",
   "metadata": {},
   "source": [
    "#### to get the final output feature"
   ]
  },
  {
   "cell_type": "code",
   "execution_count": 176,
   "id": "e58e77bb",
   "metadata": {},
   "outputs": [
    {
     "name": "stdout",
     "output_type": "stream",
     "text": [
      "torch.Size([2, 768])\n"
     ]
    }
   ],
   "source": [
    "feature = logits.mean(dim=[2,3,4])\n",
    "print(feature.shape)"
   ]
  },
  {
   "cell_type": "code",
   "execution_count": 178,
   "id": "631c7f83",
   "metadata": {},
   "outputs": [
    {
     "name": "stdout",
     "output_type": "stream",
     "text": [
      "torch.Size([2, 512])\n"
     ]
    }
   ],
   "source": [
    "# Optional ~\n",
    "\n",
    "# project\n",
    "batch_size, hidden_dim = feature.shape\n",
    "feat_dim = 512\n",
    "proj = nn.Parameter(torch.randn(hidden_dim, feat_dim))\n",
    "\n",
    "# final output\n",
    "output = feature @ proj # [batch_size, feat_dim]\n",
    "print(output.shape)"
   ]
  },
  {
   "cell_type": "markdown",
   "id": "13388511",
   "metadata": {},
   "source": [
    "### Start testing with our audio data"
   ]
  },
  {
   "cell_type": "code",
   "execution_count": 9,
   "id": "8fa00359",
   "metadata": {},
   "outputs": [
    {
     "data": {
      "text/plain": [
       "torch.Size([2, 58960, 80])"
      ]
     },
     "execution_count": 9,
     "metadata": {},
     "output_type": "execute_result"
    }
   ],
   "source": [
    "test_batch['audio'].shape"
   ]
  },
  {
   "cell_type": "code",
   "execution_count": 10,
   "id": "cf22676c",
   "metadata": {},
   "outputs": [
    {
     "data": {
      "text/plain": [
       "torch.Size([2, 1, 737, 80, 80])"
      ]
     },
     "execution_count": 10,
     "metadata": {},
     "output_type": "execute_result"
    }
   ],
   "source": [
    "# reshape the matrix to match the requirement of input dimension\n",
    "\n",
    "input_batch = test_batch['audio'].view(2, 1, -1, 80, 80)\n",
    "input_batch.shape  # should match (B, c, D, H, W): batch_size, channels, Temperal_size, height, width"
   ]
  },
  {
   "cell_type": "code",
   "execution_count": 11,
   "id": "f14f1eea",
   "metadata": {},
   "outputs": [
    {
     "name": "stdout",
     "output_type": "stream",
     "text": [
      "torch.Size([2, 768, 185, 3, 3])\n",
      "torch.Size([2, 768])\n"
     ]
    }
   ],
   "source": [
    "result_feature = model(input_batch)\n",
    "print(result_feature.shape)\n",
    "feature = result_feature.mean(dim=[2,3,4])\n",
    "print(feature.shape)"
   ]
  },
  {
   "cell_type": "code",
   "execution_count": 10,
   "id": "52675957",
   "metadata": {},
   "outputs": [
    {
     "data": {
      "text/plain": [
       "torch.Size([1, 1, 67, 880, 80])"
      ]
     },
     "execution_count": 10,
     "metadata": {},
     "output_type": "execute_result"
    }
   ],
   "source": [
    "# with different view shape\n",
    "\n",
    "test_a = test_batch['audio'].view(2, 1, -1, 80*11, 80)[0].view(1, 1, -1, 80*11, 80)\n",
    "test_a.shape"
   ]
  },
  {
   "cell_type": "code",
   "execution_count": 11,
   "id": "9a2bd31b",
   "metadata": {},
   "outputs": [
    {
     "data": {
      "text/plain": [
       "torch.Size([1, 768, 17, 28, 3])"
      ]
     },
     "execution_count": 11,
     "metadata": {},
     "output_type": "execute_result"
    }
   ],
   "source": [
    "model(test_a).shape"
   ]
  },
  {
   "cell_type": "markdown",
   "id": "a809af2f",
   "metadata": {},
   "source": [
    "#### laod pretrained model and tested with smaller input matrix \" test_a \""
   ]
  },
  {
   "cell_type": "code",
   "execution_count": 12,
   "id": "35993015",
   "metadata": {},
   "outputs": [
    {
     "data": {
      "text/plain": [
       "<All keys matched successfully>"
      ]
     },
     "execution_count": 12,
     "metadata": {},
     "output_type": "execute_result"
    }
   ],
   "source": [
    "checkpoint = torch.load('swin_tiny_patch4_window7_224.pth')\n",
    "\n",
    "model_dict = model.state_dict()\n",
    "# 1. filter out unnecessary keys\n",
    "checkpoint_model = {k: v for k, v in checkpoint.items() if k in model_dict}\n",
    "# 2. overwrite entries in the existing state dict\n",
    "model_dict.update(checkpoint_model)\n",
    "# 3. load the new state dict\n",
    "model.load_state_dict(model_dict)"
   ]
  },
  {
   "cell_type": "code",
   "execution_count": 13,
   "id": "9e94e195",
   "metadata": {},
   "outputs": [
    {
     "name": "stdout",
     "output_type": "stream",
     "text": [
      "torch.Size([1, 768, 17, 28, 3])\n",
      "torch.Size([1, 768])\n"
     ]
    }
   ],
   "source": [
    "result_feature = model(test_a)\n",
    "print(result_feature.shape)\n",
    "feature = result_feature.mean(dim=[2,3,4])\n",
    "print(feature.shape)"
   ]
  },
  {
   "cell_type": "code",
   "execution_count": null,
   "id": "b3a9a33c",
   "metadata": {},
   "outputs": [],
   "source": []
  },
  {
   "cell_type": "markdown",
   "id": "635403a1",
   "metadata": {},
   "source": [
    "# nn.CrossEntropyLoss()\n",
    "\n",
    "The class logits should be in dim1 in your use case, so you could permute your output as:\n",
    "\n",
    "You can compute multiple cross-entropy losses but you'll need to do your own reduction. Since **cross-entropy loss assumes the feature dim is always the second dimension of the features tensor (logits should be in dim-1)** you will also need to permute it first.\n",
    "```\n",
    "loss_function = torch.nn.CrossEntropyLoss(reduction='none')\n",
    "loss = loss_function(features.permute(0,2,1), targets).mean(dim=1)\n",
    "```\n",
    "which will result in a loss tensor with no_of_batches entries."
   ]
  },
  {
   "cell_type": "markdown",
   "id": "b5b0313f",
   "metadata": {},
   "source": [
    "\n",
    "**add weights:**\n",
    "if your loss function uses reduction='mean'(by default), the loss will be normalized by the sum of the corresponding weights for each element. If you are using reduction='none', you would have to take care of the normalization yourself.\n",
    "Here is a small example:\n",
    "```\n",
    "x = torch.randn(10, 5)\n",
    "target = torch.randint(0, 5, (10,))\n",
    "\n",
    "weights = torch.tensor([1., 2., 3., 4., 5.])\n",
    "criterion_weighted = nn.CrossEntropyLoss(weight=weights)\n",
    "loss_weighted = criterion_weighted(x, target)\n",
    "\n",
    "criterion_weighted_manual = nn.CrossEntropyLoss(weight=weights, reduction='none')\n",
    "loss_weighted_manual = criterion_weighted_manual(x, target)\n",
    "loss_weighted_manual = loss_weighted_manual.sum() / weights[target].sum()\n",
    "\n",
    "print(loss_weighted == loss_weighted_manual)\n",
    "```"
   ]
  },
  {
   "cell_type": "code",
   "execution_count": 66,
   "id": "c6fb0f5a",
   "metadata": {},
   "outputs": [],
   "source": [
    "# weights = torch.tensor([1., 2., 3., 4., 5.])  # maybe create weights for imbalance dataset\n",
    "loss = nn.CrossEntropyLoss()\n",
    "input = torch.randn(2, 5, 3, requires_grad=True)\n",
    "target = torch.empty(2, 3, dtype=torch.long).random_(5)\n",
    "output = loss(input, target)\n",
    "output.backward()"
   ]
  },
  {
   "cell_type": "code",
   "execution_count": 56,
   "id": "5278e696",
   "metadata": {},
   "outputs": [
    {
     "data": {
      "text/plain": [
       "tensor([[-0.7505, -0.7273, -0.8471, -1.6985,  0.2920],\n",
       "        [ 0.2367,  0.3589, -3.1838, -0.4661, -0.0119],\n",
       "        [-0.6663, -0.1088, -0.6465, -0.6523,  0.9648]], requires_grad=True)"
      ]
     },
     "execution_count": 56,
     "metadata": {},
     "output_type": "execute_result"
    }
   ],
   "source": [
    "torch.randn(3, 5, requires_grad=True)"
   ]
  },
  {
   "cell_type": "code",
   "execution_count": 67,
   "id": "6dbcfcf9",
   "metadata": {},
   "outputs": [
    {
     "data": {
      "text/plain": [
       "tensor([[6, 2, 0, 0, 0],\n",
       "        [6, 6, 4, 4, 1]])"
      ]
     },
     "execution_count": 67,
     "metadata": {},
     "output_type": "execute_result"
    }
   ],
   "source": [
    "a = torch.empty(2, 5, dtype=torch.long).random_(10)\n",
    "a"
   ]
  },
  {
   "cell_type": "code",
   "execution_count": 89,
   "id": "ff2ae086",
   "metadata": {},
   "outputs": [
    {
     "data": {
      "text/plain": [
       "[tensor([[-0.5576, -0.0900, -0.6617, -0.2937],\n",
       "         [ 0.0611, -1.5109,  1.1828,  0.0899]], requires_grad=True),\n",
       " tensor([[ 1.6676,  0.7124, -0.3461, -0.0813],\n",
       "         [ 0.5298,  1.2275, -0.2331, -0.9071]], requires_grad=True),\n",
       " tensor([[ 0.9260, -1.2116,  2.2487, -0.2808],\n",
       "         [ 0.9137, -0.0300, -1.3763, -0.9151]], requires_grad=True),\n",
       " tensor([[ 0.5018, -1.3562,  0.1535, -0.0998],\n",
       "         [-1.3743, -0.1121, -0.2551,  0.4811]], requires_grad=True),\n",
       " tensor([[-0.2230,  0.2694,  1.3649, -0.1668],\n",
       "         [-1.2316,  0.8860,  0.3412, -2.6824]], requires_grad=True),\n",
       " tensor([[ 0.3305, -2.6648,  1.3529,  0.3278],\n",
       "         [-0.0496,  0.8581, -0.4668, -0.3255]], requires_grad=True),\n",
       " tensor([[ 0.4497,  0.4990, -1.1866,  0.5218],\n",
       "         [-0.4395, -0.2036, -0.3891, -0.7119]], requires_grad=True),\n",
       " tensor([[-0.7871,  0.5399,  0.0611,  1.9666],\n",
       "         [ 0.0858,  0.3797,  0.2046,  1.0463]], requires_grad=True)]"
      ]
     },
     "execution_count": 89,
     "metadata": {},
     "output_type": "execute_result"
    }
   ],
   "source": [
    "probs = list([torch.randn(2, 4, requires_grad=True) for i in range(8)])\n",
    "probs"
   ]
  },
  {
   "cell_type": "code",
   "execution_count": 91,
   "id": "991f5e6a",
   "metadata": {},
   "outputs": [
    {
     "data": {
      "text/plain": [
       "torch.Size([2, 8])"
      ]
     },
     "execution_count": 91,
     "metadata": {},
     "output_type": "execute_result"
    }
   ],
   "source": [
    "gt = torch.empty(2, 8, dtype=torch.long).random_(4)\n",
    "gt.shape"
   ]
  },
  {
   "cell_type": "code",
   "execution_count": 90,
   "id": "5426de07",
   "metadata": {},
   "outputs": [
    {
     "data": {
      "text/plain": [
       "torch.Size([2, 8, 4])"
      ]
     },
     "execution_count": 90,
     "metadata": {},
     "output_type": "execute_result"
    }
   ],
   "source": [
    "# method 1: stack all together and calculate the loss together\n",
    "\n",
    "input_probs = torch.stack([prob for prob in probs], dim=1)\n",
    "input_probs.shape"
   ]
  },
  {
   "cell_type": "code",
   "execution_count": 92,
   "id": "54d4a097",
   "metadata": {},
   "outputs": [
    {
     "name": "stdout",
     "output_type": "stream",
     "text": [
      "tensor(1.8924, grad_fn=<NllLoss2DBackward0>)\n"
     ]
    }
   ],
   "source": [
    "output = loss(input_probs.permute(0,2,1).contiguous(), gt)\n",
    "output.backward()\n",
    "\n",
    "print(output)"
   ]
  },
  {
   "cell_type": "code",
   "execution_count": 93,
   "id": "e8cca465",
   "metadata": {},
   "outputs": [
    {
     "name": "stdout",
     "output_type": "stream",
     "text": [
      "tensor(15.1393, grad_fn=<AddBackward0>)\n"
     ]
    }
   ],
   "source": [
    "# method 2: calculate the loss together and sum them up\n",
    "\n",
    "total_loss = sum([loss(probs[i], gt[:, i]) for i in range(len(probs))])\n",
    "print(total_loss)"
   ]
  },
  {
   "cell_type": "code",
   "execution_count": 95,
   "id": "991338ca",
   "metadata": {
    "scrolled": true
   },
   "outputs": [
    {
     "name": "stdout",
     "output_type": "stream",
     "text": [
      "tensor(1.8924, grad_fn=<DivBackward0>)\n"
     ]
    }
   ],
   "source": [
    "# the total loss should still be normalize by the number of the probs\n",
    "# with this the total loss will be the same as method one\n",
    "\n",
    "print(total_loss/8)"
   ]
  },
  {
   "cell_type": "code",
   "execution_count": null,
   "id": "a7f76e5d",
   "metadata": {},
   "outputs": [],
   "source": []
  },
  {
   "cell_type": "code",
   "execution_count": null,
   "id": "d9665e27",
   "metadata": {},
   "outputs": [],
   "source": []
  },
  {
   "cell_type": "markdown",
   "id": "20fd9b0a",
   "metadata": {},
   "source": [
    "# Debug SAM and Smooth Cross Entropy"
   ]
  },
  {
   "cell_type": "code",
   "execution_count": 1,
   "id": "6627c213",
   "metadata": {},
   "outputs": [],
   "source": [
    "import torch\n",
    "import torch.nn as nn\n",
    "\n",
    "from vit import ViT\n",
    "from evaluator import Evaluator\n",
    "\n",
    "from sam import SAM\n",
    "from smooth_cross_entropy import smooth_crossentropy\n",
    "from bypass_bn import enable_running_stats, disable_running_stats"
   ]
  },
  {
   "cell_type": "markdown",
   "id": "1e2011f7",
   "metadata": {},
   "source": [
    "### test with PHQ final score classification"
   ]
  },
  {
   "cell_type": "code",
   "execution_count": 2,
   "id": "f0198958",
   "metadata": {},
   "outputs": [],
   "source": [
    "# model init\n",
    "\n",
    "vit_model = ViT(image_size=224,\n",
    "                patch_size=8,\n",
    "                num_classes=512,\n",
    "                channels=1,\n",
    "                dim=256,\n",
    "                mlp_dim=512,\n",
    "                depth=6,\n",
    "                heads=8,\n",
    "                dropout=0)\n",
    "\n",
    "evaluator = Evaluator(feature_dim=512, \n",
    "                      output_dim=25, \n",
    "                      num_subscores=1)"
   ]
  },
  {
   "cell_type": "code",
   "execution_count": null,
   "id": "29cf613e",
   "metadata": {},
   "outputs": [],
   "source": [
    "# # weights = torch.tensor([1, 1.558, 3.987, 6.442])  # .type(torch.FloatTensor).to(args.device)  # [1, 1.558, 4.5, 8.5]\n",
    "# criterion = nn.CrossEntropyLoss()  # weight=weights\n",
    "# optimizer = torch.optim.Adam([*vit_model.parameters()] + [*evaluator.parameters()],\n",
    "#                              lr=1e-3,\n",
    "#                              betas=(0.9, 0.999),\n",
    "#                              weight_decay=1e-4)"
   ]
  },
  {
   "cell_type": "code",
   "execution_count": 3,
   "id": "6f973c5b",
   "metadata": {},
   "outputs": [],
   "source": [
    "# adaptive: True if you want to use the Adaptive SAM (ASAM)\n",
    "# rho: Rho parameter, SAM uses rho=0.05, while ASAM is set to rho=2.0\n",
    "\n",
    "criterion = nn.CrossEntropyLoss()\n",
    "\n",
    "base_optimizer = torch.optim.Adam\n",
    "optimizer = SAM([*vit_model.parameters()] + [*evaluator.parameters()], base_optimizer, \n",
    "                rho=2, adaptive=True, lr=1e-3, betas=(0.9, 0.999), weight_decay=1e-4)\n",
    "\n",
    "scheduler = torch.optim.lr_scheduler.StepLR(optimizer.base_optimizer,\n",
    "                                            step_size=5,\n",
    "                                            gamma=0.95)"
   ]
  },
  {
   "cell_type": "code",
   "execution_count": 4,
   "id": "b66639eb",
   "metadata": {},
   "outputs": [
    {
     "name": "stdout",
     "output_type": "stream",
     "text": [
      "torch.Size([2, 25])\n",
      "torch.Size([2])\n"
     ]
    }
   ],
   "source": [
    "# simulate the output of model\n",
    "# PHQ score (in batch form, batch_size 2)\n",
    "\n",
    "phq_prob = torch.randn(2, 25, requires_grad=True)  # softmax form of prediction of 2 different patients\n",
    "phq_gt = torch.empty(2, dtype=torch.long).random_(25)\n",
    "\n",
    "print(phq_prob.shape)\n",
    "print(phq_gt.shape)"
   ]
  },
  {
   "cell_type": "code",
   "execution_count": 10,
   "id": "5642e610",
   "metadata": {},
   "outputs": [
    {
     "data": {
      "text/plain": [
       "tensor([[[[-0.1310, -1.2633,  0.7059,  ...,  0.3686,  0.0203, -0.0375],\n",
       "          [-0.1175, -1.2313,  0.2745,  ...,  0.4869,  0.2856,  0.1122],\n",
       "          [-0.3002,  1.0113,  1.2075,  ..., -1.3309, -1.9842, -0.5626],\n",
       "          ...,\n",
       "          [-1.1158,  1.1819,  0.8780,  ...,  1.7356, -2.1449, -0.2274],\n",
       "          [-0.3337, -1.2851,  0.2570,  ..., -0.3468, -0.1090, -0.0880],\n",
       "          [-0.7197,  0.1122, -1.0753,  ..., -0.0814, -1.2248,  0.7795]]],\n",
       "\n",
       "\n",
       "        [[[ 2.1938, -1.6176,  0.2739,  ..., -1.8452, -0.8246,  0.3643],\n",
       "          [-1.0735, -0.2412, -1.6619,  ...,  0.4158, -0.4148, -0.6957],\n",
       "          [ 0.9939,  1.2642, -1.1842,  ...,  0.9578, -1.7012,  0.5436],\n",
       "          ...,\n",
       "          [-0.0983, -0.1069, -0.1733,  ..., -1.5017, -0.0951, -1.3922],\n",
       "          [-0.3066,  1.7677, -0.5713,  ..., -0.4543, -0.7442,  0.0639],\n",
       "          [ 0.0469,  0.3269, -1.4343,  ...,  0.3546, -0.1505,  0.6737]]]],\n",
       "       requires_grad=True)"
      ]
     },
     "execution_count": 10,
     "metadata": {},
     "output_type": "execute_result"
    }
   ],
   "source": [
    "# simulate the input data\n",
    "img = torch.randn(2, 1, 224, 224, requires_grad=True)\n",
    "img"
   ]
  },
  {
   "cell_type": "code",
   "execution_count": 6,
   "id": "d6830959",
   "metadata": {},
   "outputs": [],
   "source": [
    "# define model for starting prediction\n",
    "\n",
    "def test_model(model_input, vit_model, evaluator):\n",
    "    \n",
    "    feature_output = vit_model(model_input.view(2, 1, 224, 224))\n",
    "    probs_predict = evaluator(feature_output)\n",
    "    \n",
    "    return probs_predict[0]  # remember to convert to permute(0, 2, 1).contiguous() make sure dem-1 is softmax probabilities\n",
    "    \n",
    "# probs = evaluator(vit_model(img.view(2, 1, 224, 224)))"
   ]
  },
  {
   "cell_type": "code",
   "execution_count": 32,
   "id": "e7a0e6df",
   "metadata": {},
   "outputs": [
    {
     "name": "stdout",
     "output_type": "stream",
     "text": [
      "lenght of probs:  1 , shape of probs[0]:  torch.Size([2, 25])\n"
     ]
    },
    {
     "data": {
      "text/plain": [
       "torch.Size([2, 1, 25])"
      ]
     },
     "execution_count": 32,
     "metadata": {},
     "output_type": "execute_result"
    }
   ],
   "source": [
    "# print('lenght of probs: ', len(probs), ', shape of probs[0]: ', probs[0].shape)\n",
    "# phq_probs = torch.stack([prob for prob in probs], dim=1)\n",
    "# phq_probs.shape"
   ]
  },
  {
   "cell_type": "code",
   "execution_count": 7,
   "id": "e48b91a5",
   "metadata": {},
   "outputs": [],
   "source": [
    "models = [vit_model, evaluator]\n",
    "\n",
    "# first forward-backward pass\n",
    "for model in models:\n",
    "    enable_running_stats(model)\n",
    "loss = criterion(test_model(img, vit_model, evaluator), phq_gt)  # use this loss for any training statistics\n",
    "loss.backward()\n",
    "optimizer.first_step(zero_grad=True)\n",
    "\n",
    "# second forward-backward pass\n",
    "for model in models:\n",
    "    disable_running_stats(model)\n",
    "criterion(test_model(img, vit_model, evaluator), phq_gt).backward()  # make sure to do a full forward pass\n",
    "optimizer.second_step(zero_grad=True)\n"
   ]
  },
  {
   "cell_type": "code",
   "execution_count": null,
   "id": "5302c161",
   "metadata": {},
   "outputs": [],
   "source": []
  },
  {
   "cell_type": "markdown",
   "id": "a654cd99",
   "metadata": {},
   "source": [
    "### test with PHQ subscores classification"
   ]
  },
  {
   "cell_type": "code",
   "execution_count": 2,
   "id": "4f8d81f5",
   "metadata": {},
   "outputs": [],
   "source": [
    "# model init\n",
    "\n",
    "vit_model = ViT(image_size=224,\n",
    "                patch_size=8,\n",
    "                num_classes=512,\n",
    "                channels=1,\n",
    "                dim=256,\n",
    "                mlp_dim=512,\n",
    "                depth=6,\n",
    "                heads=8,\n",
    "                dropout=0)\n",
    "\n",
    "evaluator = Evaluator(feature_dim=512, \n",
    "                      output_dim=4, \n",
    "                      num_subscores=8)"
   ]
  },
  {
   "cell_type": "code",
   "execution_count": 3,
   "id": "b8538e7e",
   "metadata": {},
   "outputs": [],
   "source": [
    "# adaptive: True if you want to use the Adaptive SAM (ASAM)\n",
    "# rho: Rho parameter, SAM uses rho=0.05, while ASAM is set to rho=2.0\n",
    "\n",
    "criterion = nn.CrossEntropyLoss()\n",
    "\n",
    "base_optimizer = torch.optim.Adam\n",
    "optimizer = SAM([*vit_model.parameters()] + [*evaluator.parameters()], base_optimizer, \n",
    "                rho=2, adaptive=True, lr=1e-3, betas=(0.9, 0.999), weight_decay=1e-4)\n",
    "\n",
    "scheduler = torch.optim.lr_scheduler.StepLR(optimizer.base_optimizer,\n",
    "                                            step_size=5,\n",
    "                                            gamma=0.95)"
   ]
  },
  {
   "cell_type": "code",
   "execution_count": 4,
   "id": "ac06f592",
   "metadata": {},
   "outputs": [
    {
     "data": {
      "text/plain": [
       "torch.Size([2, 1, 224, 224])"
      ]
     },
     "execution_count": 4,
     "metadata": {},
     "output_type": "execute_result"
    }
   ],
   "source": [
    "# create ground truth: batch=2, num_subscore=8 \n",
    "phq_sub_gt = torch.empty(2, 8, dtype=torch.long).random_(4)\n",
    "\n",
    "# create input image\n",
    "img = torch.randn(2, 1, 224, 224, requires_grad=True)\n",
    "img.shape"
   ]
  },
  {
   "cell_type": "code",
   "execution_count": 29,
   "id": "a63852d3",
   "metadata": {},
   "outputs": [],
   "source": [
    "def whole_model(model_input, vit, evaluator):\n",
    "    \n",
    "    feature_output = vit(model_input.view(2, 1, 224, 224))\n",
    "    probs = evaluator(feature_output)\n",
    "    pred_prob = torch.stack([prob for prob in probs], dim=1)\n",
    "    \n",
    "    return pred_prob.permute(0, 2, 1).contiguous()  # make sure dem-1 is softmax probabilities"
   ]
  },
  {
   "cell_type": "code",
   "execution_count": 6,
   "id": "53e3abf9",
   "metadata": {},
   "outputs": [],
   "source": [
    "def whole_model(model_input):\n",
    "    \n",
    "    feature_output = vit_model(model_input.view(2, 1, 224, 224))\n",
    "    probs = evaluator(feature_output)\n",
    "    pred_prob = torch.stack([prob for prob in probs], dim=1)\n",
    "    \n",
    "    return pred_prob.permute(0, 2, 1).contiguous()  # make sure dem-1 is softmax probabilities\n",
    "\n",
    "models = [vit_model, evaluator]\n",
    "\n",
    "# first forward-backward pass\n",
    "for model in models:\n",
    "    enable_running_stats(model)\n",
    "loss = criterion(whole_model(img), phq_sub_gt)  # use this loss for any training statistics\n",
    "loss.backward()\n",
    "optimizer.first_step(zero_grad=True)\n",
    "\n",
    "# second forward-backward pass\n",
    "for model in models:\n",
    "    disable_running_stats(model)\n",
    "criterion(whole_model(img), phq_sub_gt).backward()  # make sure to do a full forward pass\n",
    "optimizer.second_step(zero_grad=True)"
   ]
  },
  {
   "cell_type": "code",
   "execution_count": 31,
   "id": "b48aa5e3",
   "metadata": {},
   "outputs": [],
   "source": [
    "models = [vit_model, evaluator]\n",
    "\n",
    "# first forward-backward pass\n",
    "for model in models:\n",
    "    enable_running_stats(model)\n",
    "loss = criterion(whole_model(img, vit_model, evaluator), phq_sub_gt)  # use this loss for any training statistics\n",
    "loss.backward()\n",
    "optimizer.first_step(zero_grad=True)\n",
    "\n",
    "# second forward-backward pass\n",
    "for model in models:\n",
    "    disable_running_stats(model)\n",
    "criterion(whole_model(img, vit_model, evaluator), phq_sub_gt).backward()  # make sure to do a full forward pass\n",
    "optimizer.second_step(zero_grad=True)"
   ]
  },
  {
   "cell_type": "code",
   "execution_count": 12,
   "id": "dcf41d23",
   "metadata": {},
   "outputs": [
    {
     "name": "stdout",
     "output_type": "stream",
     "text": [
      "torch.Size([2, 4, 8])\n",
      "torch.Size([2, 8])\n"
     ]
    }
   ],
   "source": [
    "# PHQ subscore (in batch form, batch_size 2)\n",
    "\n",
    "phq_sub_prob = torch.randn(2, 4, 8, requires_grad=True)  # softmax form of prediction of 2 different patients\n",
    "phq_sub_gt = torch.empty(2, 8, dtype=torch.long).random_(4)\n",
    "\n",
    "print(phq_sub_prob.shape)\n",
    "print(phq_sub_gt.shape)"
   ]
  },
  {
   "cell_type": "code",
   "execution_count": null,
   "id": "777956c9",
   "metadata": {},
   "outputs": [],
   "source": []
  },
  {
   "cell_type": "markdown",
   "id": "a79d5c4e",
   "metadata": {},
   "source": [
    "## smooth_crossentropy"
   ]
  },
  {
   "cell_type": "code",
   "execution_count": 63,
   "id": "ce8d6d06",
   "metadata": {},
   "outputs": [],
   "source": [
    "phq_prob = torch.randn(2, 25, requires_grad=True)  # softmax form of prediction of 2 different patients\n",
    "phq_gt = torch.empty(2, dtype=torch.long).random_(25)\n",
    "\n",
    "phq_sub_prob = torch.randn(2, 4, 8, requires_grad=True)  # softmax form of prediction of 2 different patients\n",
    "phq_sub_gt = torch.empty(2, 8, dtype=torch.long).random_(4)\n"
   ]
  },
  {
   "cell_type": "code",
   "execution_count": 33,
   "id": "58f616e4",
   "metadata": {},
   "outputs": [
    {
     "data": {
      "text/plain": [
       "tensor([3.9112, 2.2600], grad_fn=<SumBackward1>)"
      ]
     },
     "execution_count": 33,
     "metadata": {},
     "output_type": "execute_result"
    }
   ],
   "source": [
    "smooth_crossentropy(phq_prob, phq_gt)"
   ]
  },
  {
   "cell_type": "code",
   "execution_count": 65,
   "id": "690070a6",
   "metadata": {},
   "outputs": [
    {
     "data": {
      "text/plain": [
       "tensor(3.6044, grad_fn=<MeanBackward0>)"
      ]
     },
     "execution_count": 65,
     "metadata": {},
     "output_type": "execute_result"
    }
   ],
   "source": [
    "smooth_crossentropy(phq_sub_prob, phq_sub_gt).mean()"
   ]
  },
  {
   "cell_type": "code",
   "execution_count": 58,
   "id": "1b0e8ff8",
   "metadata": {},
   "outputs": [
    {
     "data": {
      "text/plain": [
       "[tensor([3.2226, 1.0394], grad_fn=<SumBackward1>),\n",
       " tensor([0.7981, 0.3276], grad_fn=<SumBackward1>),\n",
       " tensor([0.8274, 1.4762], grad_fn=<SumBackward1>),\n",
       " tensor([1.3610, 0.2850], grad_fn=<SumBackward1>),\n",
       " tensor([2.5182, 0.8310], grad_fn=<SumBackward1>),\n",
       " tensor([0.9896, 0.8131], grad_fn=<SumBackward1>),\n",
       " tensor([0.6210, 1.4662], grad_fn=<SumBackward1>),\n",
       " tensor([1.8269, 2.2105], grad_fn=<SumBackward1>)]"
      ]
     },
     "execution_count": 58,
     "metadata": {},
     "output_type": "execute_result"
    }
   ],
   "source": [
    "smooth_crossentropy(phq_sub_prob[:, :, i], phq_sub_gt[:, i]) for i in range(8)"
   ]
  },
  {
   "cell_type": "code",
   "execution_count": null,
   "id": "50d5cb9b",
   "metadata": {},
   "outputs": [],
   "source": []
  },
  {
   "cell_type": "code",
   "execution_count": null,
   "id": "68538ca9",
   "metadata": {},
   "outputs": [],
   "source": []
  },
  {
   "cell_type": "markdown",
   "id": "4683d667",
   "metadata": {},
   "source": [
    "# WeightedRandomSampler"
   ]
  },
  {
   "cell_type": "code",
   "execution_count": 52,
   "id": "97b75a77",
   "metadata": {},
   "outputs": [
    {
     "name": "stdout",
     "output_type": "stream",
     "text": [
      "target train 0/1: 900/100\n",
      "batch index 0, 0/1: 53/47\n",
      "batch index 1, 0/1: 47/53\n",
      "batch index 2, 0/1: 41/59\n",
      "batch index 3, 0/1: 48/52\n",
      "batch index 4, 0/1: 47/53\n",
      "batch index 5, 0/1: 52/48\n",
      "batch index 6, 0/1: 53/47\n",
      "batch index 7, 0/1: 49/51\n",
      "batch index 8, 0/1: 45/55\n",
      "batch index 9, 0/1: 51/49\n"
     ]
    }
   ],
   "source": [
    "# example\n",
    "\n",
    "import torch\n",
    "import numpy as np\n",
    "from torch.utils.data import WeightedRandomSampler, DataLoader\n",
    "\n",
    "numDataPoints = 1000\n",
    "data_dim = 5\n",
    "bs = 100\n",
    "\n",
    "# Create dummy data with class imbalance 9 to 1\n",
    "data = torch.FloatTensor(numDataPoints, data_dim)\n",
    "target = np.hstack((np.zeros(int(numDataPoints * 0.9), dtype=np.int32),\n",
    "                    np.ones(int(numDataPoints * 0.1), dtype=np.int32)))\n",
    "\n",
    "print('target train 0/1: {}/{}'.format(\n",
    "    len(np.where(target == 0)[0]), len(np.where(target == 1)[0])))\n",
    "\n",
    "# class_sample_count = np.array(\n",
    "#     [len(np.where(target == t)[0]) for t in np.unique(target)])\n",
    "class_sample_count = np.unique(target, return_counts=True)[1]\n",
    "\n",
    "weight = 1. / class_sample_count\n",
    "# samples_weight = np.array([weight[t] for t in target])\n",
    "samples_weight = weight[target]\n",
    "\n",
    "samples_weight = torch.from_numpy(samples_weight)\n",
    "samples_weight = samples_weight.double()\n",
    "sampler = WeightedRandomSampler(samples_weight, len(samples_weight))\n",
    "\n",
    "target = torch.from_numpy(target).long()\n",
    "train_dataset = torch.utils.data.TensorDataset(data, target)\n",
    "\n",
    "train_loader = DataLoader(\n",
    "    train_dataset, batch_size=bs, num_workers=1, sampler=sampler)\n",
    "\n",
    "for i, (data, target) in enumerate(train_loader):\n",
    "    print(\"batch index {}, 0/1: {}/{}\".format(i,\n",
    "                                              len(np.where(target.numpy() == 0)[0]),\n",
    "                                              len(np.where(target.numpy() == 1)[0])))"
   ]
  },
  {
   "cell_type": "code",
   "execution_count": 32,
   "id": "8805fbe9",
   "metadata": {},
   "outputs": [
    {
     "data": {
      "text/plain": [
       "array([0.00111111, 0.00111111, 0.00111111, 0.00111111, 0.00111111,\n",
       "       0.00111111, 0.00111111, 0.00111111, 0.00111111, 0.00111111,\n",
       "       0.00111111, 0.00111111, 0.00111111, 0.00111111, 0.00111111,\n",
       "       0.00111111, 0.00111111, 0.00111111, 0.00111111, 0.00111111,\n",
       "       0.00111111, 0.00111111, 0.00111111, 0.00111111, 0.00111111,\n",
       "       0.00111111, 0.00111111, 0.00111111, 0.00111111, 0.00111111,\n",
       "       0.00111111, 0.00111111, 0.00111111, 0.00111111, 0.00111111,\n",
       "       0.00111111, 0.00111111, 0.00111111, 0.00111111, 0.00111111,\n",
       "       0.00111111, 0.00111111, 0.00111111, 0.00111111, 0.00111111,\n",
       "       0.00111111, 0.00111111, 0.00111111, 0.00111111, 0.00111111,\n",
       "       0.00111111, 0.00111111, 0.00111111, 0.00111111, 0.00111111,\n",
       "       0.00111111, 0.00111111, 0.00111111, 0.00111111, 0.00111111,\n",
       "       0.00111111, 0.00111111, 0.00111111, 0.00111111, 0.00111111,\n",
       "       0.00111111, 0.00111111, 0.00111111, 0.00111111, 0.00111111,\n",
       "       0.00111111, 0.00111111, 0.00111111, 0.00111111, 0.00111111,\n",
       "       0.00111111, 0.00111111, 0.00111111, 0.00111111, 0.00111111,\n",
       "       0.00111111, 0.00111111, 0.00111111, 0.00111111, 0.00111111,\n",
       "       0.00111111, 0.00111111, 0.00111111, 0.00111111, 0.00111111,\n",
       "       0.00111111, 0.00111111, 0.00111111, 0.00111111, 0.00111111,\n",
       "       0.00111111, 0.00111111, 0.00111111, 0.00111111, 0.00111111,\n",
       "       0.00111111, 0.00111111, 0.00111111, 0.00111111, 0.00111111,\n",
       "       0.00111111, 0.00111111, 0.00111111, 0.00111111, 0.00111111,\n",
       "       0.00111111, 0.00111111, 0.00111111, 0.00111111, 0.00111111,\n",
       "       0.00111111, 0.00111111, 0.00111111, 0.00111111, 0.00111111,\n",
       "       0.00111111, 0.00111111, 0.00111111, 0.00111111, 0.00111111,\n",
       "       0.00111111, 0.00111111, 0.00111111, 0.00111111, 0.00111111,\n",
       "       0.00111111, 0.00111111, 0.00111111, 0.00111111, 0.00111111,\n",
       "       0.00111111, 0.00111111, 0.00111111, 0.00111111, 0.00111111,\n",
       "       0.00111111, 0.00111111, 0.00111111, 0.00111111, 0.00111111,\n",
       "       0.00111111, 0.00111111, 0.00111111, 0.00111111, 0.00111111,\n",
       "       0.00111111, 0.00111111, 0.00111111, 0.00111111, 0.00111111,\n",
       "       0.00111111, 0.00111111, 0.00111111, 0.00111111, 0.00111111,\n",
       "       0.00111111, 0.00111111, 0.00111111, 0.00111111, 0.00111111,\n",
       "       0.00111111, 0.00111111, 0.00111111, 0.00111111, 0.00111111,\n",
       "       0.00111111, 0.00111111, 0.00111111, 0.00111111, 0.00111111,\n",
       "       0.00111111, 0.00111111, 0.00111111, 0.00111111, 0.00111111,\n",
       "       0.00111111, 0.00111111, 0.00111111, 0.00111111, 0.00111111,\n",
       "       0.00111111, 0.00111111, 0.00111111, 0.00111111, 0.00111111,\n",
       "       0.00111111, 0.00111111, 0.00111111, 0.00111111, 0.00111111,\n",
       "       0.00111111, 0.00111111, 0.00111111, 0.00111111, 0.00111111,\n",
       "       0.00111111, 0.00111111, 0.00111111, 0.00111111, 0.00111111,\n",
       "       0.00111111, 0.00111111, 0.00111111, 0.00111111, 0.00111111,\n",
       "       0.00111111, 0.00111111, 0.00111111, 0.00111111, 0.00111111,\n",
       "       0.00111111, 0.00111111, 0.00111111, 0.00111111, 0.00111111,\n",
       "       0.00111111, 0.00111111, 0.00111111, 0.00111111, 0.00111111,\n",
       "       0.00111111, 0.00111111, 0.00111111, 0.00111111, 0.00111111,\n",
       "       0.00111111, 0.00111111, 0.00111111, 0.00111111, 0.00111111,\n",
       "       0.00111111, 0.00111111, 0.00111111, 0.00111111, 0.00111111,\n",
       "       0.00111111, 0.00111111, 0.00111111, 0.00111111, 0.00111111,\n",
       "       0.00111111, 0.00111111, 0.00111111, 0.00111111, 0.00111111,\n",
       "       0.00111111, 0.00111111, 0.00111111, 0.00111111, 0.00111111,\n",
       "       0.00111111, 0.00111111, 0.00111111, 0.00111111, 0.00111111,\n",
       "       0.00111111, 0.00111111, 0.00111111, 0.00111111, 0.00111111,\n",
       "       0.00111111, 0.00111111, 0.00111111, 0.00111111, 0.00111111,\n",
       "       0.00111111, 0.00111111, 0.00111111, 0.00111111, 0.00111111,\n",
       "       0.00111111, 0.00111111, 0.00111111, 0.00111111, 0.00111111,\n",
       "       0.00111111, 0.00111111, 0.00111111, 0.00111111, 0.00111111,\n",
       "       0.00111111, 0.00111111, 0.00111111, 0.00111111, 0.00111111,\n",
       "       0.00111111, 0.00111111, 0.00111111, 0.00111111, 0.00111111,\n",
       "       0.00111111, 0.00111111, 0.00111111, 0.00111111, 0.00111111,\n",
       "       0.00111111, 0.00111111, 0.00111111, 0.00111111, 0.00111111,\n",
       "       0.00111111, 0.00111111, 0.00111111, 0.00111111, 0.00111111,\n",
       "       0.00111111, 0.00111111, 0.00111111, 0.00111111, 0.00111111,\n",
       "       0.00111111, 0.00111111, 0.00111111, 0.00111111, 0.00111111,\n",
       "       0.00111111, 0.00111111, 0.00111111, 0.00111111, 0.00111111,\n",
       "       0.00111111, 0.00111111, 0.00111111, 0.00111111, 0.00111111,\n",
       "       0.00111111, 0.00111111, 0.00111111, 0.00111111, 0.00111111,\n",
       "       0.00111111, 0.00111111, 0.00111111, 0.00111111, 0.00111111,\n",
       "       0.00111111, 0.00111111, 0.00111111, 0.00111111, 0.00111111,\n",
       "       0.00111111, 0.00111111, 0.00111111, 0.00111111, 0.00111111,\n",
       "       0.00111111, 0.00111111, 0.00111111, 0.00111111, 0.00111111,\n",
       "       0.00111111, 0.00111111, 0.00111111, 0.00111111, 0.00111111,\n",
       "       0.00111111, 0.00111111, 0.00111111, 0.00111111, 0.00111111,\n",
       "       0.00111111, 0.00111111, 0.00111111, 0.00111111, 0.00111111,\n",
       "       0.00111111, 0.00111111, 0.00111111, 0.00111111, 0.00111111,\n",
       "       0.00111111, 0.00111111, 0.00111111, 0.00111111, 0.00111111,\n",
       "       0.00111111, 0.00111111, 0.00111111, 0.00111111, 0.00111111,\n",
       "       0.00111111, 0.00111111, 0.00111111, 0.00111111, 0.00111111,\n",
       "       0.00111111, 0.00111111, 0.00111111, 0.00111111, 0.00111111,\n",
       "       0.00111111, 0.00111111, 0.00111111, 0.00111111, 0.00111111,\n",
       "       0.00111111, 0.00111111, 0.00111111, 0.00111111, 0.00111111,\n",
       "       0.00111111, 0.00111111, 0.00111111, 0.00111111, 0.00111111,\n",
       "       0.00111111, 0.00111111, 0.00111111, 0.00111111, 0.00111111,\n",
       "       0.00111111, 0.00111111, 0.00111111, 0.00111111, 0.00111111,\n",
       "       0.00111111, 0.00111111, 0.00111111, 0.00111111, 0.00111111,\n",
       "       0.00111111, 0.00111111, 0.00111111, 0.00111111, 0.00111111,\n",
       "       0.00111111, 0.00111111, 0.00111111, 0.00111111, 0.00111111,\n",
       "       0.00111111, 0.00111111, 0.00111111, 0.00111111, 0.00111111,\n",
       "       0.00111111, 0.00111111, 0.00111111, 0.00111111, 0.00111111,\n",
       "       0.00111111, 0.00111111, 0.00111111, 0.00111111, 0.00111111,\n",
       "       0.00111111, 0.00111111, 0.00111111, 0.00111111, 0.00111111,\n",
       "       0.00111111, 0.00111111, 0.00111111, 0.00111111, 0.00111111,\n",
       "       0.00111111, 0.00111111, 0.00111111, 0.00111111, 0.00111111,\n",
       "       0.00111111, 0.00111111, 0.00111111, 0.00111111, 0.00111111,\n",
       "       0.00111111, 0.00111111, 0.00111111, 0.00111111, 0.00111111,\n",
       "       0.00111111, 0.00111111, 0.00111111, 0.00111111, 0.00111111,\n",
       "       0.00111111, 0.00111111, 0.00111111, 0.00111111, 0.00111111,\n",
       "       0.00111111, 0.00111111, 0.00111111, 0.00111111, 0.00111111,\n",
       "       0.00111111, 0.00111111, 0.00111111, 0.00111111, 0.00111111,\n",
       "       0.00111111, 0.00111111, 0.00111111, 0.00111111, 0.00111111,\n",
       "       0.00111111, 0.00111111, 0.00111111, 0.00111111, 0.00111111,\n",
       "       0.00111111, 0.00111111, 0.00111111, 0.00111111, 0.00111111,\n",
       "       0.00111111, 0.00111111, 0.00111111, 0.00111111, 0.00111111,\n",
       "       0.00111111, 0.00111111, 0.00111111, 0.00111111, 0.00111111,\n",
       "       0.00111111, 0.00111111, 0.00111111, 0.00111111, 0.00111111,\n",
       "       0.00111111, 0.00111111, 0.00111111, 0.00111111, 0.00111111,\n",
       "       0.00111111, 0.00111111, 0.00111111, 0.00111111, 0.00111111,\n",
       "       0.00111111, 0.00111111, 0.00111111, 0.00111111, 0.00111111,\n",
       "       0.00111111, 0.00111111, 0.00111111, 0.00111111, 0.00111111,\n",
       "       0.00111111, 0.00111111, 0.00111111, 0.00111111, 0.00111111,\n",
       "       0.00111111, 0.00111111, 0.00111111, 0.00111111, 0.00111111,\n",
       "       0.00111111, 0.00111111, 0.00111111, 0.00111111, 0.00111111,\n",
       "       0.00111111, 0.00111111, 0.00111111, 0.00111111, 0.00111111,\n",
       "       0.00111111, 0.00111111, 0.00111111, 0.00111111, 0.00111111,\n",
       "       0.00111111, 0.00111111, 0.00111111, 0.00111111, 0.00111111,\n",
       "       0.00111111, 0.00111111, 0.00111111, 0.00111111, 0.00111111,\n",
       "       0.00111111, 0.00111111, 0.00111111, 0.00111111, 0.00111111,\n",
       "       0.00111111, 0.00111111, 0.00111111, 0.00111111, 0.00111111,\n",
       "       0.00111111, 0.00111111, 0.00111111, 0.00111111, 0.00111111,\n",
       "       0.00111111, 0.00111111, 0.00111111, 0.00111111, 0.00111111,\n",
       "       0.00111111, 0.00111111, 0.00111111, 0.00111111, 0.00111111,\n",
       "       0.00111111, 0.00111111, 0.00111111, 0.00111111, 0.00111111,\n",
       "       0.00111111, 0.00111111, 0.00111111, 0.00111111, 0.00111111,\n",
       "       0.00111111, 0.00111111, 0.00111111, 0.00111111, 0.00111111,\n",
       "       0.00111111, 0.00111111, 0.00111111, 0.00111111, 0.00111111,\n",
       "       0.00111111, 0.00111111, 0.00111111, 0.00111111, 0.00111111,\n",
       "       0.00111111, 0.00111111, 0.00111111, 0.00111111, 0.00111111,\n",
       "       0.00111111, 0.00111111, 0.00111111, 0.00111111, 0.00111111,\n",
       "       0.00111111, 0.00111111, 0.00111111, 0.00111111, 0.00111111,\n",
       "       0.00111111, 0.00111111, 0.00111111, 0.00111111, 0.00111111,\n",
       "       0.00111111, 0.00111111, 0.00111111, 0.00111111, 0.00111111,\n",
       "       0.00111111, 0.00111111, 0.00111111, 0.00111111, 0.00111111,\n",
       "       0.00111111, 0.00111111, 0.00111111, 0.00111111, 0.00111111,\n",
       "       0.00111111, 0.00111111, 0.00111111, 0.00111111, 0.00111111,\n",
       "       0.00111111, 0.00111111, 0.00111111, 0.00111111, 0.00111111,\n",
       "       0.00111111, 0.00111111, 0.00111111, 0.00111111, 0.00111111,\n",
       "       0.00111111, 0.00111111, 0.00111111, 0.00111111, 0.00111111,\n",
       "       0.00111111, 0.00111111, 0.00111111, 0.00111111, 0.00111111,\n",
       "       0.00111111, 0.00111111, 0.00111111, 0.00111111, 0.00111111,\n",
       "       0.00111111, 0.00111111, 0.00111111, 0.00111111, 0.00111111,\n",
       "       0.00111111, 0.00111111, 0.00111111, 0.00111111, 0.00111111,\n",
       "       0.00111111, 0.00111111, 0.00111111, 0.00111111, 0.00111111,\n",
       "       0.00111111, 0.00111111, 0.00111111, 0.00111111, 0.00111111,\n",
       "       0.00111111, 0.00111111, 0.00111111, 0.00111111, 0.00111111,\n",
       "       0.00111111, 0.00111111, 0.00111111, 0.00111111, 0.00111111,\n",
       "       0.00111111, 0.00111111, 0.00111111, 0.00111111, 0.00111111,\n",
       "       0.00111111, 0.00111111, 0.00111111, 0.00111111, 0.00111111,\n",
       "       0.00111111, 0.00111111, 0.00111111, 0.00111111, 0.00111111,\n",
       "       0.00111111, 0.00111111, 0.00111111, 0.00111111, 0.00111111,\n",
       "       0.00111111, 0.00111111, 0.00111111, 0.00111111, 0.00111111,\n",
       "       0.00111111, 0.00111111, 0.00111111, 0.00111111, 0.00111111,\n",
       "       0.00111111, 0.00111111, 0.00111111, 0.00111111, 0.00111111,\n",
       "       0.00111111, 0.00111111, 0.00111111, 0.00111111, 0.00111111,\n",
       "       0.00111111, 0.00111111, 0.00111111, 0.00111111, 0.00111111,\n",
       "       0.00111111, 0.00111111, 0.00111111, 0.00111111, 0.00111111,\n",
       "       0.00111111, 0.00111111, 0.00111111, 0.00111111, 0.00111111,\n",
       "       0.00111111, 0.00111111, 0.00111111, 0.00111111, 0.00111111,\n",
       "       0.00111111, 0.00111111, 0.00111111, 0.00111111, 0.00111111,\n",
       "       0.00111111, 0.00111111, 0.00111111, 0.00111111, 0.00111111,\n",
       "       0.00111111, 0.00111111, 0.00111111, 0.00111111, 0.00111111,\n",
       "       0.00111111, 0.00111111, 0.00111111, 0.00111111, 0.00111111,\n",
       "       0.00111111, 0.00111111, 0.00111111, 0.00111111, 0.00111111,\n",
       "       0.00111111, 0.00111111, 0.00111111, 0.00111111, 0.00111111,\n",
       "       0.00111111, 0.00111111, 0.00111111, 0.00111111, 0.00111111,\n",
       "       0.00111111, 0.00111111, 0.00111111, 0.00111111, 0.00111111,\n",
       "       0.00111111, 0.00111111, 0.00111111, 0.00111111, 0.00111111,\n",
       "       0.00111111, 0.00111111, 0.00111111, 0.00111111, 0.00111111,\n",
       "       0.00111111, 0.00111111, 0.00111111, 0.00111111, 0.00111111,\n",
       "       0.00111111, 0.00111111, 0.00111111, 0.00111111, 0.00111111,\n",
       "       0.00111111, 0.00111111, 0.00111111, 0.00111111, 0.00111111,\n",
       "       0.00111111, 0.00111111, 0.00111111, 0.00111111, 0.00111111,\n",
       "       0.00111111, 0.00111111, 0.00111111, 0.00111111, 0.00111111,\n",
       "       0.00111111, 0.00111111, 0.00111111, 0.00111111, 0.00111111,\n",
       "       0.00111111, 0.00111111, 0.00111111, 0.00111111, 0.00111111,\n",
       "       0.00111111, 0.00111111, 0.00111111, 0.00111111, 0.00111111,\n",
       "       0.00111111, 0.00111111, 0.00111111, 0.00111111, 0.00111111,\n",
       "       0.00111111, 0.00111111, 0.00111111, 0.00111111, 0.00111111,\n",
       "       0.00111111, 0.00111111, 0.00111111, 0.00111111, 0.00111111,\n",
       "       0.00111111, 0.00111111, 0.00111111, 0.00111111, 0.00111111,\n",
       "       0.00111111, 0.00111111, 0.00111111, 0.00111111, 0.00111111,\n",
       "       0.01      , 0.01      , 0.01      , 0.01      , 0.01      ,\n",
       "       0.01      , 0.01      , 0.01      , 0.01      , 0.01      ,\n",
       "       0.01      , 0.01      , 0.01      , 0.01      , 0.01      ,\n",
       "       0.01      , 0.01      , 0.01      , 0.01      , 0.01      ,\n",
       "       0.01      , 0.01      , 0.01      , 0.01      , 0.01      ,\n",
       "       0.01      , 0.01      , 0.01      , 0.01      , 0.01      ,\n",
       "       0.01      , 0.01      , 0.01      , 0.01      , 0.01      ,\n",
       "       0.01      , 0.01      , 0.01      , 0.01      , 0.01      ,\n",
       "       0.01      , 0.01      , 0.01      , 0.01      , 0.01      ,\n",
       "       0.01      , 0.01      , 0.01      , 0.01      , 0.01      ,\n",
       "       0.01      , 0.01      , 0.01      , 0.01      , 0.01      ,\n",
       "       0.01      , 0.01      , 0.01      , 0.01      , 0.01      ,\n",
       "       0.01      , 0.01      , 0.01      , 0.01      , 0.01      ,\n",
       "       0.01      , 0.01      , 0.01      , 0.01      , 0.01      ,\n",
       "       0.01      , 0.01      , 0.01      , 0.01      , 0.01      ,\n",
       "       0.01      , 0.01      , 0.01      , 0.01      , 0.01      ,\n",
       "       0.01      , 0.01      , 0.01      , 0.01      , 0.01      ,\n",
       "       0.01      , 0.01      , 0.01      , 0.01      , 0.01      ,\n",
       "       0.01      , 0.01      , 0.01      , 0.01      , 0.01      ,\n",
       "       0.01      , 0.01      , 0.01      , 0.01      , 0.01      ])"
      ]
     },
     "execution_count": 32,
     "metadata": {},
     "output_type": "execute_result"
    }
   ],
   "source": [
    "samples_weight"
   ]
  },
  {
   "cell_type": "code",
   "execution_count": 54,
   "id": "f5e8ca34",
   "metadata": {},
   "outputs": [
    {
     "name": "stdout",
     "output_type": "stream",
     "text": [
      "target train 0/1: 1352/556\n",
      "class_sample_count: [1352  556]\n",
      "batch index 0, 0/1: 53/47\n",
      "batch index 1, 0/1: 45/55\n",
      "batch index 2, 0/1: 55/45\n",
      "batch index 3, 0/1: 47/53\n",
      "batch index 4, 0/1: 49/51\n",
      "batch index 5, 0/1: 51/49\n",
      "batch index 6, 0/1: 55/45\n",
      "batch index 7, 0/1: 48/52\n",
      "batch index 8, 0/1: 48/52\n",
      "batch index 9, 0/1: 48/52\n",
      "batch index 10, 0/1: 52/48\n",
      "batch index 11, 0/1: 56/44\n",
      "batch index 12, 0/1: 49/51\n",
      "batch index 13, 0/1: 47/53\n",
      "batch index 14, 0/1: 48/52\n",
      "batch index 15, 0/1: 46/54\n",
      "batch index 16, 0/1: 46/54\n",
      "batch index 17, 0/1: 44/56\n",
      "batch index 18, 0/1: 57/43\n",
      "batch index 19, 0/1: 4/4\n"
     ]
    }
   ],
   "source": [
    "data = torch.FloatTensor(1908, data_dim)\n",
    "\n",
    "phq_binary_gt = np.load('DAIC-WOZ Dataset/temp/phq_binary_gt.npy')\n",
    "print('target train 0/1: {}/{}'.format(\n",
    "    len(np.where(phq_binary_gt == 0)[0]), len(np.where(phq_binary_gt == 1)[0])))\n",
    "\n",
    "class_sample_count = np.unique(phq_binary_gt, return_counts=True)[1]\n",
    "print('class_sample_count: {}'.format(class_sample_count))\n",
    "\n",
    "weight = 1. / class_sample_count\n",
    "# samples_weight = np.array([weight[t] for t in target])\n",
    "samples_weight = weight[phq_binary_gt]\n",
    "\n",
    "samples_weight = torch.from_numpy(samples_weight)\n",
    "samples_weight = samples_weight.double()\n",
    "sampler = WeightedRandomSampler(samples_weight, len(samples_weight))\n",
    "\n",
    "phq_binary_gt = torch.from_numpy(phq_binary_gt).long()\n",
    "train_dataset = torch.utils.data.TensorDataset(data, phq_binary_gt)\n",
    "\n",
    "train_loader = DataLoader(\n",
    "    train_dataset, batch_size=bs, num_workers=1, sampler=sampler)\n",
    "\n",
    "for i, (data, target) in enumerate(train_loader):\n",
    "    print(\"batch index {}, 0/1: {}/{}\".format(i,\n",
    "                                              len(np.where(target.numpy() == 0)[0]),\n",
    "                                              len(np.where(target.numpy() == 1)[0])))"
   ]
  },
  {
   "cell_type": "code",
   "execution_count": null,
   "id": "e2ab52a3",
   "metadata": {},
   "outputs": [],
   "source": []
  },
  {
   "cell_type": "markdown",
   "id": "216cfb2f",
   "metadata": {},
   "source": [
    "# Debug DepAudioNet"
   ]
  },
  {
   "cell_type": "code",
   "execution_count": 79,
   "id": "83476f51",
   "metadata": {},
   "outputs": [],
   "source": [
    "import math\n",
    "import torch\n",
    "import torch.nn as nn\n",
    "\n",
    "\n",
    "def init_layer(layer):\n",
    "    \"\"\"Initialize a Linear or Convolutional layer.\n",
    "    Ref: He, Kaiming, et al. \"Delving deep into rectifiers: Surpassing\n",
    "    human-level performance on imagenet classification.\" Proceedings of the\n",
    "    IEEE international conference on computer vision. 2015.\n",
    "\n",
    "    Input\n",
    "        layer: torch.Tensor - The current layer of the neural network\n",
    "    \"\"\"\n",
    "\n",
    "    if layer.weight.ndimension() == 4:\n",
    "        (n_out, n_in, height, width) = layer.weight.size()\n",
    "        n = n_in * height * width\n",
    "    elif layer.weight.ndimension() == 3:\n",
    "        (n_out, n_in, height) = layer.weight.size()\n",
    "        n = n_in * height\n",
    "    elif layer.weight.ndimension() == 2:\n",
    "        (n_out, n) = layer.weight.size()\n",
    "\n",
    "    std = math.sqrt(2. / n)\n",
    "    scale = std * math.sqrt(3.)\n",
    "    layer.weight.data.uniform_(-scale, scale)\n",
    "\n",
    "    if layer.bias is not None:\n",
    "        layer.bias.data.fill_(0.)\n",
    "\n",
    "\n",
    "def init_lstm(layer):\n",
    "    \"\"\"\n",
    "    Initialises the hidden layers in the LSTM - H0 and C0.\n",
    "\n",
    "    Input\n",
    "        layer: torch.Tensor - The LSTM layer\n",
    "    \"\"\"\n",
    "    n_i1, n_i2 = layer.weight_ih_l0.size()\n",
    "    n_i = n_i1 * n_i2\n",
    "\n",
    "    std = math.sqrt(2. / n_i)\n",
    "    scale = std * math.sqrt(3.)\n",
    "    layer.weight_ih_l0.data.uniform_(-scale, scale)\n",
    "\n",
    "    if layer.bias_ih_l0 is not None:\n",
    "        layer.bias_ih_l0.data.fill_(0.)\n",
    "\n",
    "    n_h1, n_h2 = layer.weight_hh_l0.size()\n",
    "    n_h = n_h1 * n_h2\n",
    "\n",
    "    std = math.sqrt(2. / n_h)\n",
    "    scale = std * math.sqrt(3.)\n",
    "    layer.weight_hh_l0.data.uniform_(-scale, scale)\n",
    "\n",
    "    if layer.bias_hh_l0 is not None:\n",
    "        layer.bias_hh_l0.data.fill_(0.)\n",
    "\n",
    "\n",
    "def init_att_layer(layer):\n",
    "    \"\"\"\n",
    "    Initilise the weights and bias of the attention layer to 1 and 0\n",
    "    respectively. This is because the first iteration through the attention\n",
    "    mechanism should weight each time step equally.\n",
    "\n",
    "    Input\n",
    "        layer: torch.Tensor - The current layer of the neural network\n",
    "    \"\"\"\n",
    "    layer.weight.data.fill_(1.)\n",
    "\n",
    "    if layer.bias is not None:\n",
    "        layer.bias.data.fill_(0.)\n",
    "\n",
    "\n",
    "def init_bn(bn):\n",
    "    \"\"\"\n",
    "    Initialize a Batchnorm layer.\n",
    "\n",
    "    Input\n",
    "        bn: torch.Tensor - The batch normalisation layer\n",
    "    \"\"\"\n",
    "\n",
    "    bn.bias.data.fill_(0.)\n",
    "    bn.weight.data.fill_(1.)\n",
    "\n",
    "\n",
    "class ConvBlock1d(nn.Module):\n",
    "    \"\"\"\n",
    "    Creates an instance of a 1D convolutional layer. This includes the\n",
    "    convolutional filter but also the type of normalisation \"batch\" or\n",
    "    \"weight\", the activation function, and initialises the weights.\n",
    "    \"\"\"\n",
    "    def __init__(self, in_channels, out_channels, kernel, stride, pad,\n",
    "                 normalisation, dil=1):\n",
    "        super(ConvBlock1d, self).__init__()\n",
    "        self.norm = normalisation\n",
    "        self.conv1 = nn.Conv1d(in_channels=in_channels,\n",
    "                               out_channels=out_channels,\n",
    "                               kernel_size=kernel,\n",
    "                               stride=stride,\n",
    "                               padding=pad,\n",
    "                               dilation=dil)\n",
    "        if self.norm == 'bn':\n",
    "            self.bn1 = nn.BatchNorm1d(out_channels)\n",
    "        elif self.norm == 'wn':\n",
    "            self.conv1 = nn.utils.weight_norm(self.conv1, name='weight')\n",
    "        else:\n",
    "            self.conv1 = self.conv1\n",
    "        self.relu = nn.ReLU()\n",
    "        self.init_weights()\n",
    "\n",
    "    def init_weights(self):\n",
    "        \"\"\"\n",
    "        Initialises the weights of the current layer\n",
    "        \"\"\"\n",
    "        init_layer(self.conv1)\n",
    "        init_bn(self.bn1)\n",
    "\n",
    "    def forward(self, input):\n",
    "        \"\"\"\n",
    "        Passes the input through the convolutional filter\n",
    "\n",
    "        Input\n",
    "            input: torch.Tensor - The current input at this stage of the network\n",
    "        \"\"\"\n",
    "        x = input\n",
    "        if self.norm == 'bn':\n",
    "            x = self.relu(self.bn1(self.conv1(x)))\n",
    "        else:\n",
    "            x = self.relu(self.conv1(x))\n",
    "\n",
    "        return x\n",
    "\n",
    "\n",
    "class ConvBlock2d(nn.Module):\n",
    "    \"\"\"\n",
    "    Creates an instance of a 2D convolutional layer. This includes the\n",
    "    convolutional filter but also the type of normalisation \"batch\" or\n",
    "    \"weight\", the activation function, and initialises the weights.\n",
    "    \"\"\"\n",
    "    def __init__(self, in_channels, out_channels, kernel, stride, pad,\n",
    "                 normalisation, att=None):\n",
    "        super(ConvBlock2d, self).__init__()\n",
    "        self.norm = normalisation\n",
    "        self.conv1 = nn.Conv2d(in_channels=in_channels,\n",
    "                               out_channels=out_channels,\n",
    "                               kernel_size=kernel,\n",
    "                               stride=stride,\n",
    "                               padding=pad)\n",
    "        if self.norm == 'bn':\n",
    "            self.bn1 = nn.BatchNorm2d(out_channels)\n",
    "        elif self.norm == 'wn':\n",
    "            self.conv1 = nn.utils.weight_norm(self.conv1, name='weight')\n",
    "        else:\n",
    "            self.conv1 = self.conv1\n",
    "        self.att = att\n",
    "        if not self.att:\n",
    "            self.act = nn.ReLU()\n",
    "        else:\n",
    "            self.norm = None\n",
    "            if self.att == 'softmax':\n",
    "                self.act = nn.Softmax(dim=-1)\n",
    "            elif self.att == 'global':\n",
    "                self.act = None\n",
    "            else:\n",
    "                self.act = nn.Sigmoid()\n",
    "        self.init_weights()\n",
    "\n",
    "    def init_weights(self):\n",
    "        \"\"\"\n",
    "        Initialises the weights of the current layer\n",
    "        \"\"\"\n",
    "        if self.att:\n",
    "            init_att_layer(self.conv1)\n",
    "        else:\n",
    "            init_layer(self.conv1)\n",
    "        init_bn(self.bn1)\n",
    "\n",
    "    def forward(self, input):\n",
    "        \"\"\"\n",
    "        Passes the input through the convolutional filter\n",
    "\n",
    "        Input\n",
    "            input: torch.Tensor - The current input at this stage of the network\n",
    "        \"\"\"\n",
    "        x = input\n",
    "        if self.att:\n",
    "            x = self.conv1(x)\n",
    "            if self.act():\n",
    "                x = self.act(x)\n",
    "        else:\n",
    "            if self.norm == 'bn':\n",
    "                x = self.act(self.bn1(self.conv1(x)))\n",
    "            else:\n",
    "                x = self.act(self.conv1(x))\n",
    "\n",
    "        return x\n",
    "\n",
    "\n",
    "class FullyConnected(nn.Module):\n",
    "    \"\"\"\n",
    "    Creates an instance of a fully-connected layer. This includes the\n",
    "    hidden layers but also the type of normalisation \"batch\" or\n",
    "    \"weight\", the activation function, and initialises the weights.\n",
    "    \"\"\"\n",
    "    def __init__(self, in_channels, out_channels, activation, normalisation,\n",
    "                 att=None):\n",
    "        super(FullyConnected, self).__init__()\n",
    "        self.att = att\n",
    "        self.norm = normalisation\n",
    "        self.fc = nn.Linear(in_features=in_channels,\n",
    "                            out_features=out_channels)\n",
    "        if activation == 'sigmoid':\n",
    "            self.act = nn.Sigmoid()\n",
    "            self.norm = None\n",
    "        elif activation == 'softmax':\n",
    "            self.act = nn.Softmax(dim=-1)\n",
    "            self.norm = None\n",
    "        elif activation == 'global':\n",
    "            self.act = None\n",
    "            self.norm = None\n",
    "        else:\n",
    "            self.act = nn.ReLU()\n",
    "            if self.norm == 'bn':\n",
    "                self.bnf = nn.BatchNorm1d(out_channels)\n",
    "            elif self.norm == 'wn':\n",
    "                self.wnf = nn.utils.weight_norm(self.fc, name='weight')\n",
    "\n",
    "        self.init_weights()\n",
    "\n",
    "    def init_weights(self):\n",
    "        \"\"\"\n",
    "        Initialises the weights of the current layer\n",
    "        \"\"\"\n",
    "        if self.att:\n",
    "            init_att_layer(self.fc)\n",
    "        else:\n",
    "            init_layer(self.fc)\n",
    "        if self.norm == 'bn':\n",
    "            init_bn(self.bnf)\n",
    "\n",
    "    def forward(self, input):\n",
    "        \"\"\"\n",
    "        Passes the input through the fully-connected layer\n",
    "\n",
    "        Input\n",
    "            input: torch.Tensor - The current input at this stage of the network\n",
    "        \"\"\"\n",
    "        x = input\n",
    "        if self.norm is not None:\n",
    "            if self.norm == 'bn':\n",
    "                x = self.act(self.bnf(self.fc(x)))\n",
    "            else:\n",
    "                x = self.act(self.wnf(x))\n",
    "        else:\n",
    "            if self.att:\n",
    "                if self.act:\n",
    "                    x = self.act(self.fc(x))\n",
    "                else:\n",
    "                    x = self.fc(x)\n",
    "            else:\n",
    "                if self.act:\n",
    "                    x = self.act(self.fc(x))\n",
    "                else:\n",
    "                    x = self.fc(x)        \n",
    "\n",
    "        return x\n",
    "\n",
    "\n",
    "def lstm_with_attention(net_params):\n",
    "    if 'LSTM_1' in net_params:\n",
    "        arguments = net_params['LSTM_1']\n",
    "    else:\n",
    "        arguments = net_params['GRU_1']\n",
    "    if 'ATTENTION_1' in net_params and 'ATTENTION_Global' not in net_params:\n",
    "        if arguments[-1]:\n",
    "            return 'forward'\n",
    "        else:\n",
    "            return 'whole'\n",
    "    if 'ATTENTION_1' in net_params and 'ATTENTION_Global' in net_params:\n",
    "        if arguments[-1]:\n",
    "            return 'forward'\n",
    "        else:\n",
    "            return 'whole'\n",
    "    if 'ATTENTION_1' not in net_params and 'ATTENTION_Global' in net_params:\n",
    "        if arguments[-1]:\n",
    "            return 'forward_only'\n",
    "        else:\n",
    "            return 'forward_only'\n",
    "\n",
    "\n",
    "def reshape_x(x):\n",
    "    \"\"\"\n",
    "    Reshapes the input 'x' if there is a dimension of length 1\n",
    "\n",
    "    Input:\n",
    "        x: torch.Tensor - The input\n",
    "\n",
    "    Output:\n",
    "        x: torch.Tensor - Reshaped\n",
    "    \"\"\"\n",
    "    dims = x.dim()\n",
    "    if x.shape[1] == 1 and x.shape[2] == 1 and x.shape[3] == 1:\n",
    "        x = torch.reshape(x, (x.shape[0], 1))\n",
    "    elif dims == 4:\n",
    "        first, second, third, fourth = x.shape\n",
    "        if second == 1:\n",
    "            x = torch.reshape(x, (first, third, fourth))\n",
    "        elif third == 1:\n",
    "            x = torch.reshape(x, (first, second, fourth))\n",
    "        else:\n",
    "            x = torch.reshape(x, (first, second, third))\n",
    "    elif dims == 3:\n",
    "        first, second, third = x.shape\n",
    "        if second == 1:\n",
    "            x = torch.reshape(x, (first, third))\n",
    "        elif third == 1:\n",
    "            x = torch.reshape(x, (first, second))\n",
    "\n",
    "    return x\n",
    "\n",
    "\n",
    "class CustomMel(nn.Module):\n",
    "    def __init__(self, input_dim, output_dim, conv_hidden, lstm_hidden, num_layers, activation, norm, dropout):\n",
    "        super(CustomMel, self).__init__()\n",
    "        self.conv = ConvBlock1d(in_channels=input_dim,      # 80\n",
    "                                out_channels=conv_hidden,   # 128\n",
    "                                kernel=3,\n",
    "                                stride=1,\n",
    "                                pad=1,\n",
    "                                normalisation='bn')         # ['bn', 'wn', else]\n",
    "        self.pool = nn.MaxPool1d(kernel_size=3,\n",
    "                                 stride=3,\n",
    "                                 padding=0)\n",
    "        self.drop = nn.Dropout(dropout)                     # 0.2\n",
    "        self.lstm = nn.LSTM(input_size=conv_hidden,         # 128\n",
    "                            hidden_size=lstm_hidden,        # 128\n",
    "                            num_layers=num_layers,          # 2\n",
    "                            batch_first=True,\n",
    "                            bidirectional=False)\n",
    "        self.fc = FullyConnected(in_channels=lstm_hidden,   # 128\n",
    "                                 out_channels=output_dim,   # 2\n",
    "                                 activation=activation,     # ['sigmoid', 'softmax', 'global', else]\n",
    "                                 normalisation=norm)\n",
    "\n",
    "    def forward(self, net_input):\n",
    "        x = net_input\n",
    "        batch, freq, width = x.shape\n",
    "        x = self.conv(x)\n",
    "        x = self.pool(x)\n",
    "        x = self.drop(x)\n",
    "        x = torch.transpose(x, 1, 2)\n",
    "        x, _ = self.lstm(x)\n",
    "        x = self.fc(x[:, -1, :].reshape(batch, -1))\n",
    "\n",
    "        return x\n",
    "\n",
    "\n",
    "class CustomRaw(nn.Module):\n",
    "    def __init__(self, input_dim, output_dim, conv_hidden, lstm_hidden, num_layers, activation, dropout):\n",
    "        super(CustomRaw).__init__()\n",
    "        # x = [(in + (2*pad) - (kernel-1) - 1) / stride] + 1\n",
    "        self.conv1 = ConvBlock1d(in_channels=input_dim,     # 1\n",
    "                                 out_channels=conv_hidden,  # 128\n",
    "                                 kernel=1024,               # 512\n",
    "                                 stride=512,                # 512\n",
    "                                 pad=0,\n",
    "                                 dil=1,\n",
    "                                 normalisation='bn')\n",
    "\n",
    "        self.conv2 = ConvBlock1d(in_channels=conv_hidden,   # 128\n",
    "                                 out_channels=conv_hidden,  # 128\n",
    "                                 kernel=3,\n",
    "                                 stride=1,\n",
    "                                 pad=1,\n",
    "                                 normalisation='bn')\n",
    "\n",
    "        self.pool1 = nn.MaxPool1d(kernel_size=3,\n",
    "                                  stride=3,\n",
    "                                  padding=0)\n",
    "\n",
    "        self.drop = nn.Dropout(dropout)\n",
    "\n",
    "        self.lstm = nn.LSTM(input_size=conv_hidden,         # 128\n",
    "                            hidden_size=lstm_hidden,        # 128\n",
    "                            num_layers=num_layers,          # 2\n",
    "                            batch_first=True,\n",
    "                            bidirectional=False)\n",
    "\n",
    "        self.fc = FullyConnected(in_channels=lstm_hidden,   # 128\n",
    "                                 out_channels=output_dim,   # 2\n",
    "                                 activation=activation,     # ['sigmoid', 'softmax', 'global', else]\n",
    "                                 normalisation=None)\n",
    "\n",
    "    def forward(self, net_input):\n",
    "        x = net_input\n",
    "        batch, freq, width = x.shape\n",
    "        x = self.conv1(x)\n",
    "        x = self.conv2(x)\n",
    "        x = self.pool1(x)\n",
    "        x = self.drop(x)\n",
    "        x = torch.transpose(x, 1, 2)\n",
    "        x, _ = self.lstm(x)\n",
    "        x = self.fc(x[:, -1, :].reshape(batch, -1))\n",
    "\n",
    "        return x"
   ]
  },
  {
   "cell_type": "code",
   "execution_count": 80,
   "id": "fb9ac40a",
   "metadata": {},
   "outputs": [],
   "source": [
    "audio_net = CustomMel(input_dim=80, \n",
    "                      output_dim=768, \n",
    "                      conv_hidden=256, \n",
    "                      lstm_hidden=512, \n",
    "                      num_layers=2, \n",
    "                      activation='relu',\n",
    "                      norm = 'bn',\n",
    "                      dropout=0.2)"
   ]
  },
  {
   "cell_type": "code",
   "execution_count": 81,
   "id": "cf4649e1",
   "metadata": {},
   "outputs": [],
   "source": [
    "img = torch.randn(5, 80, 1800)\n",
    "# phq_gt = torch.empty(2, dtype=torch.long).random_(25)"
   ]
  },
  {
   "cell_type": "code",
   "execution_count": 82,
   "id": "987f53a5",
   "metadata": {},
   "outputs": [],
   "source": [
    "result = audio_net(img)"
   ]
  },
  {
   "cell_type": "code",
   "execution_count": 83,
   "id": "b168ee11",
   "metadata": {},
   "outputs": [
    {
     "data": {
      "text/plain": [
       "torch.Size([5, 768])"
      ]
     },
     "execution_count": 83,
     "metadata": {},
     "output_type": "execute_result"
    }
   ],
   "source": [
    "result.shape"
   ]
  },
  {
   "cell_type": "code",
   "execution_count": 86,
   "id": "4650531f",
   "metadata": {},
   "outputs": [
    {
     "data": {
      "text/plain": [
       "tensor([[0.0000, 0.0000, 0.0000,  ..., 0.0000, 1.9506, 0.6226],\n",
       "        [0.0000, 0.5860, 0.0000,  ..., 0.0180, 0.0000, 0.8483],\n",
       "        [0.6862, 0.0000, 1.6277,  ..., 0.0000, 0.0000, 0.0000],\n",
       "        [0.0000, 0.1792, 0.6214,  ..., 0.1073, 0.0000, 0.0000],\n",
       "        [1.4006, 1.4385, 0.0000,  ..., 1.4268, 0.0000, 0.6294]],\n",
       "       grad_fn=<ReluBackward0>)"
      ]
     },
     "execution_count": 86,
     "metadata": {},
     "output_type": "execute_result"
    }
   ],
   "source": [
    "result"
   ]
  },
  {
   "cell_type": "code",
   "execution_count": null,
   "id": "df8cee94",
   "metadata": {},
   "outputs": [],
   "source": []
  }
 ],
 "metadata": {
  "kernelspec": {
   "display_name": "Python 3 (ipykernel)",
   "language": "python",
   "name": "python3"
  },
  "language_info": {
   "codemirror_mode": {
    "name": "ipython",
    "version": 3
   },
   "file_extension": ".py",
   "mimetype": "text/x-python",
   "name": "python",
   "nbconvert_exporter": "python",
   "pygments_lexer": "ipython3",
   "version": "3.8.3"
  }
 },
 "nbformat": 4,
 "nbformat_minor": 5
}
